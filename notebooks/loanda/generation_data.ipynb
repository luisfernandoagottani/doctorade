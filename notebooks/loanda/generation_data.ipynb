{
 "cells": [
  {
   "cell_type": "code",
   "execution_count": 1,
   "metadata": {},
   "outputs": [],
   "source": [
    "import pandas as pd\n",
    "import requests\n",
    "import json\n",
    "import datetime as dt\n",
    "import os"
   ]
  },
  {
   "cell_type": "code",
   "execution_count": 2,
   "metadata": {},
   "outputs": [],
   "source": [
    "json_file_path = 'C:/Users/EMC/Documents/doutorado/doctorade/doctorade/data/loanda/loanda_data_curated.json'\n",
    "output_dir_path = 'C:/Users/EMC/Documents/doutorado/doctorade/doctorade/data/loanda/generation_data/'\n",
    "\n",
    "with open(json_file_path, \"r\") as json_file:\n",
    "    # Load the JSON data into a Python object.\n",
    "    json_data = json.load(json_file)\n",
    "\n",
    "pd_json_data = pd.DataFrame.from_dict(json_data)\n",
    "\n",
    "chunk_size=200000\n",
    "for i in range(0, len(pd_json_data), chunk_size):\n",
    "    pd_json_data.iloc[i:(i + chunk_size)].to_json(output_dir_path + 'loanda_data_curated_'+str(i)+'.json')"
   ]
  }
 ],
 "metadata": {
  "kernelspec": {
   "display_name": "Python 3",
   "language": "python",
   "name": "python3"
  },
  "language_info": {
   "codemirror_mode": {
    "name": "ipython",
    "version": 3
   },
   "file_extension": ".py",
   "mimetype": "text/x-python",
   "name": "python",
   "nbconvert_exporter": "python",
   "pygments_lexer": "ipython3",
   "version": "3.11.6"
  }
 },
 "nbformat": 4,
 "nbformat_minor": 2
}
