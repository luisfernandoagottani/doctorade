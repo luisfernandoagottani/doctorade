{
 "cells": [
  {
   "cell_type": "code",
   "execution_count": 9,
   "metadata": {},
   "outputs": [],
   "source": [
    "import pandas as pd\n",
    "import os"
   ]
  },
  {
   "cell_type": "code",
   "execution_count": 317,
   "metadata": {},
   "outputs": [],
   "source": [
    "results_total = pd.DataFrame()\n",
    "for file in os.listdir():\n",
    "    if pd.Series(file).str.contains('Results')[0]:\n",
    "        results = pd.read_csv(file)\n",
    "        results['file'] = str(file)\n",
    "        results_total = pd.concat([results_total,results])\n",
    "\n",
    "model = results_total['Unnamed: 0'].str.split('-',expand = True)\n",
    "model.columns = ['Variable', 'Model_Info', 'Threshold', 'Execution Time (s)']\n",
    "model['Execution Time (s)'] = model['Execution Time (s)'].str.split(':',expand=True)[1]\n",
    "model['Threshold'] = model['Threshold'].str.split(' * ',expand=True)[4]\n",
    "model['Models'] = model['Model_Info'].str.split('(',expand=True)[0]\n",
    "model['Contamination'] = model['Model_Info'].str.split('(',expand=True)[1].str.split('contamination=',expand=True)[1].str.split(',',expand=True)[0]\n",
    "model['n_neighbors'] = model['Model_Info'].str.split('(',expand=True)[1].str.split('n_neighbors=',expand=True)[1].str.split(',',expand=True)[0].str.split(')',expand=True)[0]\n",
    "model['n_estimators'] = model['Model_Info'].str.split('(',expand=True)[1].str.split('n_estimators=',expand=True)[1].str.split(',',expand=True)[0]\n",
    "\n",
    "results_total = pd.concat([results_total,model], axis=1)\n",
    "\n",
    "results_total['Model Type'] = results_total.file.str.split('_',expand=True)[0].str.split('Results',expand=True)[0]\n",
    "\n",
    "results_total['Test %'] = ((results_total.file.str.split('_',expand=True)[1].str.split('.',expand=True)[0].astype(int)-100)*(-1)).astype(str) + ' %'\n",
    "\n",
    "results_total = results_total[['Variable','Models', 'Model_Info', 'Model Type', 'Test %','Precision', 'Recall', 'Accuracy', 'F1-score', 'AUC',\n",
    "       'Train Ratio', 'Number of true anomalies',\n",
    "       'Number of predicted anomalies', 'True Positives', 'False Positives',\n",
    "       'True Negatives', 'False Negatives',\n",
    "       'Threshold', 'Execution Time (s)', 'Contamination',\n",
    "       'n_neighbors', 'n_estimators']]"
   ]
  },
  {
   "cell_type": "code",
   "execution_count": 337,
   "metadata": {},
   "outputs": [
    {
     "data": {
      "text/html": [
       "<div>\n",
       "<style scoped>\n",
       "    .dataframe tbody tr th:only-of-type {\n",
       "        vertical-align: middle;\n",
       "    }\n",
       "\n",
       "    .dataframe tbody tr th {\n",
       "        vertical-align: top;\n",
       "    }\n",
       "\n",
       "    .dataframe thead th {\n",
       "        text-align: right;\n",
       "    }\n",
       "</style>\n",
       "<table border=\"1\" class=\"dataframe\">\n",
       "  <thead>\n",
       "    <tr style=\"text-align: right;\">\n",
       "      <th></th>\n",
       "      <th>Variable</th>\n",
       "      <th>Models</th>\n",
       "      <th>Model_Info</th>\n",
       "      <th>Model Type</th>\n",
       "      <th>Test %</th>\n",
       "      <th>Precision</th>\n",
       "      <th>Recall</th>\n",
       "      <th>Accuracy</th>\n",
       "      <th>F1-score</th>\n",
       "      <th>AUC</th>\n",
       "      <th>...</th>\n",
       "      <th>Number of predicted anomalies</th>\n",
       "      <th>True Positives</th>\n",
       "      <th>False Positives</th>\n",
       "      <th>True Negatives</th>\n",
       "      <th>False Negatives</th>\n",
       "      <th>Threshold</th>\n",
       "      <th>Execution Time (s)</th>\n",
       "      <th>Contamination</th>\n",
       "      <th>n_neighbors</th>\n",
       "      <th>n_estimators</th>\n",
       "    </tr>\n",
       "  </thead>\n",
       "  <tbody>\n",
       "    <tr>\n",
       "      <th>0</th>\n",
       "      <td>DailyYield_B (KW)</td>\n",
       "      <td>LOF</td>\n",
       "      <td>LOF(algorithm='auto', contamination=0.001, le...</td>\n",
       "      <td>SemiSupervised</td>\n",
       "      <td>30 %</td>\n",
       "      <td>0.0</td>\n",
       "      <td>0.00</td>\n",
       "      <td>0.98</td>\n",
       "      <td>0.0</td>\n",
       "      <td>0.49</td>\n",
       "      <td>...</td>\n",
       "      <td>1814</td>\n",
       "      <td>0</td>\n",
       "      <td>1814</td>\n",
       "      <td>76718</td>\n",
       "      <td>35</td>\n",
       "      <td>11.95</td>\n",
       "      <td>0.23721981048583984</td>\n",
       "      <td>0.001</td>\n",
       "      <td>10</td>\n",
       "      <td>None</td>\n",
       "    </tr>\n",
       "    <tr>\n",
       "      <th>1</th>\n",
       "      <td>DailyYield_B (KW)</td>\n",
       "      <td>LOF</td>\n",
       "      <td>LOF(algorithm='auto', contamination=0.005, le...</td>\n",
       "      <td>SemiSupervised</td>\n",
       "      <td>30 %</td>\n",
       "      <td>0.0</td>\n",
       "      <td>0.00</td>\n",
       "      <td>0.97</td>\n",
       "      <td>0.0</td>\n",
       "      <td>0.49</td>\n",
       "      <td>...</td>\n",
       "      <td>2102</td>\n",
       "      <td>0</td>\n",
       "      <td>2102</td>\n",
       "      <td>76430</td>\n",
       "      <td>35</td>\n",
       "      <td>9.75</td>\n",
       "      <td>0.24769830703735352</td>\n",
       "      <td>0.005</td>\n",
       "      <td>10</td>\n",
       "      <td>None</td>\n",
       "    </tr>\n",
       "    <tr>\n",
       "      <th>2</th>\n",
       "      <td>DailyYield_B (KW)</td>\n",
       "      <td>LOF</td>\n",
       "      <td>LOF(algorithm='auto', contamination=0.01, lea...</td>\n",
       "      <td>SemiSupervised</td>\n",
       "      <td>30 %</td>\n",
       "      <td>0.0</td>\n",
       "      <td>0.00</td>\n",
       "      <td>0.97</td>\n",
       "      <td>0.0</td>\n",
       "      <td>0.48</td>\n",
       "      <td>...</td>\n",
       "      <td>2366</td>\n",
       "      <td>0</td>\n",
       "      <td>2366</td>\n",
       "      <td>76166</td>\n",
       "      <td>35</td>\n",
       "      <td>5.47</td>\n",
       "      <td>0.23105907440185547</td>\n",
       "      <td>0.01</td>\n",
       "      <td>10</td>\n",
       "      <td>None</td>\n",
       "    </tr>\n",
       "    <tr>\n",
       "      <th>3</th>\n",
       "      <td>DailyYield_B (KW)</td>\n",
       "      <td>LOF</td>\n",
       "      <td>LOF(algorithm='auto', contamination=0.05, lea...</td>\n",
       "      <td>SemiSupervised</td>\n",
       "      <td>30 %</td>\n",
       "      <td>0.0</td>\n",
       "      <td>0.09</td>\n",
       "      <td>0.93</td>\n",
       "      <td>0.0</td>\n",
       "      <td>0.51</td>\n",
       "      <td>...</td>\n",
       "      <td>5506</td>\n",
       "      <td>3</td>\n",
       "      <td>5503</td>\n",
       "      <td>73029</td>\n",
       "      <td>32</td>\n",
       "      <td>0.0</td>\n",
       "      <td>0.22705745697021484</td>\n",
       "      <td>0.05</td>\n",
       "      <td>10</td>\n",
       "      <td>None</td>\n",
       "    </tr>\n",
       "    <tr>\n",
       "      <th>4</th>\n",
       "      <td>DailyYield_B (KW)</td>\n",
       "      <td>LOF</td>\n",
       "      <td>LOF(algorithm='auto', contamination=0.1, leaf...</td>\n",
       "      <td>SemiSupervised</td>\n",
       "      <td>30 %</td>\n",
       "      <td>0.0</td>\n",
       "      <td>0.20</td>\n",
       "      <td>0.88</td>\n",
       "      <td>0.0</td>\n",
       "      <td>0.54</td>\n",
       "      <td>...</td>\n",
       "      <td>9764</td>\n",
       "      <td>7</td>\n",
       "      <td>9757</td>\n",
       "      <td>68775</td>\n",
       "      <td>28</td>\n",
       "      <td>0.0</td>\n",
       "      <td>0.213972806930542</td>\n",
       "      <td>0.1</td>\n",
       "      <td>10</td>\n",
       "      <td>None</td>\n",
       "    </tr>\n",
       "    <tr>\n",
       "      <th>...</th>\n",
       "      <td>...</td>\n",
       "      <td>...</td>\n",
       "      <td>...</td>\n",
       "      <td>...</td>\n",
       "      <td>...</td>\n",
       "      <td>...</td>\n",
       "      <td>...</td>\n",
       "      <td>...</td>\n",
       "      <td>...</td>\n",
       "      <td>...</td>\n",
       "      <td>...</td>\n",
       "      <td>...</td>\n",
       "      <td>...</td>\n",
       "      <td>...</td>\n",
       "      <td>...</td>\n",
       "      <td>...</td>\n",
       "      <td>...</td>\n",
       "      <td>...</td>\n",
       "      <td>...</td>\n",
       "      <td>...</td>\n",
       "      <td>...</td>\n",
       "    </tr>\n",
       "    <tr>\n",
       "      <th>115</th>\n",
       "      <td>AC_Power_B (KW)</td>\n",
       "      <td>ECOD</td>\n",
       "      <td>ECOD(contamination=0.005, n_jobs=1)</td>\n",
       "      <td>Unsupervised</td>\n",
       "      <td>10 %</td>\n",
       "      <td>0.0</td>\n",
       "      <td>0.57</td>\n",
       "      <td>0.91</td>\n",
       "      <td>0.0</td>\n",
       "      <td>0.74</td>\n",
       "      <td>...</td>\n",
       "      <td>2355</td>\n",
       "      <td>4</td>\n",
       "      <td>2351</td>\n",
       "      <td>23831</td>\n",
       "      <td>3</td>\n",
       "      <td>7.0</td>\n",
       "      <td>0.11273884773254395</td>\n",
       "      <td>0.005</td>\n",
       "      <td>None</td>\n",
       "      <td>None</td>\n",
       "    </tr>\n",
       "    <tr>\n",
       "      <th>116</th>\n",
       "      <td>AC_Power_B (KW)</td>\n",
       "      <td>ECOD</td>\n",
       "      <td>ECOD(contamination=0.01, n_jobs=1)</td>\n",
       "      <td>Unsupervised</td>\n",
       "      <td>10 %</td>\n",
       "      <td>0.0</td>\n",
       "      <td>0.57</td>\n",
       "      <td>0.91</td>\n",
       "      <td>0.0</td>\n",
       "      <td>0.74</td>\n",
       "      <td>...</td>\n",
       "      <td>2355</td>\n",
       "      <td>4</td>\n",
       "      <td>2351</td>\n",
       "      <td>23831</td>\n",
       "      <td>3</td>\n",
       "      <td>6.21</td>\n",
       "      <td>0.11586785316467285</td>\n",
       "      <td>0.01</td>\n",
       "      <td>None</td>\n",
       "      <td>None</td>\n",
       "    </tr>\n",
       "    <tr>\n",
       "      <th>117</th>\n",
       "      <td>AC_Power_B (KW)</td>\n",
       "      <td>ECOD</td>\n",
       "      <td>ECOD(contamination=0.05, n_jobs=1)</td>\n",
       "      <td>Unsupervised</td>\n",
       "      <td>10 %</td>\n",
       "      <td>0.0</td>\n",
       "      <td>0.57</td>\n",
       "      <td>0.91</td>\n",
       "      <td>0.0</td>\n",
       "      <td>0.74</td>\n",
       "      <td>...</td>\n",
       "      <td>2355</td>\n",
       "      <td>4</td>\n",
       "      <td>2351</td>\n",
       "      <td>23831</td>\n",
       "      <td>3</td>\n",
       "      <td>3.87</td>\n",
       "      <td>0.13408303260803223</td>\n",
       "      <td>0.05</td>\n",
       "      <td>None</td>\n",
       "      <td>None</td>\n",
       "    </tr>\n",
       "    <tr>\n",
       "      <th>118</th>\n",
       "      <td>AC_Power_B (KW)</td>\n",
       "      <td>ECOD</td>\n",
       "      <td>ECOD(contamination=0.1, n_jobs=1)</td>\n",
       "      <td>Unsupervised</td>\n",
       "      <td>10 %</td>\n",
       "      <td>0.0</td>\n",
       "      <td>0.57</td>\n",
       "      <td>0.91</td>\n",
       "      <td>0.0</td>\n",
       "      <td>0.74</td>\n",
       "      <td>...</td>\n",
       "      <td>2355</td>\n",
       "      <td>4</td>\n",
       "      <td>2351</td>\n",
       "      <td>23831</td>\n",
       "      <td>3</td>\n",
       "      <td>2.89</td>\n",
       "      <td>0.12428545951843262</td>\n",
       "      <td>0.1</td>\n",
       "      <td>None</td>\n",
       "      <td>None</td>\n",
       "    </tr>\n",
       "    <tr>\n",
       "      <th>119</th>\n",
       "      <td>AC_Power_B (KW)</td>\n",
       "      <td>ECOD</td>\n",
       "      <td>ECOD(contamination=0.15, n_jobs=1)</td>\n",
       "      <td>Unsupervised</td>\n",
       "      <td>10 %</td>\n",
       "      <td>0.0</td>\n",
       "      <td>0.57</td>\n",
       "      <td>0.90</td>\n",
       "      <td>0.0</td>\n",
       "      <td>0.74</td>\n",
       "      <td>...</td>\n",
       "      <td>2493</td>\n",
       "      <td>4</td>\n",
       "      <td>2489</td>\n",
       "      <td>23693</td>\n",
       "      <td>3</td>\n",
       "      <td>2.42</td>\n",
       "      <td>0.11903715133666992</td>\n",
       "      <td>0.15</td>\n",
       "      <td>None</td>\n",
       "      <td>None</td>\n",
       "    </tr>\n",
       "  </tbody>\n",
       "</table>\n",
       "<p>720 rows × 22 columns</p>\n",
       "</div>"
      ],
      "text/plain": [
       "               Variable Models   \n",
       "0    DailyYield_B (KW)     LOF  \\\n",
       "1    DailyYield_B (KW)     LOF   \n",
       "2    DailyYield_B (KW)     LOF   \n",
       "3    DailyYield_B (KW)     LOF   \n",
       "4    DailyYield_B (KW)     LOF   \n",
       "..                  ...    ...   \n",
       "115    AC_Power_B (KW)    ECOD   \n",
       "116    AC_Power_B (KW)    ECOD   \n",
       "117    AC_Power_B (KW)    ECOD   \n",
       "118    AC_Power_B (KW)    ECOD   \n",
       "119    AC_Power_B (KW)    ECOD   \n",
       "\n",
       "                                            Model_Info      Model Type Test %   \n",
       "0     LOF(algorithm='auto', contamination=0.001, le...  SemiSupervised   30 %  \\\n",
       "1     LOF(algorithm='auto', contamination=0.005, le...  SemiSupervised   30 %   \n",
       "2     LOF(algorithm='auto', contamination=0.01, lea...  SemiSupervised   30 %   \n",
       "3     LOF(algorithm='auto', contamination=0.05, lea...  SemiSupervised   30 %   \n",
       "4     LOF(algorithm='auto', contamination=0.1, leaf...  SemiSupervised   30 %   \n",
       "..                                                 ...             ...    ...   \n",
       "115               ECOD(contamination=0.005, n_jobs=1)     Unsupervised   10 %   \n",
       "116                ECOD(contamination=0.01, n_jobs=1)     Unsupervised   10 %   \n",
       "117                ECOD(contamination=0.05, n_jobs=1)     Unsupervised   10 %   \n",
       "118                 ECOD(contamination=0.1, n_jobs=1)     Unsupervised   10 %   \n",
       "119                ECOD(contamination=0.15, n_jobs=1)     Unsupervised   10 %   \n",
       "\n",
       "     Precision  Recall  Accuracy  F1-score   AUC  ...   \n",
       "0          0.0    0.00      0.98       0.0  0.49  ...  \\\n",
       "1          0.0    0.00      0.97       0.0  0.49  ...   \n",
       "2          0.0    0.00      0.97       0.0  0.48  ...   \n",
       "3          0.0    0.09      0.93       0.0  0.51  ...   \n",
       "4          0.0    0.20      0.88       0.0  0.54  ...   \n",
       "..         ...     ...       ...       ...   ...  ...   \n",
       "115        0.0    0.57      0.91       0.0  0.74  ...   \n",
       "116        0.0    0.57      0.91       0.0  0.74  ...   \n",
       "117        0.0    0.57      0.91       0.0  0.74  ...   \n",
       "118        0.0    0.57      0.91       0.0  0.74  ...   \n",
       "119        0.0    0.57      0.90       0.0  0.74  ...   \n",
       "\n",
       "     Number of predicted anomalies  True Positives  False Positives   \n",
       "0                             1814               0             1814  \\\n",
       "1                             2102               0             2102   \n",
       "2                             2366               0             2366   \n",
       "3                             5506               3             5503   \n",
       "4                             9764               7             9757   \n",
       "..                             ...             ...              ...   \n",
       "115                           2355               4             2351   \n",
       "116                           2355               4             2351   \n",
       "117                           2355               4             2351   \n",
       "118                           2355               4             2351   \n",
       "119                           2493               4             2489   \n",
       "\n",
       "     True Negatives  False Negatives  Threshold    Execution Time (s)   \n",
       "0             76718               35      11.95   0.23721981048583984  \\\n",
       "1             76430               35       9.75   0.24769830703735352   \n",
       "2             76166               35       5.47   0.23105907440185547   \n",
       "3             73029               32        0.0   0.22705745697021484   \n",
       "4             68775               28        0.0     0.213972806930542   \n",
       "..              ...              ...        ...                   ...   \n",
       "115           23831                3        7.0   0.11273884773254395   \n",
       "116           23831                3       6.21   0.11586785316467285   \n",
       "117           23831                3       3.87   0.13408303260803223   \n",
       "118           23831                3       2.89   0.12428545951843262   \n",
       "119           23693                3       2.42   0.11903715133666992   \n",
       "\n",
       "    Contamination n_neighbors n_estimators  \n",
       "0           0.001          10         None  \n",
       "1           0.005          10         None  \n",
       "2            0.01          10         None  \n",
       "3            0.05          10         None  \n",
       "4             0.1          10         None  \n",
       "..            ...         ...          ...  \n",
       "115         0.005        None         None  \n",
       "116          0.01        None         None  \n",
       "117          0.05        None         None  \n",
       "118           0.1        None         None  \n",
       "119          0.15        None         None  \n",
       "\n",
       "[720 rows x 22 columns]"
      ]
     },
     "execution_count": 337,
     "metadata": {},
     "output_type": "execute_result"
    }
   ],
   "source": [
    "results_total"
   ]
  },
  {
   "cell_type": "code",
   "execution_count": 342,
   "metadata": {},
   "outputs": [
    {
     "data": {
      "text/html": [
       "<div>\n",
       "<style scoped>\n",
       "    .dataframe tbody tr th:only-of-type {\n",
       "        vertical-align: middle;\n",
       "    }\n",
       "\n",
       "    .dataframe tbody tr th {\n",
       "        vertical-align: top;\n",
       "    }\n",
       "\n",
       "    .dataframe thead tr th {\n",
       "        text-align: left;\n",
       "    }\n",
       "\n",
       "    .dataframe thead tr:last-of-type th {\n",
       "        text-align: right;\n",
       "    }\n",
       "</style>\n",
       "<table border=\"1\" class=\"dataframe\">\n",
       "  <thead>\n",
       "    <tr>\n",
       "      <th></th>\n",
       "      <th></th>\n",
       "      <th colspan=\"3\" halign=\"left\">AUC</th>\n",
       "      <th colspan=\"3\" halign=\"left\">Accuracy</th>\n",
       "      <th colspan=\"3\" halign=\"left\">F1-score</th>\n",
       "      <th colspan=\"3\" halign=\"left\">Precision</th>\n",
       "    </tr>\n",
       "    <tr>\n",
       "      <th></th>\n",
       "      <th>Test %</th>\n",
       "      <th>10 %</th>\n",
       "      <th>20 %</th>\n",
       "      <th>30 %</th>\n",
       "      <th>10 %</th>\n",
       "      <th>20 %</th>\n",
       "      <th>30 %</th>\n",
       "      <th>10 %</th>\n",
       "      <th>20 %</th>\n",
       "      <th>30 %</th>\n",
       "      <th>10 %</th>\n",
       "      <th>20 %</th>\n",
       "      <th>30 %</th>\n",
       "    </tr>\n",
       "    <tr>\n",
       "      <th>Model Type</th>\n",
       "      <th>Models</th>\n",
       "      <th></th>\n",
       "      <th></th>\n",
       "      <th></th>\n",
       "      <th></th>\n",
       "      <th></th>\n",
       "      <th></th>\n",
       "      <th></th>\n",
       "      <th></th>\n",
       "      <th></th>\n",
       "      <th></th>\n",
       "      <th></th>\n",
       "      <th></th>\n",
       "    </tr>\n",
       "  </thead>\n",
       "  <tbody>\n",
       "    <tr>\n",
       "      <th rowspan=\"6\" valign=\"top\">SemiSupervised</th>\n",
       "      <th>ABOD</th>\n",
       "      <td>0.50</td>\n",
       "      <td>0.50</td>\n",
       "      <td>0.50</td>\n",
       "      <td>1.00</td>\n",
       "      <td>1.00</td>\n",
       "      <td>1.00</td>\n",
       "      <td>0.00</td>\n",
       "      <td>0.00</td>\n",
       "      <td>0.00</td>\n",
       "      <td>0.0</td>\n",
       "      <td>0.00</td>\n",
       "      <td>0.00</td>\n",
       "    </tr>\n",
       "    <tr>\n",
       "      <th>ECOD</th>\n",
       "      <td>0.76</td>\n",
       "      <td>0.82</td>\n",
       "      <td>0.87</td>\n",
       "      <td>0.96</td>\n",
       "      <td>0.95</td>\n",
       "      <td>0.95</td>\n",
       "      <td>0.01</td>\n",
       "      <td>0.01</td>\n",
       "      <td>0.02</td>\n",
       "      <td>0.0</td>\n",
       "      <td>0.01</td>\n",
       "      <td>0.01</td>\n",
       "    </tr>\n",
       "    <tr>\n",
       "      <th>HBOS</th>\n",
       "      <td>0.79</td>\n",
       "      <td>0.82</td>\n",
       "      <td>0.88</td>\n",
       "      <td>1.00</td>\n",
       "      <td>1.00</td>\n",
       "      <td>1.00</td>\n",
       "      <td>0.73</td>\n",
       "      <td>0.74</td>\n",
       "      <td>0.73</td>\n",
       "      <td>1.0</td>\n",
       "      <td>0.88</td>\n",
       "      <td>0.69</td>\n",
       "    </tr>\n",
       "    <tr>\n",
       "      <th>IForest</th>\n",
       "      <td>0.64</td>\n",
       "      <td>0.66</td>\n",
       "      <td>0.69</td>\n",
       "      <td>1.00</td>\n",
       "      <td>1.00</td>\n",
       "      <td>1.00</td>\n",
       "      <td>0.44</td>\n",
       "      <td>0.44</td>\n",
       "      <td>0.47</td>\n",
       "      <td>1.0</td>\n",
       "      <td>0.70</td>\n",
       "      <td>0.65</td>\n",
       "    </tr>\n",
       "    <tr>\n",
       "      <th>KNN</th>\n",
       "      <td>0.79</td>\n",
       "      <td>0.84</td>\n",
       "      <td>0.89</td>\n",
       "      <td>1.00</td>\n",
       "      <td>1.00</td>\n",
       "      <td>1.00</td>\n",
       "      <td>0.73</td>\n",
       "      <td>0.75</td>\n",
       "      <td>0.73</td>\n",
       "      <td>1.0</td>\n",
       "      <td>0.83</td>\n",
       "      <td>0.69</td>\n",
       "    </tr>\n",
       "    <tr>\n",
       "      <th>LOF</th>\n",
       "      <td>0.64</td>\n",
       "      <td>0.68</td>\n",
       "      <td>0.70</td>\n",
       "      <td>1.00</td>\n",
       "      <td>1.00</td>\n",
       "      <td>1.00</td>\n",
       "      <td>0.44</td>\n",
       "      <td>0.53</td>\n",
       "      <td>0.58</td>\n",
       "      <td>1.0</td>\n",
       "      <td>1.00</td>\n",
       "      <td>1.00</td>\n",
       "    </tr>\n",
       "    <tr>\n",
       "      <th rowspan=\"6\" valign=\"top\">Unsupervised</th>\n",
       "      <th>ABOD</th>\n",
       "      <td>0.50</td>\n",
       "      <td>0.50</td>\n",
       "      <td>0.50</td>\n",
       "      <td>1.00</td>\n",
       "      <td>1.00</td>\n",
       "      <td>1.00</td>\n",
       "      <td>0.00</td>\n",
       "      <td>0.00</td>\n",
       "      <td>0.00</td>\n",
       "      <td>0.0</td>\n",
       "      <td>0.00</td>\n",
       "      <td>0.00</td>\n",
       "    </tr>\n",
       "    <tr>\n",
       "      <th>ECOD</th>\n",
       "      <td>0.74</td>\n",
       "      <td>0.79</td>\n",
       "      <td>0.84</td>\n",
       "      <td>0.91</td>\n",
       "      <td>0.89</td>\n",
       "      <td>0.90</td>\n",
       "      <td>0.00</td>\n",
       "      <td>0.01</td>\n",
       "      <td>0.01</td>\n",
       "      <td>0.0</td>\n",
       "      <td>0.00</td>\n",
       "      <td>0.01</td>\n",
       "    </tr>\n",
       "    <tr>\n",
       "      <th>HBOS</th>\n",
       "      <td>0.64</td>\n",
       "      <td>0.64</td>\n",
       "      <td>0.68</td>\n",
       "      <td>1.00</td>\n",
       "      <td>1.00</td>\n",
       "      <td>1.00</td>\n",
       "      <td>0.44</td>\n",
       "      <td>0.43</td>\n",
       "      <td>0.53</td>\n",
       "      <td>1.0</td>\n",
       "      <td>1.00</td>\n",
       "      <td>1.00</td>\n",
       "    </tr>\n",
       "    <tr>\n",
       "      <th>IForest</th>\n",
       "      <td>0.64</td>\n",
       "      <td>0.66</td>\n",
       "      <td>0.69</td>\n",
       "      <td>1.00</td>\n",
       "      <td>1.00</td>\n",
       "      <td>1.00</td>\n",
       "      <td>0.44</td>\n",
       "      <td>0.44</td>\n",
       "      <td>0.42</td>\n",
       "      <td>1.0</td>\n",
       "      <td>0.70</td>\n",
       "      <td>0.48</td>\n",
       "    </tr>\n",
       "    <tr>\n",
       "      <th>KNN</th>\n",
       "      <td>0.79</td>\n",
       "      <td>0.84</td>\n",
       "      <td>0.89</td>\n",
       "      <td>1.00</td>\n",
       "      <td>1.00</td>\n",
       "      <td>1.00</td>\n",
       "      <td>0.73</td>\n",
       "      <td>0.75</td>\n",
       "      <td>0.72</td>\n",
       "      <td>1.0</td>\n",
       "      <td>0.83</td>\n",
       "      <td>0.67</td>\n",
       "    </tr>\n",
       "    <tr>\n",
       "      <th>LOF</th>\n",
       "      <td>0.64</td>\n",
       "      <td>0.70</td>\n",
       "      <td>0.85</td>\n",
       "      <td>1.00</td>\n",
       "      <td>1.00</td>\n",
       "      <td>1.00</td>\n",
       "      <td>0.33</td>\n",
       "      <td>0.50</td>\n",
       "      <td>0.66</td>\n",
       "      <td>0.4</td>\n",
       "      <td>0.64</td>\n",
       "      <td>0.63</td>\n",
       "    </tr>\n",
       "  </tbody>\n",
       "</table>\n",
       "</div>"
      ],
      "text/plain": [
       "                          AUC             Accuracy             F1-score         \n",
       "Test %                   10 %  20 %  30 %     10 %  20 %  30 %     10 %  20 %   \n",
       "Model Type     Models                                                           \n",
       "SemiSupervised  ABOD     0.50  0.50  0.50     1.00  1.00  1.00     0.00  0.00  \\\n",
       "                ECOD     0.76  0.82  0.87     0.96  0.95  0.95     0.01  0.01   \n",
       "                HBOS     0.79  0.82  0.88     1.00  1.00  1.00     0.73  0.74   \n",
       "                IForest  0.64  0.66  0.69     1.00  1.00  1.00     0.44  0.44   \n",
       "                KNN      0.79  0.84  0.89     1.00  1.00  1.00     0.73  0.75   \n",
       "                LOF      0.64  0.68  0.70     1.00  1.00  1.00     0.44  0.53   \n",
       "Unsupervised    ABOD     0.50  0.50  0.50     1.00  1.00  1.00     0.00  0.00   \n",
       "                ECOD     0.74  0.79  0.84     0.91  0.89  0.90     0.00  0.01   \n",
       "                HBOS     0.64  0.64  0.68     1.00  1.00  1.00     0.44  0.43   \n",
       "                IForest  0.64  0.66  0.69     1.00  1.00  1.00     0.44  0.44   \n",
       "                KNN      0.79  0.84  0.89     1.00  1.00  1.00     0.73  0.75   \n",
       "                LOF      0.64  0.70  0.85     1.00  1.00  1.00     0.33  0.50   \n",
       "\n",
       "                              Precision              \n",
       "Test %                   30 %      10 %  20 %  30 %  \n",
       "Model Type     Models                                \n",
       "SemiSupervised  ABOD     0.00       0.0  0.00  0.00  \n",
       "                ECOD     0.02       0.0  0.01  0.01  \n",
       "                HBOS     0.73       1.0  0.88  0.69  \n",
       "                IForest  0.47       1.0  0.70  0.65  \n",
       "                KNN      0.73       1.0  0.83  0.69  \n",
       "                LOF      0.58       1.0  1.00  1.00  \n",
       "Unsupervised    ABOD     0.00       0.0  0.00  0.00  \n",
       "                ECOD     0.01       0.0  0.00  0.01  \n",
       "                HBOS     0.53       1.0  1.00  1.00  \n",
       "                IForest  0.42       1.0  0.70  0.48  \n",
       "                KNN      0.72       1.0  0.83  0.67  \n",
       "                LOF      0.66       0.4  0.64  0.63  "
      ]
     },
     "execution_count": 342,
     "metadata": {},
     "output_type": "execute_result"
    }
   ],
   "source": [
    "import plotly.express as px\n",
    "df = results_total.copy()\n",
    "df = df.reset_index(drop=True)\n",
    "df = df[df['Variable'] == 'AC_Power_B (KW) ']\n",
    "df = df.loc[df.groupby(['Variable','Models', 'Model Type','Test %'])['F1-score'].idxmax().values,:].sort_values(by='F1-score', ascending = False)\n",
    "pd.pivot_table(df, values = [\"F1-score\",\"AUC\",\"Accuracy\",\"Precision\"], index = [\"Model Type\",\"Models\"], columns= \"Test %\")"
   ]
  },
  {
   "cell_type": "code",
   "execution_count": 344,
   "metadata": {},
   "outputs": [
    {
     "data": {
      "text/html": [
       "<div>\n",
       "<style scoped>\n",
       "    .dataframe tbody tr th:only-of-type {\n",
       "        vertical-align: middle;\n",
       "    }\n",
       "\n",
       "    .dataframe tbody tr th {\n",
       "        vertical-align: top;\n",
       "    }\n",
       "\n",
       "    .dataframe thead tr th {\n",
       "        text-align: left;\n",
       "    }\n",
       "\n",
       "    .dataframe thead tr:last-of-type th {\n",
       "        text-align: right;\n",
       "    }\n",
       "</style>\n",
       "<table border=\"1\" class=\"dataframe\">\n",
       "  <thead>\n",
       "    <tr>\n",
       "      <th></th>\n",
       "      <th></th>\n",
       "      <th colspan=\"3\" halign=\"left\">False Positives</th>\n",
       "      <th colspan=\"3\" halign=\"left\">Number of predicted anomalies</th>\n",
       "      <th colspan=\"3\" halign=\"left\">Number of true anomalies</th>\n",
       "      <th colspan=\"3\" halign=\"left\">True Positives</th>\n",
       "    </tr>\n",
       "    <tr>\n",
       "      <th></th>\n",
       "      <th>Test %</th>\n",
       "      <th>10 %</th>\n",
       "      <th>20 %</th>\n",
       "      <th>30 %</th>\n",
       "      <th>10 %</th>\n",
       "      <th>20 %</th>\n",
       "      <th>30 %</th>\n",
       "      <th>10 %</th>\n",
       "      <th>20 %</th>\n",
       "      <th>30 %</th>\n",
       "      <th>10 %</th>\n",
       "      <th>20 %</th>\n",
       "      <th>30 %</th>\n",
       "    </tr>\n",
       "    <tr>\n",
       "      <th>Model Type</th>\n",
       "      <th>Models</th>\n",
       "      <th></th>\n",
       "      <th></th>\n",
       "      <th></th>\n",
       "      <th></th>\n",
       "      <th></th>\n",
       "      <th></th>\n",
       "      <th></th>\n",
       "      <th></th>\n",
       "      <th></th>\n",
       "      <th></th>\n",
       "      <th></th>\n",
       "      <th></th>\n",
       "    </tr>\n",
       "  </thead>\n",
       "  <tbody>\n",
       "    <tr>\n",
       "      <th rowspan=\"6\" valign=\"top\">SemiSupervised</th>\n",
       "      <th>ABOD</th>\n",
       "      <td>0</td>\n",
       "      <td>0</td>\n",
       "      <td>0</td>\n",
       "      <td>0</td>\n",
       "      <td>0</td>\n",
       "      <td>0</td>\n",
       "      <td>7</td>\n",
       "      <td>22</td>\n",
       "      <td>59</td>\n",
       "      <td>0</td>\n",
       "      <td>0</td>\n",
       "      <td>0</td>\n",
       "    </tr>\n",
       "    <tr>\n",
       "      <th>ECOD</th>\n",
       "      <td>1087</td>\n",
       "      <td>2421</td>\n",
       "      <td>3753</td>\n",
       "      <td>1091</td>\n",
       "      <td>2436</td>\n",
       "      <td>3799</td>\n",
       "      <td>7</td>\n",
       "      <td>22</td>\n",
       "      <td>59</td>\n",
       "      <td>4</td>\n",
       "      <td>15</td>\n",
       "      <td>46</td>\n",
       "    </tr>\n",
       "    <tr>\n",
       "      <th>HBOS</th>\n",
       "      <td>0</td>\n",
       "      <td>2</td>\n",
       "      <td>20</td>\n",
       "      <td>4</td>\n",
       "      <td>16</td>\n",
       "      <td>65</td>\n",
       "      <td>7</td>\n",
       "      <td>22</td>\n",
       "      <td>59</td>\n",
       "      <td>4</td>\n",
       "      <td>14</td>\n",
       "      <td>45</td>\n",
       "    </tr>\n",
       "    <tr>\n",
       "      <th>IForest</th>\n",
       "      <td>0</td>\n",
       "      <td>3</td>\n",
       "      <td>12</td>\n",
       "      <td>2</td>\n",
       "      <td>10</td>\n",
       "      <td>34</td>\n",
       "      <td>7</td>\n",
       "      <td>22</td>\n",
       "      <td>59</td>\n",
       "      <td>2</td>\n",
       "      <td>7</td>\n",
       "      <td>22</td>\n",
       "    </tr>\n",
       "    <tr>\n",
       "      <th>KNN</th>\n",
       "      <td>0</td>\n",
       "      <td>3</td>\n",
       "      <td>21</td>\n",
       "      <td>4</td>\n",
       "      <td>18</td>\n",
       "      <td>67</td>\n",
       "      <td>7</td>\n",
       "      <td>22</td>\n",
       "      <td>59</td>\n",
       "      <td>4</td>\n",
       "      <td>15</td>\n",
       "      <td>46</td>\n",
       "    </tr>\n",
       "    <tr>\n",
       "      <th>LOF</th>\n",
       "      <td>0</td>\n",
       "      <td>0</td>\n",
       "      <td>0</td>\n",
       "      <td>2</td>\n",
       "      <td>8</td>\n",
       "      <td>24</td>\n",
       "      <td>7</td>\n",
       "      <td>22</td>\n",
       "      <td>59</td>\n",
       "      <td>2</td>\n",
       "      <td>8</td>\n",
       "      <td>24</td>\n",
       "    </tr>\n",
       "    <tr>\n",
       "      <th rowspan=\"6\" valign=\"top\">Unsupervised</th>\n",
       "      <th>ABOD</th>\n",
       "      <td>0</td>\n",
       "      <td>0</td>\n",
       "      <td>0</td>\n",
       "      <td>0</td>\n",
       "      <td>0</td>\n",
       "      <td>0</td>\n",
       "      <td>7</td>\n",
       "      <td>22</td>\n",
       "      <td>59</td>\n",
       "      <td>0</td>\n",
       "      <td>0</td>\n",
       "      <td>0</td>\n",
       "    </tr>\n",
       "    <tr>\n",
       "      <th>ECOD</th>\n",
       "      <td>2351</td>\n",
       "      <td>5678</td>\n",
       "      <td>7777</td>\n",
       "      <td>2355</td>\n",
       "      <td>5693</td>\n",
       "      <td>7823</td>\n",
       "      <td>7</td>\n",
       "      <td>22</td>\n",
       "      <td>59</td>\n",
       "      <td>4</td>\n",
       "      <td>15</td>\n",
       "      <td>46</td>\n",
       "    </tr>\n",
       "    <tr>\n",
       "      <th>HBOS</th>\n",
       "      <td>0</td>\n",
       "      <td>0</td>\n",
       "      <td>0</td>\n",
       "      <td>2</td>\n",
       "      <td>6</td>\n",
       "      <td>21</td>\n",
       "      <td>7</td>\n",
       "      <td>22</td>\n",
       "      <td>59</td>\n",
       "      <td>2</td>\n",
       "      <td>6</td>\n",
       "      <td>21</td>\n",
       "    </tr>\n",
       "    <tr>\n",
       "      <th>IForest</th>\n",
       "      <td>0</td>\n",
       "      <td>3</td>\n",
       "      <td>24</td>\n",
       "      <td>2</td>\n",
       "      <td>10</td>\n",
       "      <td>46</td>\n",
       "      <td>7</td>\n",
       "      <td>22</td>\n",
       "      <td>59</td>\n",
       "      <td>2</td>\n",
       "      <td>7</td>\n",
       "      <td>22</td>\n",
       "    </tr>\n",
       "    <tr>\n",
       "      <th>KNN</th>\n",
       "      <td>0</td>\n",
       "      <td>3</td>\n",
       "      <td>23</td>\n",
       "      <td>4</td>\n",
       "      <td>18</td>\n",
       "      <td>69</td>\n",
       "      <td>7</td>\n",
       "      <td>22</td>\n",
       "      <td>59</td>\n",
       "      <td>4</td>\n",
       "      <td>15</td>\n",
       "      <td>46</td>\n",
       "    </tr>\n",
       "    <tr>\n",
       "      <th>LOF</th>\n",
       "      <td>3</td>\n",
       "      <td>5</td>\n",
       "      <td>24</td>\n",
       "      <td>5</td>\n",
       "      <td>14</td>\n",
       "      <td>65</td>\n",
       "      <td>7</td>\n",
       "      <td>22</td>\n",
       "      <td>59</td>\n",
       "      <td>2</td>\n",
       "      <td>9</td>\n",
       "      <td>41</td>\n",
       "    </tr>\n",
       "  </tbody>\n",
       "</table>\n",
       "</div>"
      ],
      "text/plain": [
       "                        False Positives               \n",
       "Test %                             10 %  20 %  30 %   \n",
       "Model Type     Models                                 \n",
       "SemiSupervised  ABOD                  0     0     0  \\\n",
       "                ECOD               1087  2421  3753   \n",
       "                HBOS                  0     2    20   \n",
       "                IForest               0     3    12   \n",
       "                KNN                   0     3    21   \n",
       "                LOF                   0     0     0   \n",
       "Unsupervised    ABOD                  0     0     0   \n",
       "                ECOD               2351  5678  7777   \n",
       "                HBOS                  0     0     0   \n",
       "                IForest               0     3    24   \n",
       "                KNN                   0     3    23   \n",
       "                LOF                   3     5    24   \n",
       "\n",
       "                        Number of predicted anomalies               \n",
       "Test %                                           10 %  20 %  30 %   \n",
       "Model Type     Models                                               \n",
       "SemiSupervised  ABOD                                0     0     0  \\\n",
       "                ECOD                             1091  2436  3799   \n",
       "                HBOS                                4    16    65   \n",
       "                IForest                             2    10    34   \n",
       "                KNN                                 4    18    67   \n",
       "                LOF                                 2     8    24   \n",
       "Unsupervised    ABOD                                0     0     0   \n",
       "                ECOD                             2355  5693  7823   \n",
       "                HBOS                                2     6    21   \n",
       "                IForest                             2    10    46   \n",
       "                KNN                                 4    18    69   \n",
       "                LOF                                 5    14    65   \n",
       "\n",
       "                        Number of true anomalies           True Positives   \n",
       "Test %                                      10 % 20 % 30 %           10 %   \n",
       "Model Type     Models                                                       \n",
       "SemiSupervised  ABOD                           7   22   59              0  \\\n",
       "                ECOD                           7   22   59              4   \n",
       "                HBOS                           7   22   59              4   \n",
       "                IForest                        7   22   59              2   \n",
       "                KNN                            7   22   59              4   \n",
       "                LOF                            7   22   59              2   \n",
       "Unsupervised    ABOD                           7   22   59              0   \n",
       "                ECOD                           7   22   59              4   \n",
       "                HBOS                           7   22   59              2   \n",
       "                IForest                        7   22   59              2   \n",
       "                KNN                            7   22   59              4   \n",
       "                LOF                            7   22   59              2   \n",
       "\n",
       "                                   \n",
       "Test %                  20 % 30 %  \n",
       "Model Type     Models              \n",
       "SemiSupervised  ABOD       0    0  \n",
       "                ECOD      15   46  \n",
       "                HBOS      14   45  \n",
       "                IForest    7   22  \n",
       "                KNN       15   46  \n",
       "                LOF        8   24  \n",
       "Unsupervised    ABOD       0    0  \n",
       "                ECOD      15   46  \n",
       "                HBOS       6   21  \n",
       "                IForest    7   22  \n",
       "                KNN       15   46  \n",
       "                LOF        9   41  "
      ]
     },
     "execution_count": 344,
     "metadata": {},
     "output_type": "execute_result"
    }
   ],
   "source": [
    "import plotly.express as px\n",
    "df = results_total.copy()\n",
    "df = df.reset_index(drop=True)\n",
    "df = df[df['Variable'] == 'AC_Power_B (KW) ']\n",
    "df = df.loc[df.groupby(['Variable','Models', 'Model Type','Test %'])['F1-score'].idxmax().values,:].sort_values(by='F1-score', ascending = False)\n",
    "pd.pivot_table(df, values = [\"Number of true anomalies\",\"Number of predicted anomalies\",\"True Positives\",\"False Positives\"], index = [\"Model Type\",\"Models\"], columns= \"Test %\")"
   ]
  },
  {
   "cell_type": "code",
   "execution_count": 333,
   "metadata": {},
   "outputs": [
    {
     "data": {
      "application/vnd.plotly.v1+json": {
       "config": {
        "plotlyServerURL": "https://plot.ly"
       },
       "data": [
        {
         "alignmentgroup": "True",
         "hovertemplate": "Model Type=SemiSupervised<br>Test %=20 %<br>Models=%{x}<br>F1-score=%{y}<extra></extra>",
         "legendgroup": "SemiSupervised",
         "marker": {
          "color": "darkblue",
          "pattern": {
           "shape": ""
          }
         },
         "name": "SemiSupervised",
         "offsetgroup": "SemiSupervised",
         "orientation": "v",
         "showlegend": true,
         "textposition": "auto",
         "type": "bar",
         "x": [
          " KNN",
          " HBOS",
          " LOF",
          " IForest",
          " ECOD",
          " ABOD"
         ],
         "xaxis": "x",
         "y": [
          0.75,
          0.74,
          0.53,
          0.44,
          0.01,
          0
         ],
         "yaxis": "y"
        },
        {
         "alignmentgroup": "True",
         "hovertemplate": "Model Type=SemiSupervised<br>Test %=30 %<br>Models=%{x}<br>F1-score=%{y}<extra></extra>",
         "legendgroup": "SemiSupervised",
         "marker": {
          "color": "darkblue",
          "pattern": {
           "shape": ""
          }
         },
         "name": "SemiSupervised",
         "offsetgroup": "SemiSupervised",
         "orientation": "v",
         "showlegend": false,
         "textposition": "auto",
         "type": "bar",
         "x": [
          " KNN",
          " HBOS",
          " LOF",
          " IForest",
          " ECOD",
          " ABOD"
         ],
         "xaxis": "x2",
         "y": [
          0.73,
          0.73,
          0.58,
          0.47,
          0.02,
          0
         ],
         "yaxis": "y2"
        },
        {
         "alignmentgroup": "True",
         "hovertemplate": "Model Type=SemiSupervised<br>Test %=10 %<br>Models=%{x}<br>F1-score=%{y}<extra></extra>",
         "legendgroup": "SemiSupervised",
         "marker": {
          "color": "darkblue",
          "pattern": {
           "shape": ""
          }
         },
         "name": "SemiSupervised",
         "offsetgroup": "SemiSupervised",
         "orientation": "v",
         "showlegend": false,
         "textposition": "auto",
         "type": "bar",
         "x": [
          " HBOS",
          " KNN",
          " LOF",
          " IForest",
          " ECOD",
          " ABOD"
         ],
         "xaxis": "x3",
         "y": [
          0.73,
          0.73,
          0.44,
          0.44,
          0.01,
          0
         ],
         "yaxis": "y3"
        },
        {
         "alignmentgroup": "True",
         "hovertemplate": "Model Type=Unsupervised<br>Test %=20 %<br>Models=%{x}<br>F1-score=%{y}<extra></extra>",
         "legendgroup": "Unsupervised",
         "marker": {
          "color": "cornflowerblue",
          "pattern": {
           "shape": ""
          }
         },
         "name": "Unsupervised",
         "offsetgroup": "Unsupervised",
         "orientation": "v",
         "showlegend": true,
         "textposition": "auto",
         "type": "bar",
         "x": [
          " KNN",
          " LOF",
          " IForest",
          " HBOS",
          " ECOD",
          " ABOD"
         ],
         "xaxis": "x",
         "y": [
          0.75,
          0.5,
          0.44,
          0.43,
          0.01,
          0
         ],
         "yaxis": "y"
        },
        {
         "alignmentgroup": "True",
         "hovertemplate": "Model Type=Unsupervised<br>Test %=30 %<br>Models=%{x}<br>F1-score=%{y}<extra></extra>",
         "legendgroup": "Unsupervised",
         "marker": {
          "color": "cornflowerblue",
          "pattern": {
           "shape": ""
          }
         },
         "name": "Unsupervised",
         "offsetgroup": "Unsupervised",
         "orientation": "v",
         "showlegend": false,
         "textposition": "auto",
         "type": "bar",
         "x": [
          " KNN",
          " LOF",
          " HBOS",
          " IForest",
          " ECOD",
          " ABOD"
         ],
         "xaxis": "x2",
         "y": [
          0.72,
          0.66,
          0.53,
          0.42,
          0.01,
          0
         ],
         "yaxis": "y2"
        },
        {
         "alignmentgroup": "True",
         "hovertemplate": "Model Type=Unsupervised<br>Test %=10 %<br>Models=%{x}<br>F1-score=%{y}<extra></extra>",
         "legendgroup": "Unsupervised",
         "marker": {
          "color": "cornflowerblue",
          "pattern": {
           "shape": ""
          }
         },
         "name": "Unsupervised",
         "offsetgroup": "Unsupervised",
         "orientation": "v",
         "showlegend": false,
         "textposition": "auto",
         "type": "bar",
         "x": [
          " KNN",
          " IForest",
          " HBOS",
          " LOF",
          " ECOD",
          " ABOD"
         ],
         "xaxis": "x3",
         "y": [
          0.73,
          0.44,
          0.44,
          0.33,
          0,
          0
         ],
         "yaxis": "y3"
        }
       ],
       "layout": {
        "annotations": [
         {
          "font": {},
          "showarrow": false,
          "text": "Test %=20 %",
          "x": 0.15999999999999998,
          "xanchor": "center",
          "xref": "paper",
          "y": 1,
          "yanchor": "bottom",
          "yref": "paper"
         },
         {
          "font": {},
          "showarrow": false,
          "text": "Test %=30 %",
          "x": 0.49999999999999994,
          "xanchor": "center",
          "xref": "paper",
          "y": 1,
          "yanchor": "bottom",
          "yref": "paper"
         },
         {
          "font": {},
          "showarrow": false,
          "text": "Test %=10 %",
          "x": 0.8399999999999999,
          "xanchor": "center",
          "xref": "paper",
          "y": 1,
          "yanchor": "bottom",
          "yref": "paper"
         }
        ],
        "barmode": "group",
        "font": {
         "size": 16
        },
        "height": 500,
        "legend": {
         "title": {
          "text": "Model Type"
         },
         "tracegroupgap": 0
        },
        "margin": {
         "t": 60
        },
        "template": {
         "data": {
          "bar": [
           {
            "error_x": {
             "color": "#2a3f5f"
            },
            "error_y": {
             "color": "#2a3f5f"
            },
            "marker": {
             "line": {
              "color": "#E5ECF6",
              "width": 0.5
             },
             "pattern": {
              "fillmode": "overlay",
              "size": 10,
              "solidity": 0.2
             }
            },
            "type": "bar"
           }
          ],
          "barpolar": [
           {
            "marker": {
             "line": {
              "color": "#E5ECF6",
              "width": 0.5
             },
             "pattern": {
              "fillmode": "overlay",
              "size": 10,
              "solidity": 0.2
             }
            },
            "type": "barpolar"
           }
          ],
          "carpet": [
           {
            "aaxis": {
             "endlinecolor": "#2a3f5f",
             "gridcolor": "white",
             "linecolor": "white",
             "minorgridcolor": "white",
             "startlinecolor": "#2a3f5f"
            },
            "baxis": {
             "endlinecolor": "#2a3f5f",
             "gridcolor": "white",
             "linecolor": "white",
             "minorgridcolor": "white",
             "startlinecolor": "#2a3f5f"
            },
            "type": "carpet"
           }
          ],
          "choropleth": [
           {
            "colorbar": {
             "outlinewidth": 0,
             "ticks": ""
            },
            "type": "choropleth"
           }
          ],
          "contour": [
           {
            "colorbar": {
             "outlinewidth": 0,
             "ticks": ""
            },
            "colorscale": [
             [
              0,
              "#0d0887"
             ],
             [
              0.1111111111111111,
              "#46039f"
             ],
             [
              0.2222222222222222,
              "#7201a8"
             ],
             [
              0.3333333333333333,
              "#9c179e"
             ],
             [
              0.4444444444444444,
              "#bd3786"
             ],
             [
              0.5555555555555556,
              "#d8576b"
             ],
             [
              0.6666666666666666,
              "#ed7953"
             ],
             [
              0.7777777777777778,
              "#fb9f3a"
             ],
             [
              0.8888888888888888,
              "#fdca26"
             ],
             [
              1,
              "#f0f921"
             ]
            ],
            "type": "contour"
           }
          ],
          "contourcarpet": [
           {
            "colorbar": {
             "outlinewidth": 0,
             "ticks": ""
            },
            "type": "contourcarpet"
           }
          ],
          "heatmap": [
           {
            "colorbar": {
             "outlinewidth": 0,
             "ticks": ""
            },
            "colorscale": [
             [
              0,
              "#0d0887"
             ],
             [
              0.1111111111111111,
              "#46039f"
             ],
             [
              0.2222222222222222,
              "#7201a8"
             ],
             [
              0.3333333333333333,
              "#9c179e"
             ],
             [
              0.4444444444444444,
              "#bd3786"
             ],
             [
              0.5555555555555556,
              "#d8576b"
             ],
             [
              0.6666666666666666,
              "#ed7953"
             ],
             [
              0.7777777777777778,
              "#fb9f3a"
             ],
             [
              0.8888888888888888,
              "#fdca26"
             ],
             [
              1,
              "#f0f921"
             ]
            ],
            "type": "heatmap"
           }
          ],
          "heatmapgl": [
           {
            "colorbar": {
             "outlinewidth": 0,
             "ticks": ""
            },
            "colorscale": [
             [
              0,
              "#0d0887"
             ],
             [
              0.1111111111111111,
              "#46039f"
             ],
             [
              0.2222222222222222,
              "#7201a8"
             ],
             [
              0.3333333333333333,
              "#9c179e"
             ],
             [
              0.4444444444444444,
              "#bd3786"
             ],
             [
              0.5555555555555556,
              "#d8576b"
             ],
             [
              0.6666666666666666,
              "#ed7953"
             ],
             [
              0.7777777777777778,
              "#fb9f3a"
             ],
             [
              0.8888888888888888,
              "#fdca26"
             ],
             [
              1,
              "#f0f921"
             ]
            ],
            "type": "heatmapgl"
           }
          ],
          "histogram": [
           {
            "marker": {
             "pattern": {
              "fillmode": "overlay",
              "size": 10,
              "solidity": 0.2
             }
            },
            "type": "histogram"
           }
          ],
          "histogram2d": [
           {
            "colorbar": {
             "outlinewidth": 0,
             "ticks": ""
            },
            "colorscale": [
             [
              0,
              "#0d0887"
             ],
             [
              0.1111111111111111,
              "#46039f"
             ],
             [
              0.2222222222222222,
              "#7201a8"
             ],
             [
              0.3333333333333333,
              "#9c179e"
             ],
             [
              0.4444444444444444,
              "#bd3786"
             ],
             [
              0.5555555555555556,
              "#d8576b"
             ],
             [
              0.6666666666666666,
              "#ed7953"
             ],
             [
              0.7777777777777778,
              "#fb9f3a"
             ],
             [
              0.8888888888888888,
              "#fdca26"
             ],
             [
              1,
              "#f0f921"
             ]
            ],
            "type": "histogram2d"
           }
          ],
          "histogram2dcontour": [
           {
            "colorbar": {
             "outlinewidth": 0,
             "ticks": ""
            },
            "colorscale": [
             [
              0,
              "#0d0887"
             ],
             [
              0.1111111111111111,
              "#46039f"
             ],
             [
              0.2222222222222222,
              "#7201a8"
             ],
             [
              0.3333333333333333,
              "#9c179e"
             ],
             [
              0.4444444444444444,
              "#bd3786"
             ],
             [
              0.5555555555555556,
              "#d8576b"
             ],
             [
              0.6666666666666666,
              "#ed7953"
             ],
             [
              0.7777777777777778,
              "#fb9f3a"
             ],
             [
              0.8888888888888888,
              "#fdca26"
             ],
             [
              1,
              "#f0f921"
             ]
            ],
            "type": "histogram2dcontour"
           }
          ],
          "mesh3d": [
           {
            "colorbar": {
             "outlinewidth": 0,
             "ticks": ""
            },
            "type": "mesh3d"
           }
          ],
          "parcoords": [
           {
            "line": {
             "colorbar": {
              "outlinewidth": 0,
              "ticks": ""
             }
            },
            "type": "parcoords"
           }
          ],
          "pie": [
           {
            "automargin": true,
            "type": "pie"
           }
          ],
          "scatter": [
           {
            "fillpattern": {
             "fillmode": "overlay",
             "size": 10,
             "solidity": 0.2
            },
            "type": "scatter"
           }
          ],
          "scatter3d": [
           {
            "line": {
             "colorbar": {
              "outlinewidth": 0,
              "ticks": ""
             }
            },
            "marker": {
             "colorbar": {
              "outlinewidth": 0,
              "ticks": ""
             }
            },
            "type": "scatter3d"
           }
          ],
          "scattercarpet": [
           {
            "marker": {
             "colorbar": {
              "outlinewidth": 0,
              "ticks": ""
             }
            },
            "type": "scattercarpet"
           }
          ],
          "scattergeo": [
           {
            "marker": {
             "colorbar": {
              "outlinewidth": 0,
              "ticks": ""
             }
            },
            "type": "scattergeo"
           }
          ],
          "scattergl": [
           {
            "marker": {
             "colorbar": {
              "outlinewidth": 0,
              "ticks": ""
             }
            },
            "type": "scattergl"
           }
          ],
          "scattermapbox": [
           {
            "marker": {
             "colorbar": {
              "outlinewidth": 0,
              "ticks": ""
             }
            },
            "type": "scattermapbox"
           }
          ],
          "scatterpolar": [
           {
            "marker": {
             "colorbar": {
              "outlinewidth": 0,
              "ticks": ""
             }
            },
            "type": "scatterpolar"
           }
          ],
          "scatterpolargl": [
           {
            "marker": {
             "colorbar": {
              "outlinewidth": 0,
              "ticks": ""
             }
            },
            "type": "scatterpolargl"
           }
          ],
          "scatterternary": [
           {
            "marker": {
             "colorbar": {
              "outlinewidth": 0,
              "ticks": ""
             }
            },
            "type": "scatterternary"
           }
          ],
          "surface": [
           {
            "colorbar": {
             "outlinewidth": 0,
             "ticks": ""
            },
            "colorscale": [
             [
              0,
              "#0d0887"
             ],
             [
              0.1111111111111111,
              "#46039f"
             ],
             [
              0.2222222222222222,
              "#7201a8"
             ],
             [
              0.3333333333333333,
              "#9c179e"
             ],
             [
              0.4444444444444444,
              "#bd3786"
             ],
             [
              0.5555555555555556,
              "#d8576b"
             ],
             [
              0.6666666666666666,
              "#ed7953"
             ],
             [
              0.7777777777777778,
              "#fb9f3a"
             ],
             [
              0.8888888888888888,
              "#fdca26"
             ],
             [
              1,
              "#f0f921"
             ]
            ],
            "type": "surface"
           }
          ],
          "table": [
           {
            "cells": {
             "fill": {
              "color": "#EBF0F8"
             },
             "line": {
              "color": "white"
             }
            },
            "header": {
             "fill": {
              "color": "#C8D4E3"
             },
             "line": {
              "color": "white"
             }
            },
            "type": "table"
           }
          ]
         },
         "layout": {
          "annotationdefaults": {
           "arrowcolor": "#2a3f5f",
           "arrowhead": 0,
           "arrowwidth": 1
          },
          "autotypenumbers": "strict",
          "coloraxis": {
           "colorbar": {
            "outlinewidth": 0,
            "ticks": ""
           }
          },
          "colorscale": {
           "diverging": [
            [
             0,
             "#8e0152"
            ],
            [
             0.1,
             "#c51b7d"
            ],
            [
             0.2,
             "#de77ae"
            ],
            [
             0.3,
             "#f1b6da"
            ],
            [
             0.4,
             "#fde0ef"
            ],
            [
             0.5,
             "#f7f7f7"
            ],
            [
             0.6,
             "#e6f5d0"
            ],
            [
             0.7,
             "#b8e186"
            ],
            [
             0.8,
             "#7fbc41"
            ],
            [
             0.9,
             "#4d9221"
            ],
            [
             1,
             "#276419"
            ]
           ],
           "sequential": [
            [
             0,
             "#0d0887"
            ],
            [
             0.1111111111111111,
             "#46039f"
            ],
            [
             0.2222222222222222,
             "#7201a8"
            ],
            [
             0.3333333333333333,
             "#9c179e"
            ],
            [
             0.4444444444444444,
             "#bd3786"
            ],
            [
             0.5555555555555556,
             "#d8576b"
            ],
            [
             0.6666666666666666,
             "#ed7953"
            ],
            [
             0.7777777777777778,
             "#fb9f3a"
            ],
            [
             0.8888888888888888,
             "#fdca26"
            ],
            [
             1,
             "#f0f921"
            ]
           ],
           "sequentialminus": [
            [
             0,
             "#0d0887"
            ],
            [
             0.1111111111111111,
             "#46039f"
            ],
            [
             0.2222222222222222,
             "#7201a8"
            ],
            [
             0.3333333333333333,
             "#9c179e"
            ],
            [
             0.4444444444444444,
             "#bd3786"
            ],
            [
             0.5555555555555556,
             "#d8576b"
            ],
            [
             0.6666666666666666,
             "#ed7953"
            ],
            [
             0.7777777777777778,
             "#fb9f3a"
            ],
            [
             0.8888888888888888,
             "#fdca26"
            ],
            [
             1,
             "#f0f921"
            ]
           ]
          },
          "colorway": [
           "#636efa",
           "#EF553B",
           "#00cc96",
           "#ab63fa",
           "#FFA15A",
           "#19d3f3",
           "#FF6692",
           "#B6E880",
           "#FF97FF",
           "#FECB52"
          ],
          "font": {
           "color": "#2a3f5f"
          },
          "geo": {
           "bgcolor": "white",
           "lakecolor": "white",
           "landcolor": "#E5ECF6",
           "showlakes": true,
           "showland": true,
           "subunitcolor": "white"
          },
          "hoverlabel": {
           "align": "left"
          },
          "hovermode": "closest",
          "mapbox": {
           "style": "light"
          },
          "paper_bgcolor": "white",
          "plot_bgcolor": "#E5ECF6",
          "polar": {
           "angularaxis": {
            "gridcolor": "white",
            "linecolor": "white",
            "ticks": ""
           },
           "bgcolor": "#E5ECF6",
           "radialaxis": {
            "gridcolor": "white",
            "linecolor": "white",
            "ticks": ""
           }
          },
          "scene": {
           "xaxis": {
            "backgroundcolor": "#E5ECF6",
            "gridcolor": "white",
            "gridwidth": 2,
            "linecolor": "white",
            "showbackground": true,
            "ticks": "",
            "zerolinecolor": "white"
           },
           "yaxis": {
            "backgroundcolor": "#E5ECF6",
            "gridcolor": "white",
            "gridwidth": 2,
            "linecolor": "white",
            "showbackground": true,
            "ticks": "",
            "zerolinecolor": "white"
           },
           "zaxis": {
            "backgroundcolor": "#E5ECF6",
            "gridcolor": "white",
            "gridwidth": 2,
            "linecolor": "white",
            "showbackground": true,
            "ticks": "",
            "zerolinecolor": "white"
           }
          },
          "shapedefaults": {
           "line": {
            "color": "#2a3f5f"
           }
          },
          "ternary": {
           "aaxis": {
            "gridcolor": "white",
            "linecolor": "white",
            "ticks": ""
           },
           "baxis": {
            "gridcolor": "white",
            "linecolor": "white",
            "ticks": ""
           },
           "bgcolor": "#E5ECF6",
           "caxis": {
            "gridcolor": "white",
            "linecolor": "white",
            "ticks": ""
           }
          },
          "title": {
           "x": 0.05
          },
          "xaxis": {
           "automargin": true,
           "gridcolor": "white",
           "linecolor": "white",
           "ticks": "",
           "title": {
            "standoff": 15
           },
           "zerolinecolor": "white",
           "zerolinewidth": 2
          },
          "yaxis": {
           "automargin": true,
           "gridcolor": "white",
           "linecolor": "white",
           "ticks": "",
           "title": {
            "standoff": 15
           },
           "zerolinecolor": "white",
           "zerolinewidth": 2
          }
         }
        },
        "width": 1000,
        "xaxis": {
         "anchor": "y",
         "domain": [
          0,
          0.31999999999999995
         ],
         "title": {
          "text": "Models"
         }
        },
        "xaxis2": {
         "anchor": "y2",
         "domain": [
          0.33999999999999997,
          0.6599999999999999
         ],
         "matches": "x",
         "title": {
          "text": "Models"
         }
        },
        "xaxis3": {
         "anchor": "y3",
         "domain": [
          0.6799999999999999,
          0.9999999999999999
         ],
         "matches": "x",
         "title": {
          "text": "Models"
         }
        },
        "yaxis": {
         "anchor": "x",
         "domain": [
          0,
          1
         ],
         "title": {
          "text": "F1-score"
         }
        },
        "yaxis2": {
         "anchor": "x2",
         "domain": [
          0,
          1
         ],
         "matches": "y",
         "showticklabels": false
        },
        "yaxis3": {
         "anchor": "x3",
         "domain": [
          0,
          1
         ],
         "matches": "y",
         "showticklabels": false
        }
       }
      }
     },
     "metadata": {},
     "output_type": "display_data"
    }
   ],
   "source": [
    "import plotly.express as px\n",
    "df = results_total.copy()\n",
    "df = df.reset_index(drop=True)\n",
    "df = df[df['Variable'] == 'AC_Power_B (KW) ']\n",
    "df = df.loc[df.groupby(['Variable','Models', 'Model Type','Test %'])['F1-score'].idxmax().values,:].sort_values(by='F1-score', ascending = False)\n",
    "color_map = {'SemiSupervised': 'darkblue', 'Unsupervised': 'cornflowerblue'}  # Add more types as needed\n",
    "fig = px.bar(df, x=\"Models\", y=\"F1-score\", color=\"Model Type\", barmode=\"group\", facet_col=\"Test %\",width=1000,height=500,color_discrete_map=color_map)\n",
    "fig.update_layout(font=dict(size=16))\n",
    "\n",
    "# Add labels to the axes and set the title\n",
    "# Increase font size for x-axis and y-axis labels\n",
    "fig.show()"
   ]
  },
  {
   "cell_type": "code",
   "execution_count": 335,
   "metadata": {},
   "outputs": [
    {
     "data": {
      "application/vnd.plotly.v1+json": {
       "config": {
        "plotlyServerURL": "https://plot.ly"
       },
       "data": [
        {
         "alignmentgroup": "True",
         "hovertemplate": "Model Type=SemiSupervised<br>Test %=20 %<br>Models=%{x}<br>Execution Time (s)=%{y}<extra></extra>",
         "legendgroup": "SemiSupervised",
         "marker": {
          "color": "darkblue",
          "pattern": {
           "shape": ""
          }
         },
         "name": "SemiSupervised",
         "offsetgroup": "SemiSupervised",
         "orientation": "v",
         "showlegend": true,
         "textposition": "auto",
         "type": "bar",
         "x": [
          " KNN",
          " HBOS",
          " LOF",
          " IForest",
          " ECOD",
          " ABOD"
         ],
         "xaxis": "x",
         "y": [
          4.052765130996704,
          0.004029512405395508,
          0.5583689212799072,
          0.24777460098266602,
          0.022154569625854492,
          4.662647008895874
         ],
         "yaxis": "y"
        },
        {
         "alignmentgroup": "True",
         "hovertemplate": "Model Type=SemiSupervised<br>Test %=30 %<br>Models=%{x}<br>Execution Time (s)=%{y}<extra></extra>",
         "legendgroup": "SemiSupervised",
         "marker": {
          "color": "darkblue",
          "pattern": {
           "shape": ""
          }
         },
         "name": "SemiSupervised",
         "offsetgroup": "SemiSupervised",
         "orientation": "v",
         "showlegend": false,
         "textposition": "auto",
         "type": "bar",
         "x": [
          " KNN",
          " HBOS",
          " LOF",
          " IForest",
          " ECOD",
          " ABOD"
         ],
         "xaxis": "x2",
         "y": [
          6.308231353759766,
          0.004235029220581055,
          0.7845211029052734,
          0.3377203941345215,
          0.031939029693603516,
          6.513618469238281
         ],
         "yaxis": "y2"
        },
        {
         "alignmentgroup": "True",
         "hovertemplate": "Model Type=SemiSupervised<br>Test %=10 %<br>Models=%{x}<br>Execution Time (s)=%{y}<extra></extra>",
         "legendgroup": "SemiSupervised",
         "marker": {
          "color": "darkblue",
          "pattern": {
           "shape": ""
          }
         },
         "name": "SemiSupervised",
         "offsetgroup": "SemiSupervised",
         "orientation": "v",
         "showlegend": false,
         "textposition": "auto",
         "type": "bar",
         "x": [
          " HBOS",
          " KNN",
          " LOF",
          " IForest",
          " ECOD",
          " ABOD"
         ],
         "xaxis": "x3",
         "y": [
          0.003010988235473633,
          2.1273093223571777,
          0.33530330657958984,
          0.18089675903320312,
          0.015035867691040039,
          2.609046220779419
         ],
         "yaxis": "y3"
        },
        {
         "alignmentgroup": "True",
         "hovertemplate": "Model Type=Unsupervised<br>Test %=20 %<br>Models=%{x}<br>Execution Time (s)=%{y}<extra></extra>",
         "legendgroup": "Unsupervised",
         "marker": {
          "color": "cornflowerblue",
          "pattern": {
           "shape": ""
          }
         },
         "name": "Unsupervised",
         "offsetgroup": "Unsupervised",
         "orientation": "v",
         "showlegend": true,
         "textposition": "auto",
         "type": "bar",
         "x": [
          " KNN",
          " LOF",
          " IForest",
          " HBOS",
          " ECOD",
          " ABOD"
         ],
         "xaxis": "x",
         "y": [
          17.815932989120483,
          10.645811319351196,
          1.1309218406677246,
          0.008838415145874023,
          0.1282958984375,
          19.546122550964355
         ],
         "yaxis": "y"
        },
        {
         "alignmentgroup": "True",
         "hovertemplate": "Model Type=Unsupervised<br>Test %=30 %<br>Models=%{x}<br>Execution Time (s)=%{y}<extra></extra>",
         "legendgroup": "Unsupervised",
         "marker": {
          "color": "cornflowerblue",
          "pattern": {
           "shape": ""
          }
         },
         "name": "Unsupervised",
         "offsetgroup": "Unsupervised",
         "orientation": "v",
         "showlegend": false,
         "textposition": "auto",
         "type": "bar",
         "x": [
          " KNN",
          " LOF",
          " HBOS",
          " IForest",
          " ECOD",
          " ABOD"
         ],
         "xaxis": "x2",
         "y": [
          15.234335660934448,
          8.348523378372192,
          0.011115550994873047,
          2.838571786880493,
          0.1302201747894287,
          20.721479177474976
         ],
         "yaxis": "y2"
        },
        {
         "alignmentgroup": "True",
         "hovertemplate": "Model Type=Unsupervised<br>Test %=10 %<br>Models=%{x}<br>Execution Time (s)=%{y}<extra></extra>",
         "legendgroup": "Unsupervised",
         "marker": {
          "color": "cornflowerblue",
          "pattern": {
           "shape": ""
          }
         },
         "name": "Unsupervised",
         "offsetgroup": "Unsupervised",
         "orientation": "v",
         "showlegend": false,
         "textposition": "auto",
         "type": "bar",
         "x": [
          " KNN",
          " IForest",
          " HBOS",
          " LOF",
          " ECOD",
          " ABOD"
         ],
         "xaxis": "x3",
         "y": [
          9.0539391040802,
          0.8058266639709473,
          0.008342742919921875,
          7.920786380767822,
          0.12863445281982422,
          16.431113481521606
         ],
         "yaxis": "y3"
        }
       ],
       "layout": {
        "annotations": [
         {
          "font": {},
          "showarrow": false,
          "text": "Test %=20 %",
          "x": 0.15999999999999998,
          "xanchor": "center",
          "xref": "paper",
          "y": 1,
          "yanchor": "bottom",
          "yref": "paper"
         },
         {
          "font": {},
          "showarrow": false,
          "text": "Test %=30 %",
          "x": 0.49999999999999994,
          "xanchor": "center",
          "xref": "paper",
          "y": 1,
          "yanchor": "bottom",
          "yref": "paper"
         },
         {
          "font": {},
          "showarrow": false,
          "text": "Test %=10 %",
          "x": 0.8399999999999999,
          "xanchor": "center",
          "xref": "paper",
          "y": 1,
          "yanchor": "bottom",
          "yref": "paper"
         }
        ],
        "barmode": "group",
        "font": {
         "size": 16
        },
        "height": 400,
        "legend": {
         "title": {
          "text": "Model Type"
         },
         "tracegroupgap": 0
        },
        "margin": {
         "t": 60
        },
        "template": {
         "data": {
          "bar": [
           {
            "error_x": {
             "color": "#2a3f5f"
            },
            "error_y": {
             "color": "#2a3f5f"
            },
            "marker": {
             "line": {
              "color": "#E5ECF6",
              "width": 0.5
             },
             "pattern": {
              "fillmode": "overlay",
              "size": 10,
              "solidity": 0.2
             }
            },
            "type": "bar"
           }
          ],
          "barpolar": [
           {
            "marker": {
             "line": {
              "color": "#E5ECF6",
              "width": 0.5
             },
             "pattern": {
              "fillmode": "overlay",
              "size": 10,
              "solidity": 0.2
             }
            },
            "type": "barpolar"
           }
          ],
          "carpet": [
           {
            "aaxis": {
             "endlinecolor": "#2a3f5f",
             "gridcolor": "white",
             "linecolor": "white",
             "minorgridcolor": "white",
             "startlinecolor": "#2a3f5f"
            },
            "baxis": {
             "endlinecolor": "#2a3f5f",
             "gridcolor": "white",
             "linecolor": "white",
             "minorgridcolor": "white",
             "startlinecolor": "#2a3f5f"
            },
            "type": "carpet"
           }
          ],
          "choropleth": [
           {
            "colorbar": {
             "outlinewidth": 0,
             "ticks": ""
            },
            "type": "choropleth"
           }
          ],
          "contour": [
           {
            "colorbar": {
             "outlinewidth": 0,
             "ticks": ""
            },
            "colorscale": [
             [
              0,
              "#0d0887"
             ],
             [
              0.1111111111111111,
              "#46039f"
             ],
             [
              0.2222222222222222,
              "#7201a8"
             ],
             [
              0.3333333333333333,
              "#9c179e"
             ],
             [
              0.4444444444444444,
              "#bd3786"
             ],
             [
              0.5555555555555556,
              "#d8576b"
             ],
             [
              0.6666666666666666,
              "#ed7953"
             ],
             [
              0.7777777777777778,
              "#fb9f3a"
             ],
             [
              0.8888888888888888,
              "#fdca26"
             ],
             [
              1,
              "#f0f921"
             ]
            ],
            "type": "contour"
           }
          ],
          "contourcarpet": [
           {
            "colorbar": {
             "outlinewidth": 0,
             "ticks": ""
            },
            "type": "contourcarpet"
           }
          ],
          "heatmap": [
           {
            "colorbar": {
             "outlinewidth": 0,
             "ticks": ""
            },
            "colorscale": [
             [
              0,
              "#0d0887"
             ],
             [
              0.1111111111111111,
              "#46039f"
             ],
             [
              0.2222222222222222,
              "#7201a8"
             ],
             [
              0.3333333333333333,
              "#9c179e"
             ],
             [
              0.4444444444444444,
              "#bd3786"
             ],
             [
              0.5555555555555556,
              "#d8576b"
             ],
             [
              0.6666666666666666,
              "#ed7953"
             ],
             [
              0.7777777777777778,
              "#fb9f3a"
             ],
             [
              0.8888888888888888,
              "#fdca26"
             ],
             [
              1,
              "#f0f921"
             ]
            ],
            "type": "heatmap"
           }
          ],
          "heatmapgl": [
           {
            "colorbar": {
             "outlinewidth": 0,
             "ticks": ""
            },
            "colorscale": [
             [
              0,
              "#0d0887"
             ],
             [
              0.1111111111111111,
              "#46039f"
             ],
             [
              0.2222222222222222,
              "#7201a8"
             ],
             [
              0.3333333333333333,
              "#9c179e"
             ],
             [
              0.4444444444444444,
              "#bd3786"
             ],
             [
              0.5555555555555556,
              "#d8576b"
             ],
             [
              0.6666666666666666,
              "#ed7953"
             ],
             [
              0.7777777777777778,
              "#fb9f3a"
             ],
             [
              0.8888888888888888,
              "#fdca26"
             ],
             [
              1,
              "#f0f921"
             ]
            ],
            "type": "heatmapgl"
           }
          ],
          "histogram": [
           {
            "marker": {
             "pattern": {
              "fillmode": "overlay",
              "size": 10,
              "solidity": 0.2
             }
            },
            "type": "histogram"
           }
          ],
          "histogram2d": [
           {
            "colorbar": {
             "outlinewidth": 0,
             "ticks": ""
            },
            "colorscale": [
             [
              0,
              "#0d0887"
             ],
             [
              0.1111111111111111,
              "#46039f"
             ],
             [
              0.2222222222222222,
              "#7201a8"
             ],
             [
              0.3333333333333333,
              "#9c179e"
             ],
             [
              0.4444444444444444,
              "#bd3786"
             ],
             [
              0.5555555555555556,
              "#d8576b"
             ],
             [
              0.6666666666666666,
              "#ed7953"
             ],
             [
              0.7777777777777778,
              "#fb9f3a"
             ],
             [
              0.8888888888888888,
              "#fdca26"
             ],
             [
              1,
              "#f0f921"
             ]
            ],
            "type": "histogram2d"
           }
          ],
          "histogram2dcontour": [
           {
            "colorbar": {
             "outlinewidth": 0,
             "ticks": ""
            },
            "colorscale": [
             [
              0,
              "#0d0887"
             ],
             [
              0.1111111111111111,
              "#46039f"
             ],
             [
              0.2222222222222222,
              "#7201a8"
             ],
             [
              0.3333333333333333,
              "#9c179e"
             ],
             [
              0.4444444444444444,
              "#bd3786"
             ],
             [
              0.5555555555555556,
              "#d8576b"
             ],
             [
              0.6666666666666666,
              "#ed7953"
             ],
             [
              0.7777777777777778,
              "#fb9f3a"
             ],
             [
              0.8888888888888888,
              "#fdca26"
             ],
             [
              1,
              "#f0f921"
             ]
            ],
            "type": "histogram2dcontour"
           }
          ],
          "mesh3d": [
           {
            "colorbar": {
             "outlinewidth": 0,
             "ticks": ""
            },
            "type": "mesh3d"
           }
          ],
          "parcoords": [
           {
            "line": {
             "colorbar": {
              "outlinewidth": 0,
              "ticks": ""
             }
            },
            "type": "parcoords"
           }
          ],
          "pie": [
           {
            "automargin": true,
            "type": "pie"
           }
          ],
          "scatter": [
           {
            "fillpattern": {
             "fillmode": "overlay",
             "size": 10,
             "solidity": 0.2
            },
            "type": "scatter"
           }
          ],
          "scatter3d": [
           {
            "line": {
             "colorbar": {
              "outlinewidth": 0,
              "ticks": ""
             }
            },
            "marker": {
             "colorbar": {
              "outlinewidth": 0,
              "ticks": ""
             }
            },
            "type": "scatter3d"
           }
          ],
          "scattercarpet": [
           {
            "marker": {
             "colorbar": {
              "outlinewidth": 0,
              "ticks": ""
             }
            },
            "type": "scattercarpet"
           }
          ],
          "scattergeo": [
           {
            "marker": {
             "colorbar": {
              "outlinewidth": 0,
              "ticks": ""
             }
            },
            "type": "scattergeo"
           }
          ],
          "scattergl": [
           {
            "marker": {
             "colorbar": {
              "outlinewidth": 0,
              "ticks": ""
             }
            },
            "type": "scattergl"
           }
          ],
          "scattermapbox": [
           {
            "marker": {
             "colorbar": {
              "outlinewidth": 0,
              "ticks": ""
             }
            },
            "type": "scattermapbox"
           }
          ],
          "scatterpolar": [
           {
            "marker": {
             "colorbar": {
              "outlinewidth": 0,
              "ticks": ""
             }
            },
            "type": "scatterpolar"
           }
          ],
          "scatterpolargl": [
           {
            "marker": {
             "colorbar": {
              "outlinewidth": 0,
              "ticks": ""
             }
            },
            "type": "scatterpolargl"
           }
          ],
          "scatterternary": [
           {
            "marker": {
             "colorbar": {
              "outlinewidth": 0,
              "ticks": ""
             }
            },
            "type": "scatterternary"
           }
          ],
          "surface": [
           {
            "colorbar": {
             "outlinewidth": 0,
             "ticks": ""
            },
            "colorscale": [
             [
              0,
              "#0d0887"
             ],
             [
              0.1111111111111111,
              "#46039f"
             ],
             [
              0.2222222222222222,
              "#7201a8"
             ],
             [
              0.3333333333333333,
              "#9c179e"
             ],
             [
              0.4444444444444444,
              "#bd3786"
             ],
             [
              0.5555555555555556,
              "#d8576b"
             ],
             [
              0.6666666666666666,
              "#ed7953"
             ],
             [
              0.7777777777777778,
              "#fb9f3a"
             ],
             [
              0.8888888888888888,
              "#fdca26"
             ],
             [
              1,
              "#f0f921"
             ]
            ],
            "type": "surface"
           }
          ],
          "table": [
           {
            "cells": {
             "fill": {
              "color": "#EBF0F8"
             },
             "line": {
              "color": "white"
             }
            },
            "header": {
             "fill": {
              "color": "#C8D4E3"
             },
             "line": {
              "color": "white"
             }
            },
            "type": "table"
           }
          ]
         },
         "layout": {
          "annotationdefaults": {
           "arrowcolor": "#2a3f5f",
           "arrowhead": 0,
           "arrowwidth": 1
          },
          "autotypenumbers": "strict",
          "coloraxis": {
           "colorbar": {
            "outlinewidth": 0,
            "ticks": ""
           }
          },
          "colorscale": {
           "diverging": [
            [
             0,
             "#8e0152"
            ],
            [
             0.1,
             "#c51b7d"
            ],
            [
             0.2,
             "#de77ae"
            ],
            [
             0.3,
             "#f1b6da"
            ],
            [
             0.4,
             "#fde0ef"
            ],
            [
             0.5,
             "#f7f7f7"
            ],
            [
             0.6,
             "#e6f5d0"
            ],
            [
             0.7,
             "#b8e186"
            ],
            [
             0.8,
             "#7fbc41"
            ],
            [
             0.9,
             "#4d9221"
            ],
            [
             1,
             "#276419"
            ]
           ],
           "sequential": [
            [
             0,
             "#0d0887"
            ],
            [
             0.1111111111111111,
             "#46039f"
            ],
            [
             0.2222222222222222,
             "#7201a8"
            ],
            [
             0.3333333333333333,
             "#9c179e"
            ],
            [
             0.4444444444444444,
             "#bd3786"
            ],
            [
             0.5555555555555556,
             "#d8576b"
            ],
            [
             0.6666666666666666,
             "#ed7953"
            ],
            [
             0.7777777777777778,
             "#fb9f3a"
            ],
            [
             0.8888888888888888,
             "#fdca26"
            ],
            [
             1,
             "#f0f921"
            ]
           ],
           "sequentialminus": [
            [
             0,
             "#0d0887"
            ],
            [
             0.1111111111111111,
             "#46039f"
            ],
            [
             0.2222222222222222,
             "#7201a8"
            ],
            [
             0.3333333333333333,
             "#9c179e"
            ],
            [
             0.4444444444444444,
             "#bd3786"
            ],
            [
             0.5555555555555556,
             "#d8576b"
            ],
            [
             0.6666666666666666,
             "#ed7953"
            ],
            [
             0.7777777777777778,
             "#fb9f3a"
            ],
            [
             0.8888888888888888,
             "#fdca26"
            ],
            [
             1,
             "#f0f921"
            ]
           ]
          },
          "colorway": [
           "#636efa",
           "#EF553B",
           "#00cc96",
           "#ab63fa",
           "#FFA15A",
           "#19d3f3",
           "#FF6692",
           "#B6E880",
           "#FF97FF",
           "#FECB52"
          ],
          "font": {
           "color": "#2a3f5f"
          },
          "geo": {
           "bgcolor": "white",
           "lakecolor": "white",
           "landcolor": "#E5ECF6",
           "showlakes": true,
           "showland": true,
           "subunitcolor": "white"
          },
          "hoverlabel": {
           "align": "left"
          },
          "hovermode": "closest",
          "mapbox": {
           "style": "light"
          },
          "paper_bgcolor": "white",
          "plot_bgcolor": "#E5ECF6",
          "polar": {
           "angularaxis": {
            "gridcolor": "white",
            "linecolor": "white",
            "ticks": ""
           },
           "bgcolor": "#E5ECF6",
           "radialaxis": {
            "gridcolor": "white",
            "linecolor": "white",
            "ticks": ""
           }
          },
          "scene": {
           "xaxis": {
            "backgroundcolor": "#E5ECF6",
            "gridcolor": "white",
            "gridwidth": 2,
            "linecolor": "white",
            "showbackground": true,
            "ticks": "",
            "zerolinecolor": "white"
           },
           "yaxis": {
            "backgroundcolor": "#E5ECF6",
            "gridcolor": "white",
            "gridwidth": 2,
            "linecolor": "white",
            "showbackground": true,
            "ticks": "",
            "zerolinecolor": "white"
           },
           "zaxis": {
            "backgroundcolor": "#E5ECF6",
            "gridcolor": "white",
            "gridwidth": 2,
            "linecolor": "white",
            "showbackground": true,
            "ticks": "",
            "zerolinecolor": "white"
           }
          },
          "shapedefaults": {
           "line": {
            "color": "#2a3f5f"
           }
          },
          "ternary": {
           "aaxis": {
            "gridcolor": "white",
            "linecolor": "white",
            "ticks": ""
           },
           "baxis": {
            "gridcolor": "white",
            "linecolor": "white",
            "ticks": ""
           },
           "bgcolor": "#E5ECF6",
           "caxis": {
            "gridcolor": "white",
            "linecolor": "white",
            "ticks": ""
           }
          },
          "title": {
           "x": 0.05
          },
          "xaxis": {
           "automargin": true,
           "gridcolor": "white",
           "linecolor": "white",
           "ticks": "",
           "title": {
            "standoff": 15
           },
           "zerolinecolor": "white",
           "zerolinewidth": 2
          },
          "yaxis": {
           "automargin": true,
           "gridcolor": "white",
           "linecolor": "white",
           "ticks": "",
           "title": {
            "standoff": 15
           },
           "zerolinecolor": "white",
           "zerolinewidth": 2
          }
         }
        },
        "width": 1000,
        "xaxis": {
         "anchor": "y",
         "domain": [
          0,
          0.31999999999999995
         ],
         "title": {
          "text": "Models"
         }
        },
        "xaxis2": {
         "anchor": "y2",
         "domain": [
          0.33999999999999997,
          0.6599999999999999
         ],
         "matches": "x",
         "title": {
          "text": "Models"
         }
        },
        "xaxis3": {
         "anchor": "y3",
         "domain": [
          0.6799999999999999,
          0.9999999999999999
         ],
         "matches": "x",
         "title": {
          "text": "Models"
         }
        },
        "yaxis": {
         "anchor": "x",
         "domain": [
          0,
          1
         ],
         "title": {
          "text": "Execution Time (s)"
         }
        },
        "yaxis2": {
         "anchor": "x2",
         "domain": [
          0,
          1
         ],
         "matches": "y",
         "showticklabels": false
        },
        "yaxis3": {
         "anchor": "x3",
         "domain": [
          0,
          1
         ],
         "matches": "y",
         "showticklabels": false
        }
       }
      }
     },
     "metadata": {},
     "output_type": "display_data"
    }
   ],
   "source": [
    "import plotly.express as px\n",
    "df = results_total.copy()\n",
    "df = df.reset_index(drop=True)\n",
    "df = df[df['Variable'] == 'AC_Power_B (KW) ']\n",
    "df['Execution Time (s)'] = df['Execution Time (s)'].astype(float)\n",
    "df = df.loc[df.groupby(['Variable','Models', 'Model Type','Test %'])['F1-score'].idxmax().values,:].sort_values(by='F1-score', ascending = False)\n",
    "color_map = {'SemiSupervised': 'darkblue', 'Unsupervised': 'cornflowerblue'}  # Add more types as needed\n",
    "fig = px.bar(df, x=\"Models\", y=\"Execution Time (s)\", color=\"Model Type\", barmode=\"group\", facet_col=\"Test %\",width=1000, height=400,color_discrete_map=color_map)\n",
    "fig.update_layout(font=dict(size=16))\n",
    "fig.show()"
   ]
  },
  {
   "cell_type": "code",
   "execution_count": 211,
   "metadata": {},
   "outputs": [
    {
     "data": {
      "text/html": [
       "<div>\n",
       "<style scoped>\n",
       "    .dataframe tbody tr th:only-of-type {\n",
       "        vertical-align: middle;\n",
       "    }\n",
       "\n",
       "    .dataframe tbody tr th {\n",
       "        vertical-align: top;\n",
       "    }\n",
       "\n",
       "    .dataframe thead th {\n",
       "        text-align: right;\n",
       "    }\n",
       "</style>\n",
       "<table border=\"1\" class=\"dataframe\">\n",
       "  <thead>\n",
       "    <tr style=\"text-align: right;\">\n",
       "      <th></th>\n",
       "      <th>True Positives</th>\n",
       "      <th>False Positives</th>\n",
       "      <th>True Negatives</th>\n",
       "      <th>False Negatives</th>\n",
       "    </tr>\n",
       "  </thead>\n",
       "  <tbody>\n",
       "    <tr>\n",
       "      <th>216</th>\n",
       "      <td>15</td>\n",
       "      <td>3</td>\n",
       "      <td>52353</td>\n",
       "      <td>7</td>\n",
       "    </tr>\n",
       "    <tr>\n",
       "      <th>576</th>\n",
       "      <td>15</td>\n",
       "      <td>3</td>\n",
       "      <td>52353</td>\n",
       "      <td>7</td>\n",
       "    </tr>\n",
       "    <tr>\n",
       "      <th>228</th>\n",
       "      <td>14</td>\n",
       "      <td>2</td>\n",
       "      <td>52354</td>\n",
       "      <td>8</td>\n",
       "    </tr>\n",
       "    <tr>\n",
       "      <th>96</th>\n",
       "      <td>46</td>\n",
       "      <td>21</td>\n",
       "      <td>78487</td>\n",
       "      <td>13</td>\n",
       "    </tr>\n",
       "    <tr>\n",
       "      <th>696</th>\n",
       "      <td>4</td>\n",
       "      <td>0</td>\n",
       "      <td>26182</td>\n",
       "      <td>3</td>\n",
       "    </tr>\n",
       "    <tr>\n",
       "      <th>336</th>\n",
       "      <td>4</td>\n",
       "      <td>0</td>\n",
       "      <td>26182</td>\n",
       "      <td>3</td>\n",
       "    </tr>\n",
       "    <tr>\n",
       "      <th>348</th>\n",
       "      <td>4</td>\n",
       "      <td>0</td>\n",
       "      <td>26182</td>\n",
       "      <td>3</td>\n",
       "    </tr>\n",
       "    <tr>\n",
       "      <th>108</th>\n",
       "      <td>45</td>\n",
       "      <td>20</td>\n",
       "      <td>78488</td>\n",
       "      <td>14</td>\n",
       "    </tr>\n",
       "    <tr>\n",
       "      <th>456</th>\n",
       "      <td>46</td>\n",
       "      <td>23</td>\n",
       "      <td>78485</td>\n",
       "      <td>13</td>\n",
       "    </tr>\n",
       "    <tr>\n",
       "      <th>72</th>\n",
       "      <td>24</td>\n",
       "      <td>0</td>\n",
       "      <td>78508</td>\n",
       "      <td>35</td>\n",
       "    </tr>\n",
       "    <tr>\n",
       "      <th>468</th>\n",
       "      <td>21</td>\n",
       "      <td>0</td>\n",
       "      <td>78508</td>\n",
       "      <td>38</td>\n",
       "    </tr>\n",
       "    <tr>\n",
       "      <th>192</th>\n",
       "      <td>8</td>\n",
       "      <td>0</td>\n",
       "      <td>52356</td>\n",
       "      <td>14</td>\n",
       "    </tr>\n",
       "    <tr>\n",
       "      <th>540</th>\n",
       "      <td>9</td>\n",
       "      <td>5</td>\n",
       "      <td>52351</td>\n",
       "      <td>13</td>\n",
       "    </tr>\n",
       "    <tr>\n",
       "      <th>78</th>\n",
       "      <td>22</td>\n",
       "      <td>12</td>\n",
       "      <td>78496</td>\n",
       "      <td>37</td>\n",
       "    </tr>\n",
       "    <tr>\n",
       "      <th>558</th>\n",
       "      <td>7</td>\n",
       "      <td>1</td>\n",
       "      <td>52355</td>\n",
       "      <td>15</td>\n",
       "    </tr>\n",
       "    <tr>\n",
       "      <th>678</th>\n",
       "      <td>2</td>\n",
       "      <td>0</td>\n",
       "      <td>26182</td>\n",
       "      <td>5</td>\n",
       "    </tr>\n",
       "    <tr>\n",
       "      <th>312</th>\n",
       "      <td>2</td>\n",
       "      <td>0</td>\n",
       "      <td>26182</td>\n",
       "      <td>5</td>\n",
       "    </tr>\n",
       "    <tr>\n",
       "      <th>708</th>\n",
       "      <td>2</td>\n",
       "      <td>0</td>\n",
       "      <td>26182</td>\n",
       "      <td>5</td>\n",
       "    </tr>\n",
       "    <tr>\n",
       "      <th>198</th>\n",
       "      <td>7</td>\n",
       "      <td>3</td>\n",
       "      <td>52353</td>\n",
       "      <td>15</td>\n",
       "    </tr>\n",
       "    <tr>\n",
       "      <th>318</th>\n",
       "      <td>2</td>\n",
       "      <td>0</td>\n",
       "      <td>26182</td>\n",
       "      <td>5</td>\n",
       "    </tr>\n",
       "    <tr>\n",
       "      <th>588</th>\n",
       "      <td>6</td>\n",
       "      <td>0</td>\n",
       "      <td>52356</td>\n",
       "      <td>16</td>\n",
       "    </tr>\n",
       "    <tr>\n",
       "      <th>438</th>\n",
       "      <td>22</td>\n",
       "      <td>32</td>\n",
       "      <td>78476</td>\n",
       "      <td>37</td>\n",
       "    </tr>\n",
       "    <tr>\n",
       "      <th>420</th>\n",
       "      <td>22</td>\n",
       "      <td>39</td>\n",
       "      <td>78469</td>\n",
       "      <td>37</td>\n",
       "    </tr>\n",
       "    <tr>\n",
       "      <th>660</th>\n",
       "      <td>2</td>\n",
       "      <td>3</td>\n",
       "      <td>26179</td>\n",
       "      <td>5</td>\n",
       "    </tr>\n",
       "    <tr>\n",
       "      <th>114</th>\n",
       "      <td>46</td>\n",
       "      <td>3753</td>\n",
       "      <td>74755</td>\n",
       "      <td>13</td>\n",
       "    </tr>\n",
       "    <tr>\n",
       "      <th>594</th>\n",
       "      <td>15</td>\n",
       "      <td>5678</td>\n",
       "      <td>46678</td>\n",
       "      <td>7</td>\n",
       "    </tr>\n",
       "    <tr>\n",
       "      <th>474</th>\n",
       "      <td>46</td>\n",
       "      <td>7777</td>\n",
       "      <td>70731</td>\n",
       "      <td>13</td>\n",
       "    </tr>\n",
       "    <tr>\n",
       "      <th>354</th>\n",
       "      <td>4</td>\n",
       "      <td>1087</td>\n",
       "      <td>25095</td>\n",
       "      <td>3</td>\n",
       "    </tr>\n",
       "    <tr>\n",
       "      <th>234</th>\n",
       "      <td>15</td>\n",
       "      <td>2421</td>\n",
       "      <td>49935</td>\n",
       "      <td>7</td>\n",
       "    </tr>\n",
       "    <tr>\n",
       "      <th>222</th>\n",
       "      <td>0</td>\n",
       "      <td>0</td>\n",
       "      <td>52356</td>\n",
       "      <td>22</td>\n",
       "    </tr>\n",
       "    <tr>\n",
       "      <th>714</th>\n",
       "      <td>4</td>\n",
       "      <td>2351</td>\n",
       "      <td>23831</td>\n",
       "      <td>3</td>\n",
       "    </tr>\n",
       "    <tr>\n",
       "      <th>702</th>\n",
       "      <td>0</td>\n",
       "      <td>0</td>\n",
       "      <td>26182</td>\n",
       "      <td>7</td>\n",
       "    </tr>\n",
       "    <tr>\n",
       "      <th>582</th>\n",
       "      <td>0</td>\n",
       "      <td>0</td>\n",
       "      <td>52356</td>\n",
       "      <td>22</td>\n",
       "    </tr>\n",
       "    <tr>\n",
       "      <th>462</th>\n",
       "      <td>0</td>\n",
       "      <td>0</td>\n",
       "      <td>78508</td>\n",
       "      <td>59</td>\n",
       "    </tr>\n",
       "    <tr>\n",
       "      <th>342</th>\n",
       "      <td>0</td>\n",
       "      <td>0</td>\n",
       "      <td>26182</td>\n",
       "      <td>7</td>\n",
       "    </tr>\n",
       "    <tr>\n",
       "      <th>102</th>\n",
       "      <td>0</td>\n",
       "      <td>0</td>\n",
       "      <td>78508</td>\n",
       "      <td>59</td>\n",
       "    </tr>\n",
       "  </tbody>\n",
       "</table>\n",
       "</div>"
      ],
      "text/plain": [
       "     True Positives  False Positives  True Negatives  False Negatives\n",
       "216              15                3           52353                7\n",
       "576              15                3           52353                7\n",
       "228              14                2           52354                8\n",
       "96               46               21           78487               13\n",
       "696               4                0           26182                3\n",
       "336               4                0           26182                3\n",
       "348               4                0           26182                3\n",
       "108              45               20           78488               14\n",
       "456              46               23           78485               13\n",
       "72               24                0           78508               35\n",
       "468              21                0           78508               38\n",
       "192               8                0           52356               14\n",
       "540               9                5           52351               13\n",
       "78               22               12           78496               37\n",
       "558               7                1           52355               15\n",
       "678               2                0           26182                5\n",
       "312               2                0           26182                5\n",
       "708               2                0           26182                5\n",
       "198               7                3           52353               15\n",
       "318               2                0           26182                5\n",
       "588               6                0           52356               16\n",
       "438              22               32           78476               37\n",
       "420              22               39           78469               37\n",
       "660               2                3           26179                5\n",
       "114              46             3753           74755               13\n",
       "594              15             5678           46678                7\n",
       "474              46             7777           70731               13\n",
       "354               4             1087           25095                3\n",
       "234              15             2421           49935                7\n",
       "222               0                0           52356               22\n",
       "714               4             2351           23831                3\n",
       "702               0                0           26182                7\n",
       "582               0                0           52356               22\n",
       "462               0                0           78508               59\n",
       "342               0                0           26182                7\n",
       "102               0                0           78508               59"
      ]
     },
     "execution_count": 211,
     "metadata": {},
     "output_type": "execute_result"
    }
   ],
   "source": [
    "import plotly.graph_objects as go\n",
    "df[['True Positives', 'False Positives', 'True Negatives',\n",
    "       'False Negatives']]"
   ]
  },
  {
   "cell_type": "code",
   "execution_count": 216,
   "metadata": {},
   "outputs": [],
   "source": [
    "data = {\n",
    "    \"Model A - 100 samples\": {\n",
    "        \"Class 1\": {\"TP\": 80, \"TN\": 70, \"FP\": 10, \"FN\": 10},\n",
    "        \"Class 2\": {\"TP\": 65, \"TN\": 85, \"FP\": 5, \"FN\": 5},\n",
    "    },\n",
    "    \"Model A - 500 samples\": {\n",
    "        \"Class 1\": {\"TP\": 95, \"TN\": 85, \"FP\": 5, \"FN\": 5},\n",
    "        \"Class 2\": {\"TP\": 70, \"TN\": 90, \"FP\": 0, \"FN\": 10},\n",
    "    },\n",
    "    \"Model B - 100 samples\": {\n",
    "        \"Class 1\": {\"TP\": 75, \"TN\": 65, \"FP\": 15, \"FN\": 15},\n",
    "        \"Class 2\": {\"TP\": 55, \"TN\": 75, \"FP\": 15, \"FN\": 15},\n",
    "    },\n",
    "    # ... add data for other models and sample sizes\n",
    "}\n"
   ]
  },
  {
   "cell_type": "code",
   "execution_count": 223,
   "metadata": {},
   "outputs": [
    {
     "ename": "AttributeError",
     "evalue": "module 'plotly.express' has no attribute 'heatmap'",
     "output_type": "error",
     "traceback": [
      "\u001b[1;31m---------------------------------------------------------------------------\u001b[0m",
      "\u001b[1;31mAttributeError\u001b[0m                            Traceback (most recent call last)",
      "Cell \u001b[1;32mIn[223], line 10\u001b[0m\n\u001b[0;32m      1\u001b[0m \u001b[38;5;28;01mimport\u001b[39;00m \u001b[38;5;21;01mplotly\u001b[39;00m\u001b[38;5;21;01m.\u001b[39;00m\u001b[38;5;21;01mexpress\u001b[39;00m \u001b[38;5;28;01mas\u001b[39;00m \u001b[38;5;21;01mpx\u001b[39;00m\n\u001b[0;32m      3\u001b[0m \u001b[38;5;66;03m# Define custom color scales for each class\u001b[39;00m\n\u001b[0;32m      4\u001b[0m \u001b[38;5;66;03m# colorscales = {\u001b[39;00m\n\u001b[0;32m      5\u001b[0m \u001b[38;5;66;03m#     \"Class 1\": px.colors.Greens,\u001b[39;00m\n\u001b[1;32m   (...)\u001b[0m\n\u001b[0;32m      8\u001b[0m \n\u001b[0;32m      9\u001b[0m \u001b[38;5;66;03m# Create the heatmap\u001b[39;00m\n\u001b[1;32m---> 10\u001b[0m fig \u001b[38;5;241m=\u001b[39m \u001b[43mpx\u001b[49m\u001b[38;5;241;43m.\u001b[39;49m\u001b[43mheatmap\u001b[49m(\n\u001b[0;32m     11\u001b[0m     data,\n\u001b[0;32m     12\u001b[0m     x\u001b[38;5;241m=\u001b[39m\u001b[38;5;28mlist\u001b[39m(data\u001b[38;5;241m.\u001b[39mkeys()),\n\u001b[0;32m     13\u001b[0m     y\u001b[38;5;241m=\u001b[39m\u001b[38;5;28mlist\u001b[39m(data\u001b[38;5;241m.\u001b[39mvalues()[\u001b[38;5;241m0\u001b[39m]\u001b[38;5;241m.\u001b[39mkeys()),\n\u001b[0;32m     14\u001b[0m     z\u001b[38;5;241m=\u001b[39m\u001b[38;5;28mlist\u001b[39m(data\u001b[38;5;241m.\u001b[39mvalues()[\u001b[38;5;241m0\u001b[39m]\u001b[38;5;241m.\u001b[39mvalues()),\n\u001b[0;32m     15\u001b[0m     custom_data\u001b[38;5;241m=\u001b[39m\u001b[38;5;28mlist\u001b[39m(data\u001b[38;5;241m.\u001b[39mvalues()),\n\u001b[0;32m     16\u001b[0m     hover_data\u001b[38;5;241m=\u001b[39m[\u001b[38;5;124m\"\u001b[39m\u001b[38;5;124mTP\u001b[39m\u001b[38;5;124m\"\u001b[39m, \u001b[38;5;124m\"\u001b[39m\u001b[38;5;124mTN\u001b[39m\u001b[38;5;124m\"\u001b[39m, \u001b[38;5;124m\"\u001b[39m\u001b[38;5;124mFP\u001b[39m\u001b[38;5;124m\"\u001b[39m, \u001b[38;5;124m\"\u001b[39m\u001b[38;5;124mFN\u001b[39m\u001b[38;5;124m\"\u001b[39m],\n\u001b[0;32m     17\u001b[0m )\n\u001b[0;32m     19\u001b[0m \u001b[38;5;66;03m# Add annotations for individual values\u001b[39;00m\n\u001b[0;32m     20\u001b[0m \u001b[38;5;28;01mfor\u001b[39;00m i, row \u001b[38;5;129;01min\u001b[39;00m \u001b[38;5;28menumerate\u001b[39m(fig\u001b[38;5;241m.\u001b[39mdata):\n",
      "\u001b[1;31mAttributeError\u001b[0m: module 'plotly.express' has no attribute 'heatmap'"
     ]
    }
   ],
   "source": [
    "import plotly.express as px\n",
    "\n",
    "# Define custom color scales for each class\n",
    "# colorscales = {\n",
    "#     \"Class 1\": px.colors.Greens,\n",
    "#     \"Class 2\": px.colors.Blues,\n",
    "# }\n",
    "\n",
    "# Create the heatmap\n",
    "fig = px.heatmap(\n",
    "    data,\n",
    "    x=list(data.keys()),\n",
    "    y=list(data.values()[0].keys()),\n",
    "    z=list(data.values()[0].values()),\n",
    "    custom_data=list(data.values()),\n",
    "    hover_data=[\"TP\", \"TN\", \"FP\", \"FN\"],\n",
    ")\n",
    "\n",
    "# Add annotations for individual values\n",
    "for i, row in enumerate(fig.data):\n",
    "    for j, col in enumerate(row.x):\n",
    "        fig.add_annotation(\n",
    "            x=col,\n",
    "            y=row.y,\n",
    "            text=f\"TP: {data[col][row.y]['TP']}\",\n",
    "            showarrow=False,\n",
    "            align=\"center\",\n",
    "        )\n",
    "\n",
    "# Customize layout and display the plot\n",
    "fig.update_layout(\n",
    "    title=\"Confusion Matrix Comparison\",\n",
    "    xaxis_title=\"Model & Training Sample Size\",\n",
    "    yaxis_title=\"Class\",\n",
    "    legend_title=\"Metric\",\n",
    "    legend_title_textfont_size=12,\n",
    ")\n",
    "\n",
    "fig.show()\n"
   ]
  }
 ],
 "metadata": {
  "kernelspec": {
   "display_name": "Python 3",
   "language": "python",
   "name": "python3"
  },
  "language_info": {
   "codemirror_mode": {
    "name": "ipython",
    "version": 3
   },
   "file_extension": ".py",
   "mimetype": "text/x-python",
   "name": "python",
   "nbconvert_exporter": "python",
   "pygments_lexer": "ipython3",
   "version": "3.11.6"
  }
 },
 "nbformat": 4,
 "nbformat_minor": 2
}
