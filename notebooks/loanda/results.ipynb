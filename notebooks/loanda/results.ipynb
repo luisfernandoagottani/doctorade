{
 "cells": [
  {
   "cell_type": "code",
   "execution_count": 9,
   "metadata": {},
   "outputs": [],
   "source": [
    "import pandas as pd\n",
    "import os"
   ]
  },
  {
   "cell_type": "code",
   "execution_count": 130,
   "metadata": {},
   "outputs": [],
   "source": [
    "results_total = pd.DataFrame()\n",
    "for file in os.listdir():\n",
    "    if pd.Series(file).str.contains('Results')[0]:\n",
    "        results = pd.read_csv(file)\n",
    "        results['file'] = str(file)\n",
    "        results_total = pd.concat([results_total,results])\n",
    "\n",
    "model = results_total['Unnamed: 0'].str.split('-',expand = True)\n",
    "model.columns = ['Variable', 'Model_Info', 'Threshold', 'Execution Time (s)']\n",
    "model['Execution Time (s)'] = model['Execution Time (s)'].str.split(':',expand=True)[1]\n",
    "model['Threshold'] = model['Threshold'].str.split(' * ',expand=True)[4]\n",
    "model['Model'] = model['Model_Info'].str.split('(',expand=True)[0]\n",
    "model['Contamination'] = model['Model_Info'].str.split('(',expand=True)[1].str.split('contamination=',expand=True)[1].str.split(',',expand=True)[0]\n",
    "model['n_neighbors'] = model['Model_Info'].str.split('(',expand=True)[1].str.split('n_neighbors=',expand=True)[1].str.split(',',expand=True)[0].str.split(')',expand=True)[0]\n",
    "model['n_estimators'] = model['Model_Info'].str.split('(',expand=True)[1].str.split('n_estimators=',expand=True)[1].str.split(',',expand=True)[0]\n",
    "\n",
    "results_total = pd.concat([results_total,model], axis=1)\n",
    "\n",
    "results_total['Model Type'] = results_total.file.str.split('_',expand=True)[0].str.split('Results',expand=True)[0]\n",
    "\n",
    "results_total['Training %'] = results_total.file.str.split('_',expand=True)[1].str.split('.',expand=True)[0]\n",
    "\n",
    "results_total = results_total[['Variable','Model', 'Model_Info', 'Model Type', 'Training %','Precision', 'Recall', 'Accuracy', 'F1-score', 'AUC',\n",
    "       'Train Ratio', 'Number of true anomalies',\n",
    "       'Number of predicted anomalies', 'True Positives', 'False Positives',\n",
    "       'True Negatives', 'False Negatives',\n",
    "       'Threshold', 'Execution Time (s)', 'Contamination',\n",
    "       'n_neighbors', 'n_estimators']]"
   ]
  },
  {
   "cell_type": "code",
   "execution_count": 153,
   "metadata": {},
   "outputs": [
    {
     "data": {
      "text/plain": [
       "Contamination\n",
       "0.005    120\n",
       "0.01     120\n",
       "0.05     120\n",
       "0.1      120\n",
       "0.15     120\n",
       "0.001    108\n",
       "0.091     12\n",
       "Name: count, dtype: int64"
      ]
     },
     "execution_count": 153,
     "metadata": {},
     "output_type": "execute_result"
    }
   ],
   "source": [
    "results_total.Contamination.value_counts()"
   ]
  },
  {
   "cell_type": "code",
   "execution_count": 170,
   "metadata": {},
   "outputs": [
    {
     "data": {
      "text/html": [
       "<div>\n",
       "<style scoped>\n",
       "    .dataframe tbody tr th:only-of-type {\n",
       "        vertical-align: middle;\n",
       "    }\n",
       "\n",
       "    .dataframe tbody tr th {\n",
       "        vertical-align: top;\n",
       "    }\n",
       "\n",
       "    .dataframe thead th {\n",
       "        text-align: right;\n",
       "    }\n",
       "</style>\n",
       "<table border=\"1\" class=\"dataframe\">\n",
       "  <thead>\n",
       "    <tr style=\"text-align: right;\">\n",
       "      <th></th>\n",
       "      <th>Variable</th>\n",
       "      <th>Model</th>\n",
       "      <th>Model_Info</th>\n",
       "      <th>Model Type</th>\n",
       "      <th>Training %</th>\n",
       "      <th>Precision</th>\n",
       "      <th>Recall</th>\n",
       "      <th>Accuracy</th>\n",
       "      <th>F1-score</th>\n",
       "      <th>AUC</th>\n",
       "      <th>...</th>\n",
       "      <th>Number of predicted anomalies</th>\n",
       "      <th>True Positives</th>\n",
       "      <th>False Positives</th>\n",
       "      <th>True Negatives</th>\n",
       "      <th>False Negatives</th>\n",
       "      <th>Threshold</th>\n",
       "      <th>Execution Time (s)</th>\n",
       "      <th>Contamination</th>\n",
       "      <th>n_neighbors</th>\n",
       "      <th>n_estimators</th>\n",
       "    </tr>\n",
       "  </thead>\n",
       "  <tbody>\n",
       "    <tr>\n",
       "      <th>60</th>\n",
       "      <td>AC_Power_B (KW)</td>\n",
       "      <td>LOF</td>\n",
       "      <td>LOF(algorithm='auto', contamination=0.001, le...</td>\n",
       "      <td>SemiSupervised</td>\n",
       "      <td>70</td>\n",
       "      <td>0.52</td>\n",
       "      <td>0.41</td>\n",
       "      <td>1.00</td>\n",
       "      <td>0.46</td>\n",
       "      <td>0.70</td>\n",
       "      <td>...</td>\n",
       "      <td>46</td>\n",
       "      <td>24</td>\n",
       "      <td>22</td>\n",
       "      <td>78486</td>\n",
       "      <td>35</td>\n",
       "      <td>0.0</td>\n",
       "      <td>0.366302490234375</td>\n",
       "      <td>0.001</td>\n",
       "      <td>10</td>\n",
       "      <td>None</td>\n",
       "    </tr>\n",
       "    <tr>\n",
       "      <th>61</th>\n",
       "      <td>AC_Power_B (KW)</td>\n",
       "      <td>LOF</td>\n",
       "      <td>LOF(algorithm='auto', contamination=0.005, le...</td>\n",
       "      <td>SemiSupervised</td>\n",
       "      <td>70</td>\n",
       "      <td>0.20</td>\n",
       "      <td>0.78</td>\n",
       "      <td>1.00</td>\n",
       "      <td>0.32</td>\n",
       "      <td>0.89</td>\n",
       "      <td>...</td>\n",
       "      <td>226</td>\n",
       "      <td>46</td>\n",
       "      <td>180</td>\n",
       "      <td>78328</td>\n",
       "      <td>13</td>\n",
       "      <td>0.0</td>\n",
       "      <td>0.39212536811828613</td>\n",
       "      <td>0.005</td>\n",
       "      <td>10</td>\n",
       "      <td>None</td>\n",
       "    </tr>\n",
       "    <tr>\n",
       "      <th>62</th>\n",
       "      <td>AC_Power_B (KW)</td>\n",
       "      <td>LOF</td>\n",
       "      <td>LOF(algorithm='auto', contamination=0.01, lea...</td>\n",
       "      <td>SemiSupervised</td>\n",
       "      <td>70</td>\n",
       "      <td>0.09</td>\n",
       "      <td>0.78</td>\n",
       "      <td>0.99</td>\n",
       "      <td>0.17</td>\n",
       "      <td>0.89</td>\n",
       "      <td>...</td>\n",
       "      <td>487</td>\n",
       "      <td>46</td>\n",
       "      <td>441</td>\n",
       "      <td>78067</td>\n",
       "      <td>13</td>\n",
       "      <td>0.0</td>\n",
       "      <td>0.3663063049316406</td>\n",
       "      <td>0.01</td>\n",
       "      <td>10</td>\n",
       "      <td>None</td>\n",
       "    </tr>\n",
       "    <tr>\n",
       "      <th>63</th>\n",
       "      <td>AC_Power_B (KW)</td>\n",
       "      <td>LOF</td>\n",
       "      <td>LOF(algorithm='auto', contamination=0.05, lea...</td>\n",
       "      <td>SemiSupervised</td>\n",
       "      <td>70</td>\n",
       "      <td>0.01</td>\n",
       "      <td>0.78</td>\n",
       "      <td>0.96</td>\n",
       "      <td>0.03</td>\n",
       "      <td>0.87</td>\n",
       "      <td>...</td>\n",
       "      <td>3427</td>\n",
       "      <td>46</td>\n",
       "      <td>3381</td>\n",
       "      <td>75127</td>\n",
       "      <td>13</td>\n",
       "      <td>0.0</td>\n",
       "      <td>0.35805296897888184</td>\n",
       "      <td>0.05</td>\n",
       "      <td>10</td>\n",
       "      <td>None</td>\n",
       "    </tr>\n",
       "    <tr>\n",
       "      <th>64</th>\n",
       "      <td>AC_Power_B (KW)</td>\n",
       "      <td>LOF</td>\n",
       "      <td>LOF(algorithm='auto', contamination=0.1, leaf...</td>\n",
       "      <td>SemiSupervised</td>\n",
       "      <td>70</td>\n",
       "      <td>0.01</td>\n",
       "      <td>0.78</td>\n",
       "      <td>0.90</td>\n",
       "      <td>0.01</td>\n",
       "      <td>0.84</td>\n",
       "      <td>...</td>\n",
       "      <td>7786</td>\n",
       "      <td>46</td>\n",
       "      <td>7740</td>\n",
       "      <td>70768</td>\n",
       "      <td>13</td>\n",
       "      <td>0.0</td>\n",
       "      <td>0.3625450134277344</td>\n",
       "      <td>0.1</td>\n",
       "      <td>10</td>\n",
       "      <td>None</td>\n",
       "    </tr>\n",
       "    <tr>\n",
       "      <th>...</th>\n",
       "      <td>...</td>\n",
       "      <td>...</td>\n",
       "      <td>...</td>\n",
       "      <td>...</td>\n",
       "      <td>...</td>\n",
       "      <td>...</td>\n",
       "      <td>...</td>\n",
       "      <td>...</td>\n",
       "      <td>...</td>\n",
       "      <td>...</td>\n",
       "      <td>...</td>\n",
       "      <td>...</td>\n",
       "      <td>...</td>\n",
       "      <td>...</td>\n",
       "      <td>...</td>\n",
       "      <td>...</td>\n",
       "      <td>...</td>\n",
       "      <td>...</td>\n",
       "      <td>...</td>\n",
       "      <td>...</td>\n",
       "      <td>...</td>\n",
       "    </tr>\n",
       "    <tr>\n",
       "      <th>115</th>\n",
       "      <td>AC_Power_B (KW)</td>\n",
       "      <td>ECOD</td>\n",
       "      <td>ECOD(contamination=0.005, n_jobs=1)</td>\n",
       "      <td>Unsupervised</td>\n",
       "      <td>90</td>\n",
       "      <td>0.00</td>\n",
       "      <td>0.57</td>\n",
       "      <td>0.91</td>\n",
       "      <td>0.00</td>\n",
       "      <td>0.74</td>\n",
       "      <td>...</td>\n",
       "      <td>2355</td>\n",
       "      <td>4</td>\n",
       "      <td>2351</td>\n",
       "      <td>23831</td>\n",
       "      <td>3</td>\n",
       "      <td>7.0</td>\n",
       "      <td>0.1306140422821045</td>\n",
       "      <td>0.005</td>\n",
       "      <td>None</td>\n",
       "      <td>None</td>\n",
       "    </tr>\n",
       "    <tr>\n",
       "      <th>116</th>\n",
       "      <td>AC_Power_B (KW)</td>\n",
       "      <td>ECOD</td>\n",
       "      <td>ECOD(contamination=0.01, n_jobs=1)</td>\n",
       "      <td>Unsupervised</td>\n",
       "      <td>90</td>\n",
       "      <td>0.00</td>\n",
       "      <td>0.57</td>\n",
       "      <td>0.91</td>\n",
       "      <td>0.00</td>\n",
       "      <td>0.74</td>\n",
       "      <td>...</td>\n",
       "      <td>2355</td>\n",
       "      <td>4</td>\n",
       "      <td>2351</td>\n",
       "      <td>23831</td>\n",
       "      <td>3</td>\n",
       "      <td>6.21</td>\n",
       "      <td>0.14786458015441895</td>\n",
       "      <td>0.01</td>\n",
       "      <td>None</td>\n",
       "      <td>None</td>\n",
       "    </tr>\n",
       "    <tr>\n",
       "      <th>117</th>\n",
       "      <td>AC_Power_B (KW)</td>\n",
       "      <td>ECOD</td>\n",
       "      <td>ECOD(contamination=0.05, n_jobs=1)</td>\n",
       "      <td>Unsupervised</td>\n",
       "      <td>90</td>\n",
       "      <td>0.00</td>\n",
       "      <td>0.57</td>\n",
       "      <td>0.91</td>\n",
       "      <td>0.00</td>\n",
       "      <td>0.74</td>\n",
       "      <td>...</td>\n",
       "      <td>2355</td>\n",
       "      <td>4</td>\n",
       "      <td>2351</td>\n",
       "      <td>23831</td>\n",
       "      <td>3</td>\n",
       "      <td>3.87</td>\n",
       "      <td>0.12284278869628906</td>\n",
       "      <td>0.05</td>\n",
       "      <td>None</td>\n",
       "      <td>None</td>\n",
       "    </tr>\n",
       "    <tr>\n",
       "      <th>118</th>\n",
       "      <td>AC_Power_B (KW)</td>\n",
       "      <td>ECOD</td>\n",
       "      <td>ECOD(contamination=0.1, n_jobs=1)</td>\n",
       "      <td>Unsupervised</td>\n",
       "      <td>90</td>\n",
       "      <td>0.00</td>\n",
       "      <td>0.57</td>\n",
       "      <td>0.91</td>\n",
       "      <td>0.00</td>\n",
       "      <td>0.74</td>\n",
       "      <td>...</td>\n",
       "      <td>2355</td>\n",
       "      <td>4</td>\n",
       "      <td>2351</td>\n",
       "      <td>23831</td>\n",
       "      <td>3</td>\n",
       "      <td>2.89</td>\n",
       "      <td>0.12979459762573242</td>\n",
       "      <td>0.1</td>\n",
       "      <td>None</td>\n",
       "      <td>None</td>\n",
       "    </tr>\n",
       "    <tr>\n",
       "      <th>119</th>\n",
       "      <td>AC_Power_B (KW)</td>\n",
       "      <td>ECOD</td>\n",
       "      <td>ECOD(contamination=0.15, n_jobs=1)</td>\n",
       "      <td>Unsupervised</td>\n",
       "      <td>90</td>\n",
       "      <td>0.00</td>\n",
       "      <td>0.57</td>\n",
       "      <td>0.90</td>\n",
       "      <td>0.00</td>\n",
       "      <td>0.74</td>\n",
       "      <td>...</td>\n",
       "      <td>2493</td>\n",
       "      <td>4</td>\n",
       "      <td>2489</td>\n",
       "      <td>23693</td>\n",
       "      <td>3</td>\n",
       "      <td>2.42</td>\n",
       "      <td>0.12491869926452637</td>\n",
       "      <td>0.15</td>\n",
       "      <td>None</td>\n",
       "      <td>None</td>\n",
       "    </tr>\n",
       "  </tbody>\n",
       "</table>\n",
       "<p>360 rows × 22 columns</p>\n",
       "</div>"
      ],
      "text/plain": [
       "             Variable  Model   \n",
       "60   AC_Power_B (KW)     LOF  \\\n",
       "61   AC_Power_B (KW)     LOF   \n",
       "62   AC_Power_B (KW)     LOF   \n",
       "63   AC_Power_B (KW)     LOF   \n",
       "64   AC_Power_B (KW)     LOF   \n",
       "..                ...    ...   \n",
       "115  AC_Power_B (KW)    ECOD   \n",
       "116  AC_Power_B (KW)    ECOD   \n",
       "117  AC_Power_B (KW)    ECOD   \n",
       "118  AC_Power_B (KW)    ECOD   \n",
       "119  AC_Power_B (KW)    ECOD   \n",
       "\n",
       "                                            Model_Info      Model Type   \n",
       "60    LOF(algorithm='auto', contamination=0.001, le...  SemiSupervised  \\\n",
       "61    LOF(algorithm='auto', contamination=0.005, le...  SemiSupervised   \n",
       "62    LOF(algorithm='auto', contamination=0.01, lea...  SemiSupervised   \n",
       "63    LOF(algorithm='auto', contamination=0.05, lea...  SemiSupervised   \n",
       "64    LOF(algorithm='auto', contamination=0.1, leaf...  SemiSupervised   \n",
       "..                                                 ...             ...   \n",
       "115               ECOD(contamination=0.005, n_jobs=1)     Unsupervised   \n",
       "116                ECOD(contamination=0.01, n_jobs=1)     Unsupervised   \n",
       "117                ECOD(contamination=0.05, n_jobs=1)     Unsupervised   \n",
       "118                 ECOD(contamination=0.1, n_jobs=1)     Unsupervised   \n",
       "119                ECOD(contamination=0.15, n_jobs=1)     Unsupervised   \n",
       "\n",
       "    Training %  Precision  Recall  Accuracy  F1-score   AUC  ...   \n",
       "60          70       0.52    0.41      1.00      0.46  0.70  ...  \\\n",
       "61          70       0.20    0.78      1.00      0.32  0.89  ...   \n",
       "62          70       0.09    0.78      0.99      0.17  0.89  ...   \n",
       "63          70       0.01    0.78      0.96      0.03  0.87  ...   \n",
       "64          70       0.01    0.78      0.90      0.01  0.84  ...   \n",
       "..         ...        ...     ...       ...       ...   ...  ...   \n",
       "115         90       0.00    0.57      0.91      0.00  0.74  ...   \n",
       "116         90       0.00    0.57      0.91      0.00  0.74  ...   \n",
       "117         90       0.00    0.57      0.91      0.00  0.74  ...   \n",
       "118         90       0.00    0.57      0.91      0.00  0.74  ...   \n",
       "119         90       0.00    0.57      0.90      0.00  0.74  ...   \n",
       "\n",
       "     Number of predicted anomalies  True Positives  False Positives   \n",
       "60                              46              24               22  \\\n",
       "61                             226              46              180   \n",
       "62                             487              46              441   \n",
       "63                            3427              46             3381   \n",
       "64                            7786              46             7740   \n",
       "..                             ...             ...              ...   \n",
       "115                           2355               4             2351   \n",
       "116                           2355               4             2351   \n",
       "117                           2355               4             2351   \n",
       "118                           2355               4             2351   \n",
       "119                           2493               4             2489   \n",
       "\n",
       "     True Negatives  False Negatives  Threshold    Execution Time (s)   \n",
       "60            78486               35        0.0     0.366302490234375  \\\n",
       "61            78328               13        0.0   0.39212536811828613   \n",
       "62            78067               13        0.0    0.3663063049316406   \n",
       "63            75127               13        0.0   0.35805296897888184   \n",
       "64            70768               13        0.0    0.3625450134277344   \n",
       "..              ...              ...        ...                   ...   \n",
       "115           23831                3        7.0    0.1306140422821045   \n",
       "116           23831                3       6.21   0.14786458015441895   \n",
       "117           23831                3       3.87   0.12284278869628906   \n",
       "118           23831                3       2.89   0.12979459762573242   \n",
       "119           23693                3       2.42   0.12491869926452637   \n",
       "\n",
       "    Contamination n_neighbors n_estimators  \n",
       "60          0.001          10         None  \n",
       "61          0.005          10         None  \n",
       "62           0.01          10         None  \n",
       "63           0.05          10         None  \n",
       "64            0.1          10         None  \n",
       "..            ...         ...          ...  \n",
       "115         0.005        None         None  \n",
       "116          0.01        None         None  \n",
       "117          0.05        None         None  \n",
       "118           0.1        None         None  \n",
       "119          0.15        None         None  \n",
       "\n",
       "[360 rows x 22 columns]"
      ]
     },
     "execution_count": 170,
     "metadata": {},
     "output_type": "execute_result"
    }
   ],
   "source": [
    "df = df[df['Variable'] == 'AC_Power_B (KW) ']"
   ]
  },
  {
   "cell_type": "code",
   "execution_count": 180,
   "metadata": {},
   "outputs": [],
   "source": [
    "df = df.reset_index(drop=True)"
   ]
  },
  {
   "cell_type": "code",
   "execution_count": 181,
   "metadata": {},
   "outputs": [
    {
     "data": {
      "text/html": [
       "<div>\n",
       "<style scoped>\n",
       "    .dataframe tbody tr th:only-of-type {\n",
       "        vertical-align: middle;\n",
       "    }\n",
       "\n",
       "    .dataframe tbody tr th {\n",
       "        vertical-align: top;\n",
       "    }\n",
       "\n",
       "    .dataframe thead th {\n",
       "        text-align: right;\n",
       "    }\n",
       "</style>\n",
       "<table border=\"1\" class=\"dataframe\">\n",
       "  <thead>\n",
       "    <tr style=\"text-align: right;\">\n",
       "      <th></th>\n",
       "      <th>Variable</th>\n",
       "      <th>Model</th>\n",
       "      <th>Model_Info</th>\n",
       "      <th>Model Type</th>\n",
       "      <th>Training %</th>\n",
       "      <th>Precision</th>\n",
       "      <th>Recall</th>\n",
       "      <th>Accuracy</th>\n",
       "      <th>F1-score</th>\n",
       "      <th>AUC</th>\n",
       "      <th>...</th>\n",
       "      <th>Number of predicted anomalies</th>\n",
       "      <th>True Positives</th>\n",
       "      <th>False Positives</th>\n",
       "      <th>True Negatives</th>\n",
       "      <th>False Negatives</th>\n",
       "      <th>Threshold</th>\n",
       "      <th>Execution Time (s)</th>\n",
       "      <th>Contamination</th>\n",
       "      <th>n_neighbors</th>\n",
       "      <th>n_estimators</th>\n",
       "    </tr>\n",
       "  </thead>\n",
       "  <tbody>\n",
       "    <tr>\n",
       "      <th>42</th>\n",
       "      <td>AC_Power_B (KW)</td>\n",
       "      <td>ABOD</td>\n",
       "      <td>ABOD(contamination=0.001, method='fast', n_ne...</td>\n",
       "      <td>SemiSupervised</td>\n",
       "      <td>70</td>\n",
       "      <td>0.00</td>\n",
       "      <td>0.00</td>\n",
       "      <td>1.00</td>\n",
       "      <td>0.00</td>\n",
       "      <td>0.50</td>\n",
       "      <td>...</td>\n",
       "      <td>0</td>\n",
       "      <td>0</td>\n",
       "      <td>0</td>\n",
       "      <td>78508</td>\n",
       "      <td>59</td>\n",
       "      <td>nan</td>\n",
       "      <td>7.328582525253296</td>\n",
       "      <td>0.001</td>\n",
       "      <td>5</td>\n",
       "      <td>None</td>\n",
       "    </tr>\n",
       "    <tr>\n",
       "      <th>43</th>\n",
       "      <td>AC_Power_B (KW)</td>\n",
       "      <td>ABOD</td>\n",
       "      <td>ABOD(contamination=0.005, method='fast', n_ne...</td>\n",
       "      <td>SemiSupervised</td>\n",
       "      <td>70</td>\n",
       "      <td>0.00</td>\n",
       "      <td>0.00</td>\n",
       "      <td>1.00</td>\n",
       "      <td>0.00</td>\n",
       "      <td>0.50</td>\n",
       "      <td>...</td>\n",
       "      <td>0</td>\n",
       "      <td>0</td>\n",
       "      <td>0</td>\n",
       "      <td>78508</td>\n",
       "      <td>59</td>\n",
       "      <td>nan</td>\n",
       "      <td>7.417108058929443</td>\n",
       "      <td>0.005</td>\n",
       "      <td>5</td>\n",
       "      <td>None</td>\n",
       "    </tr>\n",
       "    <tr>\n",
       "      <th>44</th>\n",
       "      <td>AC_Power_B (KW)</td>\n",
       "      <td>ABOD</td>\n",
       "      <td>ABOD(contamination=0.01, method='fast', n_nei...</td>\n",
       "      <td>SemiSupervised</td>\n",
       "      <td>70</td>\n",
       "      <td>0.00</td>\n",
       "      <td>0.00</td>\n",
       "      <td>1.00</td>\n",
       "      <td>0.00</td>\n",
       "      <td>0.50</td>\n",
       "      <td>...</td>\n",
       "      <td>0</td>\n",
       "      <td>0</td>\n",
       "      <td>0</td>\n",
       "      <td>78508</td>\n",
       "      <td>59</td>\n",
       "      <td>nan</td>\n",
       "      <td>7.481013298034668</td>\n",
       "      <td>0.01</td>\n",
       "      <td>5</td>\n",
       "      <td>None</td>\n",
       "    </tr>\n",
       "    <tr>\n",
       "      <th>45</th>\n",
       "      <td>AC_Power_B (KW)</td>\n",
       "      <td>ABOD</td>\n",
       "      <td>ABOD(contamination=0.05, method='fast', n_nei...</td>\n",
       "      <td>SemiSupervised</td>\n",
       "      <td>70</td>\n",
       "      <td>0.00</td>\n",
       "      <td>0.00</td>\n",
       "      <td>1.00</td>\n",
       "      <td>0.00</td>\n",
       "      <td>0.50</td>\n",
       "      <td>...</td>\n",
       "      <td>0</td>\n",
       "      <td>0</td>\n",
       "      <td>0</td>\n",
       "      <td>78508</td>\n",
       "      <td>59</td>\n",
       "      <td>nan</td>\n",
       "      <td>7.456040382385254</td>\n",
       "      <td>0.05</td>\n",
       "      <td>5</td>\n",
       "      <td>None</td>\n",
       "    </tr>\n",
       "    <tr>\n",
       "      <th>46</th>\n",
       "      <td>AC_Power_B (KW)</td>\n",
       "      <td>ABOD</td>\n",
       "      <td>ABOD(contamination=0.1, method='fast', n_neig...</td>\n",
       "      <td>SemiSupervised</td>\n",
       "      <td>70</td>\n",
       "      <td>0.00</td>\n",
       "      <td>0.00</td>\n",
       "      <td>1.00</td>\n",
       "      <td>0.00</td>\n",
       "      <td>0.50</td>\n",
       "      <td>...</td>\n",
       "      <td>0</td>\n",
       "      <td>0</td>\n",
       "      <td>0</td>\n",
       "      <td>78508</td>\n",
       "      <td>59</td>\n",
       "      <td>nan</td>\n",
       "      <td>7.41864800453186</td>\n",
       "      <td>0.1</td>\n",
       "      <td>5</td>\n",
       "      <td>None</td>\n",
       "    </tr>\n",
       "    <tr>\n",
       "      <th>...</th>\n",
       "      <td>...</td>\n",
       "      <td>...</td>\n",
       "      <td>...</td>\n",
       "      <td>...</td>\n",
       "      <td>...</td>\n",
       "      <td>...</td>\n",
       "      <td>...</td>\n",
       "      <td>...</td>\n",
       "      <td>...</td>\n",
       "      <td>...</td>\n",
       "      <td>...</td>\n",
       "      <td>...</td>\n",
       "      <td>...</td>\n",
       "      <td>...</td>\n",
       "      <td>...</td>\n",
       "      <td>...</td>\n",
       "      <td>...</td>\n",
       "      <td>...</td>\n",
       "      <td>...</td>\n",
       "      <td>...</td>\n",
       "      <td>...</td>\n",
       "    </tr>\n",
       "    <tr>\n",
       "      <th>308</th>\n",
       "      <td>AC_Power_B (KW)</td>\n",
       "      <td>LOF</td>\n",
       "      <td>LOF(algorithm='auto', contamination=0.01, lea...</td>\n",
       "      <td>Unsupervised</td>\n",
       "      <td>90</td>\n",
       "      <td>0.02</td>\n",
       "      <td>0.57</td>\n",
       "      <td>0.99</td>\n",
       "      <td>0.03</td>\n",
       "      <td>0.78</td>\n",
       "      <td>...</td>\n",
       "      <td>266</td>\n",
       "      <td>4</td>\n",
       "      <td>262</td>\n",
       "      <td>25920</td>\n",
       "      <td>3</td>\n",
       "      <td>0.0</td>\n",
       "      <td>7.57984733581543</td>\n",
       "      <td>0.01</td>\n",
       "      <td>30</td>\n",
       "      <td>None</td>\n",
       "    </tr>\n",
       "    <tr>\n",
       "      <th>309</th>\n",
       "      <td>AC_Power_B (KW)</td>\n",
       "      <td>LOF</td>\n",
       "      <td>LOF(algorithm='auto', contamination=0.05, lea...</td>\n",
       "      <td>Unsupervised</td>\n",
       "      <td>90</td>\n",
       "      <td>0.00</td>\n",
       "      <td>0.57</td>\n",
       "      <td>0.96</td>\n",
       "      <td>0.01</td>\n",
       "      <td>0.76</td>\n",
       "      <td>...</td>\n",
       "      <td>1104</td>\n",
       "      <td>4</td>\n",
       "      <td>1100</td>\n",
       "      <td>25082</td>\n",
       "      <td>3</td>\n",
       "      <td>0.0</td>\n",
       "      <td>7.546696186065674</td>\n",
       "      <td>0.05</td>\n",
       "      <td>30</td>\n",
       "      <td>None</td>\n",
       "    </tr>\n",
       "    <tr>\n",
       "      <th>312</th>\n",
       "      <td>AC_Power_B (KW)</td>\n",
       "      <td>LOF</td>\n",
       "      <td>LOF(algorithm='auto', contamination=0.091, le...</td>\n",
       "      <td>Unsupervised</td>\n",
       "      <td>90</td>\n",
       "      <td>0.00</td>\n",
       "      <td>0.57</td>\n",
       "      <td>0.94</td>\n",
       "      <td>0.00</td>\n",
       "      <td>0.75</td>\n",
       "      <td>...</td>\n",
       "      <td>1638</td>\n",
       "      <td>4</td>\n",
       "      <td>1634</td>\n",
       "      <td>24548</td>\n",
       "      <td>3</td>\n",
       "      <td>0.0</td>\n",
       "      <td>8.074262619018555</td>\n",
       "      <td>0.091</td>\n",
       "      <td>50</td>\n",
       "      <td>None</td>\n",
       "    </tr>\n",
       "    <tr>\n",
       "      <th>310</th>\n",
       "      <td>AC_Power_B (KW)</td>\n",
       "      <td>LOF</td>\n",
       "      <td>LOF(algorithm='auto', contamination=0.1, leaf...</td>\n",
       "      <td>Unsupervised</td>\n",
       "      <td>90</td>\n",
       "      <td>0.00</td>\n",
       "      <td>0.57</td>\n",
       "      <td>0.96</td>\n",
       "      <td>0.01</td>\n",
       "      <td>0.76</td>\n",
       "      <td>...</td>\n",
       "      <td>1104</td>\n",
       "      <td>4</td>\n",
       "      <td>1100</td>\n",
       "      <td>25082</td>\n",
       "      <td>3</td>\n",
       "      <td>0.0</td>\n",
       "      <td>7.56572151184082</td>\n",
       "      <td>0.1</td>\n",
       "      <td>30</td>\n",
       "      <td>None</td>\n",
       "    </tr>\n",
       "    <tr>\n",
       "      <th>311</th>\n",
       "      <td>AC_Power_B (KW)</td>\n",
       "      <td>LOF</td>\n",
       "      <td>LOF(algorithm='auto', contamination=0.15, lea...</td>\n",
       "      <td>Unsupervised</td>\n",
       "      <td>90</td>\n",
       "      <td>0.00</td>\n",
       "      <td>0.57</td>\n",
       "      <td>0.96</td>\n",
       "      <td>0.01</td>\n",
       "      <td>0.76</td>\n",
       "      <td>...</td>\n",
       "      <td>1104</td>\n",
       "      <td>4</td>\n",
       "      <td>1100</td>\n",
       "      <td>25082</td>\n",
       "      <td>3</td>\n",
       "      <td>0.0</td>\n",
       "      <td>7.574234247207642</td>\n",
       "      <td>0.15</td>\n",
       "      <td>30</td>\n",
       "      <td>None</td>\n",
       "    </tr>\n",
       "  </tbody>\n",
       "</table>\n",
       "<p>222 rows × 22 columns</p>\n",
       "</div>"
      ],
      "text/plain": [
       "             Variable  Model   \n",
       "42   AC_Power_B (KW)    ABOD  \\\n",
       "43   AC_Power_B (KW)    ABOD   \n",
       "44   AC_Power_B (KW)    ABOD   \n",
       "45   AC_Power_B (KW)    ABOD   \n",
       "46   AC_Power_B (KW)    ABOD   \n",
       "..                ...    ...   \n",
       "308  AC_Power_B (KW)     LOF   \n",
       "309  AC_Power_B (KW)     LOF   \n",
       "312  AC_Power_B (KW)     LOF   \n",
       "310  AC_Power_B (KW)     LOF   \n",
       "311  AC_Power_B (KW)     LOF   \n",
       "\n",
       "                                            Model_Info      Model Type   \n",
       "42    ABOD(contamination=0.001, method='fast', n_ne...  SemiSupervised  \\\n",
       "43    ABOD(contamination=0.005, method='fast', n_ne...  SemiSupervised   \n",
       "44    ABOD(contamination=0.01, method='fast', n_nei...  SemiSupervised   \n",
       "45    ABOD(contamination=0.05, method='fast', n_nei...  SemiSupervised   \n",
       "46    ABOD(contamination=0.1, method='fast', n_neig...  SemiSupervised   \n",
       "..                                                 ...             ...   \n",
       "308   LOF(algorithm='auto', contamination=0.01, lea...    Unsupervised   \n",
       "309   LOF(algorithm='auto', contamination=0.05, lea...    Unsupervised   \n",
       "312   LOF(algorithm='auto', contamination=0.091, le...    Unsupervised   \n",
       "310   LOF(algorithm='auto', contamination=0.1, leaf...    Unsupervised   \n",
       "311   LOF(algorithm='auto', contamination=0.15, lea...    Unsupervised   \n",
       "\n",
       "    Training %  Precision  Recall  Accuracy  F1-score   AUC  ...   \n",
       "42          70       0.00    0.00      1.00      0.00  0.50  ...  \\\n",
       "43          70       0.00    0.00      1.00      0.00  0.50  ...   \n",
       "44          70       0.00    0.00      1.00      0.00  0.50  ...   \n",
       "45          70       0.00    0.00      1.00      0.00  0.50  ...   \n",
       "46          70       0.00    0.00      1.00      0.00  0.50  ...   \n",
       "..         ...        ...     ...       ...       ...   ...  ...   \n",
       "308         90       0.02    0.57      0.99      0.03  0.78  ...   \n",
       "309         90       0.00    0.57      0.96      0.01  0.76  ...   \n",
       "312         90       0.00    0.57      0.94      0.00  0.75  ...   \n",
       "310         90       0.00    0.57      0.96      0.01  0.76  ...   \n",
       "311         90       0.00    0.57      0.96      0.01  0.76  ...   \n",
       "\n",
       "     Number of predicted anomalies  True Positives  False Positives   \n",
       "42                               0               0                0  \\\n",
       "43                               0               0                0   \n",
       "44                               0               0                0   \n",
       "45                               0               0                0   \n",
       "46                               0               0                0   \n",
       "..                             ...             ...              ...   \n",
       "308                            266               4              262   \n",
       "309                           1104               4             1100   \n",
       "312                           1638               4             1634   \n",
       "310                           1104               4             1100   \n",
       "311                           1104               4             1100   \n",
       "\n",
       "     True Negatives  False Negatives  Threshold  Execution Time (s)   \n",
       "42            78508               59        nan   7.328582525253296  \\\n",
       "43            78508               59        nan   7.417108058929443   \n",
       "44            78508               59        nan   7.481013298034668   \n",
       "45            78508               59        nan   7.456040382385254   \n",
       "46            78508               59        nan    7.41864800453186   \n",
       "..              ...              ...        ...                 ...   \n",
       "308           25920                3        0.0    7.57984733581543   \n",
       "309           25082                3        0.0   7.546696186065674   \n",
       "312           24548                3        0.0   8.074262619018555   \n",
       "310           25082                3        0.0    7.56572151184082   \n",
       "311           25082                3        0.0   7.574234247207642   \n",
       "\n",
       "    Contamination n_neighbors n_estimators  \n",
       "42          0.001           5         None  \n",
       "43          0.005           5         None  \n",
       "44           0.01           5         None  \n",
       "45           0.05           5         None  \n",
       "46            0.1           5         None  \n",
       "..            ...         ...          ...  \n",
       "308          0.01          30         None  \n",
       "309          0.05          30         None  \n",
       "312         0.091          50         None  \n",
       "310           0.1          30         None  \n",
       "311          0.15          30         None  \n",
       "\n",
       "[222 rows x 22 columns]"
      ]
     },
     "execution_count": 181,
     "metadata": {},
     "output_type": "execute_result"
    }
   ],
   "source": [
    "df.loc[df.groupby(['Variable','Model', 'Model Type','Training %','Contamination']).AUC.idxmax().values,:]"
   ]
  },
  {
   "cell_type": "code",
   "execution_count": 179,
   "metadata": {},
   "outputs": [
    {
     "data": {
      "text/html": [
       "<div>\n",
       "<style scoped>\n",
       "    .dataframe tbody tr th:only-of-type {\n",
       "        vertical-align: middle;\n",
       "    }\n",
       "\n",
       "    .dataframe tbody tr th {\n",
       "        vertical-align: top;\n",
       "    }\n",
       "\n",
       "    .dataframe thead th {\n",
       "        text-align: right;\n",
       "    }\n",
       "</style>\n",
       "<table border=\"1\" class=\"dataframe\">\n",
       "  <thead>\n",
       "    <tr style=\"text-align: right;\">\n",
       "      <th></th>\n",
       "      <th>Variable</th>\n",
       "      <th>Model</th>\n",
       "      <th>Model_Info</th>\n",
       "      <th>Model Type</th>\n",
       "      <th>Training %</th>\n",
       "      <th>Precision</th>\n",
       "      <th>Recall</th>\n",
       "      <th>Accuracy</th>\n",
       "      <th>F1-score</th>\n",
       "      <th>AUC</th>\n",
       "      <th>...</th>\n",
       "      <th>Number of predicted anomalies</th>\n",
       "      <th>True Positives</th>\n",
       "      <th>False Positives</th>\n",
       "      <th>True Negatives</th>\n",
       "      <th>False Negatives</th>\n",
       "      <th>Threshold</th>\n",
       "      <th>Execution Time (s)</th>\n",
       "      <th>Contamination</th>\n",
       "      <th>n_neighbors</th>\n",
       "      <th>n_estimators</th>\n",
       "    </tr>\n",
       "  </thead>\n",
       "  <tbody>\n",
       "    <tr>\n",
       "      <th>60</th>\n",
       "      <td>AC_Power_B (KW)</td>\n",
       "      <td>LOF</td>\n",
       "      <td>LOF(algorithm='auto', contamination=0.001, le...</td>\n",
       "      <td>SemiSupervised</td>\n",
       "      <td>70</td>\n",
       "      <td>0.52</td>\n",
       "      <td>0.41</td>\n",
       "      <td>1.00</td>\n",
       "      <td>0.46</td>\n",
       "      <td>0.70</td>\n",
       "      <td>...</td>\n",
       "      <td>46</td>\n",
       "      <td>24</td>\n",
       "      <td>22</td>\n",
       "      <td>78486</td>\n",
       "      <td>35</td>\n",
       "      <td>0.0</td>\n",
       "      <td>0.366302490234375</td>\n",
       "      <td>0.001</td>\n",
       "      <td>10</td>\n",
       "      <td>None</td>\n",
       "    </tr>\n",
       "    <tr>\n",
       "      <th>61</th>\n",
       "      <td>AC_Power_B (KW)</td>\n",
       "      <td>LOF</td>\n",
       "      <td>LOF(algorithm='auto', contamination=0.005, le...</td>\n",
       "      <td>SemiSupervised</td>\n",
       "      <td>70</td>\n",
       "      <td>0.20</td>\n",
       "      <td>0.78</td>\n",
       "      <td>1.00</td>\n",
       "      <td>0.32</td>\n",
       "      <td>0.89</td>\n",
       "      <td>...</td>\n",
       "      <td>226</td>\n",
       "      <td>46</td>\n",
       "      <td>180</td>\n",
       "      <td>78328</td>\n",
       "      <td>13</td>\n",
       "      <td>0.0</td>\n",
       "      <td>0.39212536811828613</td>\n",
       "      <td>0.005</td>\n",
       "      <td>10</td>\n",
       "      <td>None</td>\n",
       "    </tr>\n",
       "    <tr>\n",
       "      <th>62</th>\n",
       "      <td>AC_Power_B (KW)</td>\n",
       "      <td>LOF</td>\n",
       "      <td>LOF(algorithm='auto', contamination=0.01, lea...</td>\n",
       "      <td>SemiSupervised</td>\n",
       "      <td>70</td>\n",
       "      <td>0.09</td>\n",
       "      <td>0.78</td>\n",
       "      <td>0.99</td>\n",
       "      <td>0.17</td>\n",
       "      <td>0.89</td>\n",
       "      <td>...</td>\n",
       "      <td>487</td>\n",
       "      <td>46</td>\n",
       "      <td>441</td>\n",
       "      <td>78067</td>\n",
       "      <td>13</td>\n",
       "      <td>0.0</td>\n",
       "      <td>0.3663063049316406</td>\n",
       "      <td>0.01</td>\n",
       "      <td>10</td>\n",
       "      <td>None</td>\n",
       "    </tr>\n",
       "    <tr>\n",
       "      <th>63</th>\n",
       "      <td>AC_Power_B (KW)</td>\n",
       "      <td>LOF</td>\n",
       "      <td>LOF(algorithm='auto', contamination=0.05, lea...</td>\n",
       "      <td>SemiSupervised</td>\n",
       "      <td>70</td>\n",
       "      <td>0.01</td>\n",
       "      <td>0.78</td>\n",
       "      <td>0.96</td>\n",
       "      <td>0.03</td>\n",
       "      <td>0.87</td>\n",
       "      <td>...</td>\n",
       "      <td>3427</td>\n",
       "      <td>46</td>\n",
       "      <td>3381</td>\n",
       "      <td>75127</td>\n",
       "      <td>13</td>\n",
       "      <td>0.0</td>\n",
       "      <td>0.35805296897888184</td>\n",
       "      <td>0.05</td>\n",
       "      <td>10</td>\n",
       "      <td>None</td>\n",
       "    </tr>\n",
       "    <tr>\n",
       "      <th>64</th>\n",
       "      <td>AC_Power_B (KW)</td>\n",
       "      <td>LOF</td>\n",
       "      <td>LOF(algorithm='auto', contamination=0.1, leaf...</td>\n",
       "      <td>SemiSupervised</td>\n",
       "      <td>70</td>\n",
       "      <td>0.01</td>\n",
       "      <td>0.78</td>\n",
       "      <td>0.90</td>\n",
       "      <td>0.01</td>\n",
       "      <td>0.84</td>\n",
       "      <td>...</td>\n",
       "      <td>7786</td>\n",
       "      <td>46</td>\n",
       "      <td>7740</td>\n",
       "      <td>70768</td>\n",
       "      <td>13</td>\n",
       "      <td>0.0</td>\n",
       "      <td>0.3625450134277344</td>\n",
       "      <td>0.1</td>\n",
       "      <td>10</td>\n",
       "      <td>None</td>\n",
       "    </tr>\n",
       "    <tr>\n",
       "      <th>...</th>\n",
       "      <td>...</td>\n",
       "      <td>...</td>\n",
       "      <td>...</td>\n",
       "      <td>...</td>\n",
       "      <td>...</td>\n",
       "      <td>...</td>\n",
       "      <td>...</td>\n",
       "      <td>...</td>\n",
       "      <td>...</td>\n",
       "      <td>...</td>\n",
       "      <td>...</td>\n",
       "      <td>...</td>\n",
       "      <td>...</td>\n",
       "      <td>...</td>\n",
       "      <td>...</td>\n",
       "      <td>...</td>\n",
       "      <td>...</td>\n",
       "      <td>...</td>\n",
       "      <td>...</td>\n",
       "      <td>...</td>\n",
       "      <td>...</td>\n",
       "    </tr>\n",
       "    <tr>\n",
       "      <th>115</th>\n",
       "      <td>AC_Power_B (KW)</td>\n",
       "      <td>ECOD</td>\n",
       "      <td>ECOD(contamination=0.005, n_jobs=1)</td>\n",
       "      <td>Unsupervised</td>\n",
       "      <td>90</td>\n",
       "      <td>0.00</td>\n",
       "      <td>0.57</td>\n",
       "      <td>0.91</td>\n",
       "      <td>0.00</td>\n",
       "      <td>0.74</td>\n",
       "      <td>...</td>\n",
       "      <td>2355</td>\n",
       "      <td>4</td>\n",
       "      <td>2351</td>\n",
       "      <td>23831</td>\n",
       "      <td>3</td>\n",
       "      <td>7.0</td>\n",
       "      <td>0.1306140422821045</td>\n",
       "      <td>0.005</td>\n",
       "      <td>None</td>\n",
       "      <td>None</td>\n",
       "    </tr>\n",
       "    <tr>\n",
       "      <th>116</th>\n",
       "      <td>AC_Power_B (KW)</td>\n",
       "      <td>ECOD</td>\n",
       "      <td>ECOD(contamination=0.01, n_jobs=1)</td>\n",
       "      <td>Unsupervised</td>\n",
       "      <td>90</td>\n",
       "      <td>0.00</td>\n",
       "      <td>0.57</td>\n",
       "      <td>0.91</td>\n",
       "      <td>0.00</td>\n",
       "      <td>0.74</td>\n",
       "      <td>...</td>\n",
       "      <td>2355</td>\n",
       "      <td>4</td>\n",
       "      <td>2351</td>\n",
       "      <td>23831</td>\n",
       "      <td>3</td>\n",
       "      <td>6.21</td>\n",
       "      <td>0.14786458015441895</td>\n",
       "      <td>0.01</td>\n",
       "      <td>None</td>\n",
       "      <td>None</td>\n",
       "    </tr>\n",
       "    <tr>\n",
       "      <th>117</th>\n",
       "      <td>AC_Power_B (KW)</td>\n",
       "      <td>ECOD</td>\n",
       "      <td>ECOD(contamination=0.05, n_jobs=1)</td>\n",
       "      <td>Unsupervised</td>\n",
       "      <td>90</td>\n",
       "      <td>0.00</td>\n",
       "      <td>0.57</td>\n",
       "      <td>0.91</td>\n",
       "      <td>0.00</td>\n",
       "      <td>0.74</td>\n",
       "      <td>...</td>\n",
       "      <td>2355</td>\n",
       "      <td>4</td>\n",
       "      <td>2351</td>\n",
       "      <td>23831</td>\n",
       "      <td>3</td>\n",
       "      <td>3.87</td>\n",
       "      <td>0.12284278869628906</td>\n",
       "      <td>0.05</td>\n",
       "      <td>None</td>\n",
       "      <td>None</td>\n",
       "    </tr>\n",
       "    <tr>\n",
       "      <th>118</th>\n",
       "      <td>AC_Power_B (KW)</td>\n",
       "      <td>ECOD</td>\n",
       "      <td>ECOD(contamination=0.1, n_jobs=1)</td>\n",
       "      <td>Unsupervised</td>\n",
       "      <td>90</td>\n",
       "      <td>0.00</td>\n",
       "      <td>0.57</td>\n",
       "      <td>0.91</td>\n",
       "      <td>0.00</td>\n",
       "      <td>0.74</td>\n",
       "      <td>...</td>\n",
       "      <td>2355</td>\n",
       "      <td>4</td>\n",
       "      <td>2351</td>\n",
       "      <td>23831</td>\n",
       "      <td>3</td>\n",
       "      <td>2.89</td>\n",
       "      <td>0.12979459762573242</td>\n",
       "      <td>0.1</td>\n",
       "      <td>None</td>\n",
       "      <td>None</td>\n",
       "    </tr>\n",
       "    <tr>\n",
       "      <th>119</th>\n",
       "      <td>AC_Power_B (KW)</td>\n",
       "      <td>ECOD</td>\n",
       "      <td>ECOD(contamination=0.15, n_jobs=1)</td>\n",
       "      <td>Unsupervised</td>\n",
       "      <td>90</td>\n",
       "      <td>0.00</td>\n",
       "      <td>0.57</td>\n",
       "      <td>0.90</td>\n",
       "      <td>0.00</td>\n",
       "      <td>0.74</td>\n",
       "      <td>...</td>\n",
       "      <td>2493</td>\n",
       "      <td>4</td>\n",
       "      <td>2489</td>\n",
       "      <td>23693</td>\n",
       "      <td>3</td>\n",
       "      <td>2.42</td>\n",
       "      <td>0.12491869926452637</td>\n",
       "      <td>0.15</td>\n",
       "      <td>None</td>\n",
       "      <td>None</td>\n",
       "    </tr>\n",
       "  </tbody>\n",
       "</table>\n",
       "<p>360 rows × 22 columns</p>\n",
       "</div>"
      ],
      "text/plain": [
       "             Variable  Model   \n",
       "60   AC_Power_B (KW)     LOF  \\\n",
       "61   AC_Power_B (KW)     LOF   \n",
       "62   AC_Power_B (KW)     LOF   \n",
       "63   AC_Power_B (KW)     LOF   \n",
       "64   AC_Power_B (KW)     LOF   \n",
       "..                ...    ...   \n",
       "115  AC_Power_B (KW)    ECOD   \n",
       "116  AC_Power_B (KW)    ECOD   \n",
       "117  AC_Power_B (KW)    ECOD   \n",
       "118  AC_Power_B (KW)    ECOD   \n",
       "119  AC_Power_B (KW)    ECOD   \n",
       "\n",
       "                                            Model_Info      Model Type   \n",
       "60    LOF(algorithm='auto', contamination=0.001, le...  SemiSupervised  \\\n",
       "61    LOF(algorithm='auto', contamination=0.005, le...  SemiSupervised   \n",
       "62    LOF(algorithm='auto', contamination=0.01, lea...  SemiSupervised   \n",
       "63    LOF(algorithm='auto', contamination=0.05, lea...  SemiSupervised   \n",
       "64    LOF(algorithm='auto', contamination=0.1, leaf...  SemiSupervised   \n",
       "..                                                 ...             ...   \n",
       "115               ECOD(contamination=0.005, n_jobs=1)     Unsupervised   \n",
       "116                ECOD(contamination=0.01, n_jobs=1)     Unsupervised   \n",
       "117                ECOD(contamination=0.05, n_jobs=1)     Unsupervised   \n",
       "118                 ECOD(contamination=0.1, n_jobs=1)     Unsupervised   \n",
       "119                ECOD(contamination=0.15, n_jobs=1)     Unsupervised   \n",
       "\n",
       "    Training %  Precision  Recall  Accuracy  F1-score   AUC  ...   \n",
       "60          70       0.52    0.41      1.00      0.46  0.70  ...  \\\n",
       "61          70       0.20    0.78      1.00      0.32  0.89  ...   \n",
       "62          70       0.09    0.78      0.99      0.17  0.89  ...   \n",
       "63          70       0.01    0.78      0.96      0.03  0.87  ...   \n",
       "64          70       0.01    0.78      0.90      0.01  0.84  ...   \n",
       "..         ...        ...     ...       ...       ...   ...  ...   \n",
       "115         90       0.00    0.57      0.91      0.00  0.74  ...   \n",
       "116         90       0.00    0.57      0.91      0.00  0.74  ...   \n",
       "117         90       0.00    0.57      0.91      0.00  0.74  ...   \n",
       "118         90       0.00    0.57      0.91      0.00  0.74  ...   \n",
       "119         90       0.00    0.57      0.90      0.00  0.74  ...   \n",
       "\n",
       "     Number of predicted anomalies  True Positives  False Positives   \n",
       "60                              46              24               22  \\\n",
       "61                             226              46              180   \n",
       "62                             487              46              441   \n",
       "63                            3427              46             3381   \n",
       "64                            7786              46             7740   \n",
       "..                             ...             ...              ...   \n",
       "115                           2355               4             2351   \n",
       "116                           2355               4             2351   \n",
       "117                           2355               4             2351   \n",
       "118                           2355               4             2351   \n",
       "119                           2493               4             2489   \n",
       "\n",
       "     True Negatives  False Negatives  Threshold    Execution Time (s)   \n",
       "60            78486               35        0.0     0.366302490234375  \\\n",
       "61            78328               13        0.0   0.39212536811828613   \n",
       "62            78067               13        0.0    0.3663063049316406   \n",
       "63            75127               13        0.0   0.35805296897888184   \n",
       "64            70768               13        0.0    0.3625450134277344   \n",
       "..              ...              ...        ...                   ...   \n",
       "115           23831                3        7.0    0.1306140422821045   \n",
       "116           23831                3       6.21   0.14786458015441895   \n",
       "117           23831                3       3.87   0.12284278869628906   \n",
       "118           23831                3       2.89   0.12979459762573242   \n",
       "119           23693                3       2.42   0.12491869926452637   \n",
       "\n",
       "    Contamination n_neighbors n_estimators  \n",
       "60          0.001          10         None  \n",
       "61          0.005          10         None  \n",
       "62           0.01          10         None  \n",
       "63           0.05          10         None  \n",
       "64            0.1          10         None  \n",
       "..            ...         ...          ...  \n",
       "115         0.005        None         None  \n",
       "116          0.01        None         None  \n",
       "117          0.05        None         None  \n",
       "118           0.1        None         None  \n",
       "119          0.15        None         None  \n",
       "\n",
       "[360 rows x 22 columns]"
      ]
     },
     "execution_count": 179,
     "metadata": {},
     "output_type": "execute_result"
    }
   ],
   "source": [
    "df"
   ]
  },
  {
   "cell_type": "code",
   "execution_count": 186,
   "metadata": {},
   "outputs": [
    {
     "data": {
      "application/vnd.plotly.v1+json": {
       "config": {
        "plotlyServerURL": "https://plot.ly"
       },
       "data": [
        {
         "alignmentgroup": "True",
         "hovertemplate": "Model Type=SemiSupervised<br>Contamination=0.005<br>Training %=70<br>Model=%{x}<br>AUC=%{y}<extra></extra>",
         "legendgroup": "SemiSupervised",
         "marker": {
          "color": "#636efa",
          "pattern": {
           "shape": ""
          }
         },
         "name": "SemiSupervised",
         "offsetgroup": "SemiSupervised",
         "orientation": "v",
         "showlegend": true,
         "textposition": "auto",
         "type": "bar",
         "x": [
          " KNN",
          " LOF",
          " HBOS",
          " ECOD",
          " IForest",
          " ABOD"
         ],
         "xaxis": "x19",
         "y": [
          0.89,
          0.89,
          0.88,
          0.87,
          0.69,
          0.5
         ],
         "yaxis": "y19"
        },
        {
         "alignmentgroup": "True",
         "hovertemplate": "Model Type=SemiSupervised<br>Contamination=0.005<br>Training %=80<br>Model=%{x}<br>AUC=%{y}<extra></extra>",
         "legendgroup": "SemiSupervised",
         "marker": {
          "color": "#636efa",
          "pattern": {
           "shape": ""
          }
         },
         "name": "SemiSupervised",
         "offsetgroup": "SemiSupervised",
         "orientation": "v",
         "showlegend": false,
         "textposition": "auto",
         "type": "bar",
         "x": [
          " KNN",
          " LOF",
          " HBOS",
          " ECOD",
          " IForest",
          " ABOD"
         ],
         "xaxis": "x20",
         "y": [
          0.84,
          0.84,
          0.82,
          0.82,
          0.66,
          0.5
         ],
         "yaxis": "y20"
        },
        {
         "alignmentgroup": "True",
         "hovertemplate": "Model Type=SemiSupervised<br>Contamination=0.005<br>Training %=90<br>Model=%{x}<br>AUC=%{y}<extra></extra>",
         "legendgroup": "SemiSupervised",
         "marker": {
          "color": "#636efa",
          "pattern": {
           "shape": ""
          }
         },
         "name": "SemiSupervised",
         "offsetgroup": "SemiSupervised",
         "orientation": "v",
         "showlegend": false,
         "textposition": "auto",
         "type": "bar",
         "x": [
          " KNN",
          " LOF",
          " HBOS",
          " ECOD",
          " IForest",
          " ABOD"
         ],
         "xaxis": "x21",
         "y": [
          0.79,
          0.79,
          0.79,
          0.76,
          0.64,
          0.5
         ],
         "yaxis": "y21"
        },
        {
         "alignmentgroup": "True",
         "hovertemplate": "Model Type=SemiSupervised<br>Contamination=0.01<br>Training %=70<br>Model=%{x}<br>AUC=%{y}<extra></extra>",
         "legendgroup": "SemiSupervised",
         "marker": {
          "color": "#636efa",
          "pattern": {
           "shape": ""
          }
         },
         "name": "SemiSupervised",
         "offsetgroup": "SemiSupervised",
         "orientation": "v",
         "showlegend": false,
         "textposition": "auto",
         "type": "bar",
         "x": [
          " KNN",
          " LOF",
          " HBOS",
          " ECOD",
          " IForest",
          " ABOD"
         ],
         "xaxis": "x16",
         "y": [
          0.89,
          0.89,
          0.88,
          0.87,
          0.69,
          0.5
         ],
         "yaxis": "y16"
        },
        {
         "alignmentgroup": "True",
         "hovertemplate": "Model Type=SemiSupervised<br>Contamination=0.01<br>Training %=80<br>Model=%{x}<br>AUC=%{y}<extra></extra>",
         "legendgroup": "SemiSupervised",
         "marker": {
          "color": "#636efa",
          "pattern": {
           "shape": ""
          }
         },
         "name": "SemiSupervised",
         "offsetgroup": "SemiSupervised",
         "orientation": "v",
         "showlegend": false,
         "textposition": "auto",
         "type": "bar",
         "x": [
          " KNN",
          " LOF",
          " HBOS",
          " ECOD",
          " IForest",
          " ABOD"
         ],
         "xaxis": "x17",
         "y": [
          0.84,
          0.84,
          0.82,
          0.82,
          0.66,
          0.5
         ],
         "yaxis": "y17"
        },
        {
         "alignmentgroup": "True",
         "hovertemplate": "Model Type=SemiSupervised<br>Contamination=0.01<br>Training %=90<br>Model=%{x}<br>AUC=%{y}<extra></extra>",
         "legendgroup": "SemiSupervised",
         "marker": {
          "color": "#636efa",
          "pattern": {
           "shape": ""
          }
         },
         "name": "SemiSupervised",
         "offsetgroup": "SemiSupervised",
         "orientation": "v",
         "showlegend": false,
         "textposition": "auto",
         "type": "bar",
         "x": [
          " HBOS",
          " KNN",
          " LOF",
          " ECOD",
          " IForest",
          " ABOD"
         ],
         "xaxis": "x18",
         "y": [
          0.79,
          0.79,
          0.78,
          0.76,
          0.64,
          0.5
         ],
         "yaxis": "y18"
        },
        {
         "alignmentgroup": "True",
         "hovertemplate": "Model Type=SemiSupervised<br>Contamination=0.001<br>Training %=70<br>Model=%{x}<br>AUC=%{y}<extra></extra>",
         "legendgroup": "SemiSupervised",
         "marker": {
          "color": "#636efa",
          "pattern": {
           "shape": ""
          }
         },
         "name": "SemiSupervised",
         "offsetgroup": "SemiSupervised",
         "orientation": "v",
         "showlegend": false,
         "textposition": "auto",
         "type": "bar",
         "x": [
          " KNN",
          " HBOS",
          " ECOD",
          " LOF",
          " IForest",
          " ABOD"
         ],
         "xaxis": "x13",
         "y": [
          0.89,
          0.88,
          0.87,
          0.7,
          0.69,
          0.5
         ],
         "yaxis": "y13"
        },
        {
         "alignmentgroup": "True",
         "hovertemplate": "Model Type=SemiSupervised<br>Contamination=0.001<br>Training %=80<br>Model=%{x}<br>AUC=%{y}<extra></extra>",
         "legendgroup": "SemiSupervised",
         "marker": {
          "color": "#636efa",
          "pattern": {
           "shape": ""
          }
         },
         "name": "SemiSupervised",
         "offsetgroup": "SemiSupervised",
         "orientation": "v",
         "showlegend": false,
         "textposition": "auto",
         "type": "bar",
         "x": [
          " KNN",
          " HBOS",
          " ECOD",
          " LOF",
          " IForest",
          " ABOD"
         ],
         "xaxis": "x14",
         "y": [
          0.84,
          0.82,
          0.82,
          0.68,
          0.66,
          0.5
         ],
         "yaxis": "y14"
        },
        {
         "alignmentgroup": "True",
         "hovertemplate": "Model Type=SemiSupervised<br>Contamination=0.001<br>Training %=90<br>Model=%{x}<br>AUC=%{y}<extra></extra>",
         "legendgroup": "SemiSupervised",
         "marker": {
          "color": "#636efa",
          "pattern": {
           "shape": ""
          }
         },
         "name": "SemiSupervised",
         "offsetgroup": "SemiSupervised",
         "orientation": "v",
         "showlegend": false,
         "textposition": "auto",
         "type": "bar",
         "x": [
          " HBOS",
          " KNN",
          " ECOD",
          " LOF",
          " IForest",
          " ABOD"
         ],
         "xaxis": "x15",
         "y": [
          0.79,
          0.79,
          0.76,
          0.64,
          0.64,
          0.5
         ],
         "yaxis": "y15"
        },
        {
         "alignmentgroup": "True",
         "hovertemplate": "Model Type=SemiSupervised<br>Contamination=0.15<br>Training %=70<br>Model=%{x}<br>AUC=%{y}<extra></extra>",
         "legendgroup": "SemiSupervised",
         "marker": {
          "color": "#636efa",
          "pattern": {
           "shape": ""
          }
         },
         "name": "SemiSupervised",
         "offsetgroup": "SemiSupervised",
         "orientation": "v",
         "showlegend": false,
         "textposition": "auto",
         "type": "bar",
         "x": [
          " HBOS",
          " ECOD",
          " KNN",
          " LOF",
          " IForest",
          " ABOD"
         ],
         "xaxis": "x10",
         "y": [
          0.88,
          0.85,
          0.83,
          0.83,
          0.63,
          0.5
         ],
         "yaxis": "y10"
        },
        {
         "alignmentgroup": "True",
         "hovertemplate": "Model Type=SemiSupervised<br>Contamination=0.15<br>Training %=80<br>Model=%{x}<br>AUC=%{y}<extra></extra>",
         "legendgroup": "SemiSupervised",
         "marker": {
          "color": "#636efa",
          "pattern": {
           "shape": ""
          }
         },
         "name": "SemiSupervised",
         "offsetgroup": "SemiSupervised",
         "orientation": "v",
         "showlegend": false,
         "textposition": "auto",
         "type": "bar",
         "x": [
          " HBOS",
          " ECOD",
          " KNN",
          " LOF",
          " IForest",
          " ABOD"
         ],
         "xaxis": "x11",
         "y": [
          0.82,
          0.8,
          0.78,
          0.77,
          0.61,
          0.5
         ],
         "yaxis": "y11"
        },
        {
         "alignmentgroup": "True",
         "hovertemplate": "Model Type=SemiSupervised<br>Contamination=0.15<br>Training %=90<br>Model=%{x}<br>AUC=%{y}<extra></extra>",
         "legendgroup": "SemiSupervised",
         "marker": {
          "color": "#636efa",
          "pattern": {
           "shape": ""
          }
         },
         "name": "SemiSupervised",
         "offsetgroup": "SemiSupervised",
         "orientation": "v",
         "showlegend": false,
         "textposition": "auto",
         "type": "bar",
         "x": [
          " HBOS",
          " ECOD",
          " KNN",
          " LOF",
          " IForest",
          " ABOD"
         ],
         "xaxis": "x12",
         "y": [
          0.78,
          0.75,
          0.73,
          0.73,
          0.58,
          0.5
         ],
         "yaxis": "y12"
        },
        {
         "alignmentgroup": "True",
         "hovertemplate": "Model Type=SemiSupervised<br>Contamination=0.05<br>Training %=70<br>Model=%{x}<br>AUC=%{y}<extra></extra>",
         "legendgroup": "SemiSupervised",
         "marker": {
          "color": "#636efa",
          "pattern": {
           "shape": ""
          }
         },
         "name": "SemiSupervised",
         "offsetgroup": "SemiSupervised",
         "orientation": "v",
         "showlegend": false,
         "textposition": "auto",
         "type": "bar",
         "x": [
          " HBOS",
          " KNN",
          " LOF",
          " ECOD",
          " IForest",
          " ABOD"
         ],
         "xaxis": "x7",
         "y": [
          0.88,
          0.87,
          0.87,
          0.87,
          0.67,
          0.5
         ],
         "yaxis": "y7"
        },
        {
         "alignmentgroup": "True",
         "hovertemplate": "Model Type=SemiSupervised<br>Contamination=0.05<br>Training %=80<br>Model=%{x}<br>AUC=%{y}<extra></extra>",
         "legendgroup": "SemiSupervised",
         "marker": {
          "color": "#636efa",
          "pattern": {
           "shape": ""
          }
         },
         "name": "SemiSupervised",
         "offsetgroup": "SemiSupervised",
         "orientation": "v",
         "showlegend": false,
         "textposition": "auto",
         "type": "bar",
         "x": [
          " LOF",
          " ECOD",
          " KNN",
          " HBOS",
          " IForest",
          " ABOD"
         ],
         "xaxis": "x8",
         "y": [
          0.82,
          0.82,
          0.82,
          0.82,
          0.65,
          0.5
         ],
         "yaxis": "y8"
        },
        {
         "alignmentgroup": "True",
         "hovertemplate": "Model Type=SemiSupervised<br>Contamination=0.05<br>Training %=90<br>Model=%{x}<br>AUC=%{y}<extra></extra>",
         "legendgroup": "SemiSupervised",
         "marker": {
          "color": "#636efa",
          "pattern": {
           "shape": ""
          }
         },
         "name": "SemiSupervised",
         "offsetgroup": "SemiSupervised",
         "orientation": "v",
         "showlegend": false,
         "textposition": "auto",
         "type": "bar",
         "x": [
          " HBOS",
          " LOF",
          " KNN",
          " ECOD",
          " IForest",
          " ABOD"
         ],
         "xaxis": "x9",
         "y": [
          0.78,
          0.77,
          0.77,
          0.76,
          0.63,
          0.5
         ],
         "yaxis": "y9"
        },
        {
         "alignmentgroup": "True",
         "hovertemplate": "Model Type=SemiSupervised<br>Contamination=0.1<br>Training %=70<br>Model=%{x}<br>AUC=%{y}<extra></extra>",
         "legendgroup": "SemiSupervised",
         "marker": {
          "color": "#636efa",
          "pattern": {
           "shape": ""
          }
         },
         "name": "SemiSupervised",
         "offsetgroup": "SemiSupervised",
         "orientation": "v",
         "showlegend": false,
         "textposition": "auto",
         "type": "bar",
         "x": [
          " HBOS",
          " ECOD",
          " LOF",
          " KNN",
          " IForest",
          " ABOD"
         ],
         "xaxis": "x4",
         "y": [
          0.88,
          0.87,
          0.85,
          0.84,
          0.66,
          0.5
         ],
         "yaxis": "y4"
        },
        {
         "alignmentgroup": "True",
         "hovertemplate": "Model Type=SemiSupervised<br>Contamination=0.1<br>Training %=80<br>Model=%{x}<br>AUC=%{y}<extra></extra>",
         "legendgroup": "SemiSupervised",
         "marker": {
          "color": "#636efa",
          "pattern": {
           "shape": ""
          }
         },
         "name": "SemiSupervised",
         "offsetgroup": "SemiSupervised",
         "orientation": "v",
         "showlegend": false,
         "textposition": "auto",
         "type": "bar",
         "x": [
          " HBOS",
          " ECOD",
          " LOF",
          " KNN",
          " IForest",
          " ABOD"
         ],
         "xaxis": "x5",
         "y": [
          0.82,
          0.82,
          0.8,
          0.79,
          0.64,
          0.5
         ],
         "yaxis": "y5"
        },
        {
         "alignmentgroup": "True",
         "hovertemplate": "Model Type=SemiSupervised<br>Contamination=0.1<br>Training %=90<br>Model=%{x}<br>AUC=%{y}<extra></extra>",
         "legendgroup": "SemiSupervised",
         "marker": {
          "color": "#636efa",
          "pattern": {
           "shape": ""
          }
         },
         "name": "SemiSupervised",
         "offsetgroup": "SemiSupervised",
         "orientation": "v",
         "showlegend": false,
         "textposition": "auto",
         "type": "bar",
         "x": [
          " HBOS",
          " ECOD",
          " LOF",
          " KNN",
          " IForest",
          " ABOD"
         ],
         "xaxis": "x6",
         "y": [
          0.78,
          0.76,
          0.75,
          0.74,
          0.6,
          0.5
         ],
         "yaxis": "y6"
        },
        {
         "alignmentgroup": "True",
         "hovertemplate": "Model Type=SemiSupervised<br>Contamination=0.091<br>Training %=70<br>Model=%{x}<br>AUC=%{y}<extra></extra>",
         "legendgroup": "SemiSupervised",
         "marker": {
          "color": "#636efa",
          "pattern": {
           "shape": ""
          }
         },
         "name": "SemiSupervised",
         "offsetgroup": "SemiSupervised",
         "orientation": "v",
         "showlegend": false,
         "textposition": "auto",
         "type": "bar",
         "x": [
          " LOF"
         ],
         "xaxis": "x",
         "y": [
          0.86
         ],
         "yaxis": "y"
        },
        {
         "alignmentgroup": "True",
         "hovertemplate": "Model Type=SemiSupervised<br>Contamination=0.091<br>Training %=80<br>Model=%{x}<br>AUC=%{y}<extra></extra>",
         "legendgroup": "SemiSupervised",
         "marker": {
          "color": "#636efa",
          "pattern": {
           "shape": ""
          }
         },
         "name": "SemiSupervised",
         "offsetgroup": "SemiSupervised",
         "orientation": "v",
         "showlegend": false,
         "textposition": "auto",
         "type": "bar",
         "x": [
          " LOF"
         ],
         "xaxis": "x2",
         "y": [
          0.8
         ],
         "yaxis": "y2"
        },
        {
         "alignmentgroup": "True",
         "hovertemplate": "Model Type=SemiSupervised<br>Contamination=0.091<br>Training %=90<br>Model=%{x}<br>AUC=%{y}<extra></extra>",
         "legendgroup": "SemiSupervised",
         "marker": {
          "color": "#636efa",
          "pattern": {
           "shape": ""
          }
         },
         "name": "SemiSupervised",
         "offsetgroup": "SemiSupervised",
         "orientation": "v",
         "showlegend": false,
         "textposition": "auto",
         "type": "bar",
         "x": [
          " LOF"
         ],
         "xaxis": "x3",
         "y": [
          0.75
         ],
         "yaxis": "y3"
        },
        {
         "alignmentgroup": "True",
         "hovertemplate": "Model Type=Unsupervised<br>Contamination=0.005<br>Training %=70<br>Model=%{x}<br>AUC=%{y}<extra></extra>",
         "legendgroup": "Unsupervised",
         "marker": {
          "color": "#EF553B",
          "pattern": {
           "shape": ""
          }
         },
         "name": "Unsupervised",
         "offsetgroup": "Unsupervised",
         "orientation": "v",
         "showlegend": true,
         "textposition": "auto",
         "type": "bar",
         "x": [
          " KNN",
          " LOF",
          " ECOD",
          " HBOS",
          " IForest",
          " ABOD"
         ],
         "xaxis": "x19",
         "y": [
          0.89,
          0.88,
          0.84,
          0.68,
          0.68,
          0.5
         ],
         "yaxis": "y19"
        },
        {
         "alignmentgroup": "True",
         "hovertemplate": "Model Type=Unsupervised<br>Contamination=0.005<br>Training %=80<br>Model=%{x}<br>AUC=%{y}<extra></extra>",
         "legendgroup": "Unsupervised",
         "marker": {
          "color": "#EF553B",
          "pattern": {
           "shape": ""
          }
         },
         "name": "Unsupervised",
         "offsetgroup": "Unsupervised",
         "orientation": "v",
         "showlegend": false,
         "textposition": "auto",
         "type": "bar",
         "x": [
          " KNN",
          " LOF",
          " ECOD",
          " IForest",
          " HBOS",
          " ABOD"
         ],
         "xaxis": "x20",
         "y": [
          0.84,
          0.84,
          0.79,
          0.66,
          0.64,
          0.5
         ],
         "yaxis": "y20"
        },
        {
         "alignmentgroup": "True",
         "hovertemplate": "Model Type=Unsupervised<br>Contamination=0.005<br>Training %=90<br>Model=%{x}<br>AUC=%{y}<extra></extra>",
         "legendgroup": "Unsupervised",
         "marker": {
          "color": "#EF553B",
          "pattern": {
           "shape": ""
          }
         },
         "name": "Unsupervised",
         "offsetgroup": "Unsupervised",
         "orientation": "v",
         "showlegend": false,
         "textposition": "auto",
         "type": "bar",
         "x": [
          " KNN",
          " LOF",
          " ECOD",
          " HBOS",
          " IForest",
          " ABOD"
         ],
         "xaxis": "x21",
         "y": [
          0.78,
          0.78,
          0.74,
          0.64,
          0.64,
          0.5
         ],
         "yaxis": "y21"
        },
        {
         "alignmentgroup": "True",
         "hovertemplate": "Model Type=Unsupervised<br>Contamination=0.01<br>Training %=70<br>Model=%{x}<br>AUC=%{y}<extra></extra>",
         "legendgroup": "Unsupervised",
         "marker": {
          "color": "#EF553B",
          "pattern": {
           "shape": ""
          }
         },
         "name": "Unsupervised",
         "offsetgroup": "Unsupervised",
         "orientation": "v",
         "showlegend": false,
         "textposition": "auto",
         "type": "bar",
         "x": [
          " KNN",
          " LOF",
          " ECOD",
          " IForest",
          " HBOS",
          " ABOD"
         ],
         "xaxis": "x16",
         "y": [
          0.88,
          0.88,
          0.84,
          0.68,
          0.68,
          0.5
         ],
         "yaxis": "y16"
        },
        {
         "alignmentgroup": "True",
         "hovertemplate": "Model Type=Unsupervised<br>Contamination=0.01<br>Training %=80<br>Model=%{x}<br>AUC=%{y}<extra></extra>",
         "legendgroup": "Unsupervised",
         "marker": {
          "color": "#EF553B",
          "pattern": {
           "shape": ""
          }
         },
         "name": "Unsupervised",
         "offsetgroup": "Unsupervised",
         "orientation": "v",
         "showlegend": false,
         "textposition": "auto",
         "type": "bar",
         "x": [
          " LOF",
          " KNN",
          " ECOD",
          " IForest",
          " HBOS",
          " ABOD"
         ],
         "xaxis": "x17",
         "y": [
          0.83,
          0.83,
          0.79,
          0.65,
          0.64,
          0.5
         ],
         "yaxis": "y17"
        },
        {
         "alignmentgroup": "True",
         "hovertemplate": "Model Type=Unsupervised<br>Contamination=0.01<br>Training %=90<br>Model=%{x}<br>AUC=%{y}<extra></extra>",
         "legendgroup": "Unsupervised",
         "marker": {
          "color": "#EF553B",
          "pattern": {
           "shape": ""
          }
         },
         "name": "Unsupervised",
         "offsetgroup": "Unsupervised",
         "orientation": "v",
         "showlegend": false,
         "textposition": "auto",
         "type": "bar",
         "x": [
          " KNN",
          " LOF",
          " ECOD",
          " HBOS",
          " IForest",
          " ABOD"
         ],
         "xaxis": "x18",
         "y": [
          0.78,
          0.78,
          0.74,
          0.64,
          0.64,
          0.5
         ],
         "yaxis": "y18"
        },
        {
         "alignmentgroup": "True",
         "hovertemplate": "Model Type=Unsupervised<br>Contamination=0.001<br>Training %=70<br>Model=%{x}<br>AUC=%{y}<extra></extra>",
         "legendgroup": "Unsupervised",
         "marker": {
          "color": "#EF553B",
          "pattern": {
           "shape": ""
          }
         },
         "name": "Unsupervised",
         "offsetgroup": "Unsupervised",
         "orientation": "v",
         "showlegend": false,
         "textposition": "auto",
         "type": "bar",
         "x": [
          " KNN",
          " ECOD",
          " LOF",
          " IForest",
          " HBOS",
          " ABOD"
         ],
         "xaxis": "x13",
         "y": [
          0.89,
          0.84,
          0.71,
          0.69,
          0.68,
          0.5
         ],
         "yaxis": "y13"
        },
        {
         "alignmentgroup": "True",
         "hovertemplate": "Model Type=Unsupervised<br>Contamination=0.001<br>Training %=80<br>Model=%{x}<br>AUC=%{y}<extra></extra>",
         "legendgroup": "Unsupervised",
         "marker": {
          "color": "#EF553B",
          "pattern": {
           "shape": ""
          }
         },
         "name": "Unsupervised",
         "offsetgroup": "Unsupervised",
         "orientation": "v",
         "showlegend": false,
         "textposition": "auto",
         "type": "bar",
         "x": [
          " KNN",
          " ECOD",
          " LOF",
          " IForest",
          " HBOS",
          " ABOD"
         ],
         "xaxis": "x14",
         "y": [
          0.84,
          0.79,
          0.7,
          0.66,
          0.64,
          0.5
         ],
         "yaxis": "y14"
        },
        {
         "alignmentgroup": "True",
         "hovertemplate": "Model Type=Unsupervised<br>Contamination=0.001<br>Training %=90<br>Model=%{x}<br>AUC=%{y}<extra></extra>",
         "legendgroup": "Unsupervised",
         "marker": {
          "color": "#EF553B",
          "pattern": {
           "shape": ""
          }
         },
         "name": "Unsupervised",
         "offsetgroup": "Unsupervised",
         "orientation": "v",
         "showlegend": false,
         "textposition": "auto",
         "type": "bar",
         "x": [
          " KNN",
          " ECOD",
          " HBOS",
          " LOF",
          " IForest",
          " ABOD"
         ],
         "xaxis": "x15",
         "y": [
          0.79,
          0.74,
          0.64,
          0.64,
          0.64,
          0.5
         ],
         "yaxis": "y15"
        },
        {
         "alignmentgroup": "True",
         "hovertemplate": "Model Type=Unsupervised<br>Contamination=0.15<br>Training %=70<br>Model=%{x}<br>AUC=%{y}<extra></extra>",
         "legendgroup": "Unsupervised",
         "marker": {
          "color": "#EF553B",
          "pattern": {
           "shape": ""
          }
         },
         "name": "Unsupervised",
         "offsetgroup": "Unsupervised",
         "orientation": "v",
         "showlegend": false,
         "textposition": "auto",
         "type": "bar",
         "x": [
          " KNN",
          " LOF",
          " ECOD",
          " HBOS",
          " IForest",
          " ABOD"
         ],
         "xaxis": "x10",
         "y": [
          0.88,
          0.86,
          0.84,
          0.68,
          0.61,
          0.5
         ],
         "yaxis": "y10"
        },
        {
         "alignmentgroup": "True",
         "hovertemplate": "Model Type=Unsupervised<br>Contamination=0.15<br>Training %=80<br>Model=%{x}<br>AUC=%{y}<extra></extra>",
         "legendgroup": "Unsupervised",
         "marker": {
          "color": "#EF553B",
          "pattern": {
           "shape": ""
          }
         },
         "name": "Unsupervised",
         "offsetgroup": "Unsupervised",
         "orientation": "v",
         "showlegend": false,
         "textposition": "auto",
         "type": "bar",
         "x": [
          " KNN",
          " LOF",
          " ECOD",
          " HBOS",
          " IForest",
          " ABOD"
         ],
         "xaxis": "x11",
         "y": [
          0.83,
          0.81,
          0.78,
          0.64,
          0.6,
          0.5
         ],
         "yaxis": "y11"
        },
        {
         "alignmentgroup": "True",
         "hovertemplate": "Model Type=Unsupervised<br>Contamination=0.15<br>Training %=90<br>Model=%{x}<br>AUC=%{y}<extra></extra>",
         "legendgroup": "Unsupervised",
         "marker": {
          "color": "#EF553B",
          "pattern": {
           "shape": ""
          }
         },
         "name": "Unsupervised",
         "offsetgroup": "Unsupervised",
         "orientation": "v",
         "showlegend": false,
         "textposition": "auto",
         "type": "bar",
         "x": [
          " KNN",
          " LOF",
          " ECOD",
          " HBOS",
          " IForest",
          " ABOD"
         ],
         "xaxis": "x12",
         "y": [
          0.78,
          0.76,
          0.74,
          0.64,
          0.57,
          0.5
         ],
         "yaxis": "y12"
        },
        {
         "alignmentgroup": "True",
         "hovertemplate": "Model Type=Unsupervised<br>Contamination=0.05<br>Training %=70<br>Model=%{x}<br>AUC=%{y}<extra></extra>",
         "legendgroup": "Unsupervised",
         "marker": {
          "color": "#EF553B",
          "pattern": {
           "shape": ""
          }
         },
         "name": "Unsupervised",
         "offsetgroup": "Unsupervised",
         "orientation": "v",
         "showlegend": false,
         "textposition": "auto",
         "type": "bar",
         "x": [
          " KNN",
          " LOF",
          " ECOD",
          " HBOS",
          " IForest",
          " ABOD"
         ],
         "xaxis": "x7",
         "y": [
          0.88,
          0.86,
          0.84,
          0.68,
          0.66,
          0.5
         ],
         "yaxis": "y7"
        },
        {
         "alignmentgroup": "True",
         "hovertemplate": "Model Type=Unsupervised<br>Contamination=0.05<br>Training %=80<br>Model=%{x}<br>AUC=%{y}<extra></extra>",
         "legendgroup": "Unsupervised",
         "marker": {
          "color": "#EF553B",
          "pattern": {
           "shape": ""
          }
         },
         "name": "Unsupervised",
         "offsetgroup": "Unsupervised",
         "orientation": "v",
         "showlegend": false,
         "textposition": "auto",
         "type": "bar",
         "x": [
          " KNN",
          " LOF",
          " ECOD",
          " HBOS",
          " IForest",
          " ABOD"
         ],
         "xaxis": "x8",
         "y": [
          0.83,
          0.81,
          0.79,
          0.64,
          0.63,
          0.5
         ],
         "yaxis": "y8"
        },
        {
         "alignmentgroup": "True",
         "hovertemplate": "Model Type=Unsupervised<br>Contamination=0.05<br>Training %=90<br>Model=%{x}<br>AUC=%{y}<extra></extra>",
         "legendgroup": "Unsupervised",
         "marker": {
          "color": "#EF553B",
          "pattern": {
           "shape": ""
          }
         },
         "name": "Unsupervised",
         "offsetgroup": "Unsupervised",
         "orientation": "v",
         "showlegend": false,
         "textposition": "auto",
         "type": "bar",
         "x": [
          " KNN",
          " LOF",
          " ECOD",
          " HBOS",
          " IForest",
          " ABOD"
         ],
         "xaxis": "x9",
         "y": [
          0.78,
          0.76,
          0.74,
          0.64,
          0.62,
          0.5
         ],
         "yaxis": "y9"
        },
        {
         "alignmentgroup": "True",
         "hovertemplate": "Model Type=Unsupervised<br>Contamination=0.1<br>Training %=70<br>Model=%{x}<br>AUC=%{y}<extra></extra>",
         "legendgroup": "Unsupervised",
         "marker": {
          "color": "#EF553B",
          "pattern": {
           "shape": ""
          }
         },
         "name": "Unsupervised",
         "offsetgroup": "Unsupervised",
         "orientation": "v",
         "showlegend": false,
         "textposition": "auto",
         "type": "bar",
         "x": [
          " KNN",
          " LOF",
          " ECOD",
          " HBOS",
          " IForest",
          " ABOD"
         ],
         "xaxis": "x4",
         "y": [
          0.88,
          0.86,
          0.84,
          0.68,
          0.63,
          0.5
         ],
         "yaxis": "y4"
        },
        {
         "alignmentgroup": "True",
         "hovertemplate": "Model Type=Unsupervised<br>Contamination=0.1<br>Training %=80<br>Model=%{x}<br>AUC=%{y}<extra></extra>",
         "legendgroup": "Unsupervised",
         "marker": {
          "color": "#EF553B",
          "pattern": {
           "shape": ""
          }
         },
         "name": "Unsupervised",
         "offsetgroup": "Unsupervised",
         "orientation": "v",
         "showlegend": false,
         "textposition": "auto",
         "type": "bar",
         "x": [
          " KNN",
          " LOF",
          " ECOD",
          " HBOS",
          " IForest",
          " ABOD"
         ],
         "xaxis": "x5",
         "y": [
          0.83,
          0.81,
          0.79,
          0.64,
          0.6,
          0.5
         ],
         "yaxis": "y5"
        },
        {
         "alignmentgroup": "True",
         "hovertemplate": "Model Type=Unsupervised<br>Contamination=0.1<br>Training %=90<br>Model=%{x}<br>AUC=%{y}<extra></extra>",
         "legendgroup": "Unsupervised",
         "marker": {
          "color": "#EF553B",
          "pattern": {
           "shape": ""
          }
         },
         "name": "Unsupervised",
         "offsetgroup": "Unsupervised",
         "orientation": "v",
         "showlegend": false,
         "textposition": "auto",
         "type": "bar",
         "x": [
          " KNN",
          " LOF",
          " ECOD",
          " HBOS",
          " IForest",
          " ABOD"
         ],
         "xaxis": "x6",
         "y": [
          0.78,
          0.76,
          0.74,
          0.64,
          0.59,
          0.5
         ],
         "yaxis": "y6"
        },
        {
         "alignmentgroup": "True",
         "hovertemplate": "Model Type=Unsupervised<br>Contamination=0.091<br>Training %=70<br>Model=%{x}<br>AUC=%{y}<extra></extra>",
         "legendgroup": "Unsupervised",
         "marker": {
          "color": "#EF553B",
          "pattern": {
           "shape": ""
          }
         },
         "name": "Unsupervised",
         "offsetgroup": "Unsupervised",
         "orientation": "v",
         "showlegend": false,
         "textposition": "auto",
         "type": "bar",
         "x": [
          " LOF"
         ],
         "xaxis": "x",
         "y": [
          0.84
         ],
         "yaxis": "y"
        },
        {
         "alignmentgroup": "True",
         "hovertemplate": "Model Type=Unsupervised<br>Contamination=0.091<br>Training %=80<br>Model=%{x}<br>AUC=%{y}<extra></extra>",
         "legendgroup": "Unsupervised",
         "marker": {
          "color": "#EF553B",
          "pattern": {
           "shape": ""
          }
         },
         "name": "Unsupervised",
         "offsetgroup": "Unsupervised",
         "orientation": "v",
         "showlegend": false,
         "textposition": "auto",
         "type": "bar",
         "x": [
          " LOF"
         ],
         "xaxis": "x2",
         "y": [
          0.8
         ],
         "yaxis": "y2"
        },
        {
         "alignmentgroup": "True",
         "hovertemplate": "Model Type=Unsupervised<br>Contamination=0.091<br>Training %=90<br>Model=%{x}<br>AUC=%{y}<extra></extra>",
         "legendgroup": "Unsupervised",
         "marker": {
          "color": "#EF553B",
          "pattern": {
           "shape": ""
          }
         },
         "name": "Unsupervised",
         "offsetgroup": "Unsupervised",
         "orientation": "v",
         "showlegend": false,
         "textposition": "auto",
         "type": "bar",
         "x": [
          " LOF"
         ],
         "xaxis": "x3",
         "y": [
          0.75
         ],
         "yaxis": "y3"
        }
       ],
       "layout": {
        "annotations": [
         {
          "font": {},
          "showarrow": false,
          "text": "Training %=70",
          "x": 0.15666666666666665,
          "xanchor": "center",
          "xref": "paper",
          "y": 0.9999999999999999,
          "yanchor": "bottom",
          "yref": "paper"
         },
         {
          "font": {},
          "showarrow": false,
          "text": "Training %=80",
          "x": 0.49,
          "xanchor": "center",
          "xref": "paper",
          "y": 0.9999999999999999,
          "yanchor": "bottom",
          "yref": "paper"
         },
         {
          "font": {},
          "showarrow": false,
          "text": "Training %=90",
          "x": 0.8233333333333333,
          "xanchor": "center",
          "xref": "paper",
          "y": 0.9999999999999999,
          "yanchor": "bottom",
          "yref": "paper"
         },
         {
          "font": {},
          "showarrow": false,
          "text": "Contamination=0.091",
          "textangle": 90,
          "x": 0.98,
          "xanchor": "left",
          "xref": "paper",
          "y": 0.05857142857142857,
          "yanchor": "middle",
          "yref": "paper"
         },
         {
          "font": {},
          "showarrow": false,
          "text": "Contamination=0.1",
          "textangle": 90,
          "x": 0.98,
          "xanchor": "left",
          "xref": "paper",
          "y": 0.2057142857142857,
          "yanchor": "middle",
          "yref": "paper"
         },
         {
          "font": {},
          "showarrow": false,
          "text": "Contamination=0.05",
          "textangle": 90,
          "x": 0.98,
          "xanchor": "left",
          "xref": "paper",
          "y": 0.35285714285714287,
          "yanchor": "middle",
          "yref": "paper"
         },
         {
          "font": {},
          "showarrow": false,
          "text": "Contamination=0.15",
          "textangle": 90,
          "x": 0.98,
          "xanchor": "left",
          "xref": "paper",
          "y": 0.49999999999999994,
          "yanchor": "middle",
          "yref": "paper"
         },
         {
          "font": {},
          "showarrow": false,
          "text": "Contamination=0.001",
          "textangle": 90,
          "x": 0.98,
          "xanchor": "left",
          "xref": "paper",
          "y": 0.647142857142857,
          "yanchor": "middle",
          "yref": "paper"
         },
         {
          "font": {},
          "showarrow": false,
          "text": "Contamination=0.01",
          "textangle": 90,
          "x": 0.98,
          "xanchor": "left",
          "xref": "paper",
          "y": 0.7942857142857143,
          "yanchor": "middle",
          "yref": "paper"
         },
         {
          "font": {},
          "showarrow": false,
          "text": "Contamination=0.005",
          "textangle": 90,
          "x": 0.98,
          "xanchor": "left",
          "xref": "paper",
          "y": 0.9414285714285713,
          "yanchor": "middle",
          "yref": "paper"
         }
        ],
        "barmode": "group",
        "height": 2000,
        "legend": {
         "title": {
          "text": "Model Type"
         },
         "tracegroupgap": 0
        },
        "margin": {
         "t": 60
        },
        "template": {
         "data": {
          "bar": [
           {
            "error_x": {
             "color": "#2a3f5f"
            },
            "error_y": {
             "color": "#2a3f5f"
            },
            "marker": {
             "line": {
              "color": "#E5ECF6",
              "width": 0.5
             },
             "pattern": {
              "fillmode": "overlay",
              "size": 10,
              "solidity": 0.2
             }
            },
            "type": "bar"
           }
          ],
          "barpolar": [
           {
            "marker": {
             "line": {
              "color": "#E5ECF6",
              "width": 0.5
             },
             "pattern": {
              "fillmode": "overlay",
              "size": 10,
              "solidity": 0.2
             }
            },
            "type": "barpolar"
           }
          ],
          "carpet": [
           {
            "aaxis": {
             "endlinecolor": "#2a3f5f",
             "gridcolor": "white",
             "linecolor": "white",
             "minorgridcolor": "white",
             "startlinecolor": "#2a3f5f"
            },
            "baxis": {
             "endlinecolor": "#2a3f5f",
             "gridcolor": "white",
             "linecolor": "white",
             "minorgridcolor": "white",
             "startlinecolor": "#2a3f5f"
            },
            "type": "carpet"
           }
          ],
          "choropleth": [
           {
            "colorbar": {
             "outlinewidth": 0,
             "ticks": ""
            },
            "type": "choropleth"
           }
          ],
          "contour": [
           {
            "colorbar": {
             "outlinewidth": 0,
             "ticks": ""
            },
            "colorscale": [
             [
              0,
              "#0d0887"
             ],
             [
              0.1111111111111111,
              "#46039f"
             ],
             [
              0.2222222222222222,
              "#7201a8"
             ],
             [
              0.3333333333333333,
              "#9c179e"
             ],
             [
              0.4444444444444444,
              "#bd3786"
             ],
             [
              0.5555555555555556,
              "#d8576b"
             ],
             [
              0.6666666666666666,
              "#ed7953"
             ],
             [
              0.7777777777777778,
              "#fb9f3a"
             ],
             [
              0.8888888888888888,
              "#fdca26"
             ],
             [
              1,
              "#f0f921"
             ]
            ],
            "type": "contour"
           }
          ],
          "contourcarpet": [
           {
            "colorbar": {
             "outlinewidth": 0,
             "ticks": ""
            },
            "type": "contourcarpet"
           }
          ],
          "heatmap": [
           {
            "colorbar": {
             "outlinewidth": 0,
             "ticks": ""
            },
            "colorscale": [
             [
              0,
              "#0d0887"
             ],
             [
              0.1111111111111111,
              "#46039f"
             ],
             [
              0.2222222222222222,
              "#7201a8"
             ],
             [
              0.3333333333333333,
              "#9c179e"
             ],
             [
              0.4444444444444444,
              "#bd3786"
             ],
             [
              0.5555555555555556,
              "#d8576b"
             ],
             [
              0.6666666666666666,
              "#ed7953"
             ],
             [
              0.7777777777777778,
              "#fb9f3a"
             ],
             [
              0.8888888888888888,
              "#fdca26"
             ],
             [
              1,
              "#f0f921"
             ]
            ],
            "type": "heatmap"
           }
          ],
          "heatmapgl": [
           {
            "colorbar": {
             "outlinewidth": 0,
             "ticks": ""
            },
            "colorscale": [
             [
              0,
              "#0d0887"
             ],
             [
              0.1111111111111111,
              "#46039f"
             ],
             [
              0.2222222222222222,
              "#7201a8"
             ],
             [
              0.3333333333333333,
              "#9c179e"
             ],
             [
              0.4444444444444444,
              "#bd3786"
             ],
             [
              0.5555555555555556,
              "#d8576b"
             ],
             [
              0.6666666666666666,
              "#ed7953"
             ],
             [
              0.7777777777777778,
              "#fb9f3a"
             ],
             [
              0.8888888888888888,
              "#fdca26"
             ],
             [
              1,
              "#f0f921"
             ]
            ],
            "type": "heatmapgl"
           }
          ],
          "histogram": [
           {
            "marker": {
             "pattern": {
              "fillmode": "overlay",
              "size": 10,
              "solidity": 0.2
             }
            },
            "type": "histogram"
           }
          ],
          "histogram2d": [
           {
            "colorbar": {
             "outlinewidth": 0,
             "ticks": ""
            },
            "colorscale": [
             [
              0,
              "#0d0887"
             ],
             [
              0.1111111111111111,
              "#46039f"
             ],
             [
              0.2222222222222222,
              "#7201a8"
             ],
             [
              0.3333333333333333,
              "#9c179e"
             ],
             [
              0.4444444444444444,
              "#bd3786"
             ],
             [
              0.5555555555555556,
              "#d8576b"
             ],
             [
              0.6666666666666666,
              "#ed7953"
             ],
             [
              0.7777777777777778,
              "#fb9f3a"
             ],
             [
              0.8888888888888888,
              "#fdca26"
             ],
             [
              1,
              "#f0f921"
             ]
            ],
            "type": "histogram2d"
           }
          ],
          "histogram2dcontour": [
           {
            "colorbar": {
             "outlinewidth": 0,
             "ticks": ""
            },
            "colorscale": [
             [
              0,
              "#0d0887"
             ],
             [
              0.1111111111111111,
              "#46039f"
             ],
             [
              0.2222222222222222,
              "#7201a8"
             ],
             [
              0.3333333333333333,
              "#9c179e"
             ],
             [
              0.4444444444444444,
              "#bd3786"
             ],
             [
              0.5555555555555556,
              "#d8576b"
             ],
             [
              0.6666666666666666,
              "#ed7953"
             ],
             [
              0.7777777777777778,
              "#fb9f3a"
             ],
             [
              0.8888888888888888,
              "#fdca26"
             ],
             [
              1,
              "#f0f921"
             ]
            ],
            "type": "histogram2dcontour"
           }
          ],
          "mesh3d": [
           {
            "colorbar": {
             "outlinewidth": 0,
             "ticks": ""
            },
            "type": "mesh3d"
           }
          ],
          "parcoords": [
           {
            "line": {
             "colorbar": {
              "outlinewidth": 0,
              "ticks": ""
             }
            },
            "type": "parcoords"
           }
          ],
          "pie": [
           {
            "automargin": true,
            "type": "pie"
           }
          ],
          "scatter": [
           {
            "fillpattern": {
             "fillmode": "overlay",
             "size": 10,
             "solidity": 0.2
            },
            "type": "scatter"
           }
          ],
          "scatter3d": [
           {
            "line": {
             "colorbar": {
              "outlinewidth": 0,
              "ticks": ""
             }
            },
            "marker": {
             "colorbar": {
              "outlinewidth": 0,
              "ticks": ""
             }
            },
            "type": "scatter3d"
           }
          ],
          "scattercarpet": [
           {
            "marker": {
             "colorbar": {
              "outlinewidth": 0,
              "ticks": ""
             }
            },
            "type": "scattercarpet"
           }
          ],
          "scattergeo": [
           {
            "marker": {
             "colorbar": {
              "outlinewidth": 0,
              "ticks": ""
             }
            },
            "type": "scattergeo"
           }
          ],
          "scattergl": [
           {
            "marker": {
             "colorbar": {
              "outlinewidth": 0,
              "ticks": ""
             }
            },
            "type": "scattergl"
           }
          ],
          "scattermapbox": [
           {
            "marker": {
             "colorbar": {
              "outlinewidth": 0,
              "ticks": ""
             }
            },
            "type": "scattermapbox"
           }
          ],
          "scatterpolar": [
           {
            "marker": {
             "colorbar": {
              "outlinewidth": 0,
              "ticks": ""
             }
            },
            "type": "scatterpolar"
           }
          ],
          "scatterpolargl": [
           {
            "marker": {
             "colorbar": {
              "outlinewidth": 0,
              "ticks": ""
             }
            },
            "type": "scatterpolargl"
           }
          ],
          "scatterternary": [
           {
            "marker": {
             "colorbar": {
              "outlinewidth": 0,
              "ticks": ""
             }
            },
            "type": "scatterternary"
           }
          ],
          "surface": [
           {
            "colorbar": {
             "outlinewidth": 0,
             "ticks": ""
            },
            "colorscale": [
             [
              0,
              "#0d0887"
             ],
             [
              0.1111111111111111,
              "#46039f"
             ],
             [
              0.2222222222222222,
              "#7201a8"
             ],
             [
              0.3333333333333333,
              "#9c179e"
             ],
             [
              0.4444444444444444,
              "#bd3786"
             ],
             [
              0.5555555555555556,
              "#d8576b"
             ],
             [
              0.6666666666666666,
              "#ed7953"
             ],
             [
              0.7777777777777778,
              "#fb9f3a"
             ],
             [
              0.8888888888888888,
              "#fdca26"
             ],
             [
              1,
              "#f0f921"
             ]
            ],
            "type": "surface"
           }
          ],
          "table": [
           {
            "cells": {
             "fill": {
              "color": "#EBF0F8"
             },
             "line": {
              "color": "white"
             }
            },
            "header": {
             "fill": {
              "color": "#C8D4E3"
             },
             "line": {
              "color": "white"
             }
            },
            "type": "table"
           }
          ]
         },
         "layout": {
          "annotationdefaults": {
           "arrowcolor": "#2a3f5f",
           "arrowhead": 0,
           "arrowwidth": 1
          },
          "autotypenumbers": "strict",
          "coloraxis": {
           "colorbar": {
            "outlinewidth": 0,
            "ticks": ""
           }
          },
          "colorscale": {
           "diverging": [
            [
             0,
             "#8e0152"
            ],
            [
             0.1,
             "#c51b7d"
            ],
            [
             0.2,
             "#de77ae"
            ],
            [
             0.3,
             "#f1b6da"
            ],
            [
             0.4,
             "#fde0ef"
            ],
            [
             0.5,
             "#f7f7f7"
            ],
            [
             0.6,
             "#e6f5d0"
            ],
            [
             0.7,
             "#b8e186"
            ],
            [
             0.8,
             "#7fbc41"
            ],
            [
             0.9,
             "#4d9221"
            ],
            [
             1,
             "#276419"
            ]
           ],
           "sequential": [
            [
             0,
             "#0d0887"
            ],
            [
             0.1111111111111111,
             "#46039f"
            ],
            [
             0.2222222222222222,
             "#7201a8"
            ],
            [
             0.3333333333333333,
             "#9c179e"
            ],
            [
             0.4444444444444444,
             "#bd3786"
            ],
            [
             0.5555555555555556,
             "#d8576b"
            ],
            [
             0.6666666666666666,
             "#ed7953"
            ],
            [
             0.7777777777777778,
             "#fb9f3a"
            ],
            [
             0.8888888888888888,
             "#fdca26"
            ],
            [
             1,
             "#f0f921"
            ]
           ],
           "sequentialminus": [
            [
             0,
             "#0d0887"
            ],
            [
             0.1111111111111111,
             "#46039f"
            ],
            [
             0.2222222222222222,
             "#7201a8"
            ],
            [
             0.3333333333333333,
             "#9c179e"
            ],
            [
             0.4444444444444444,
             "#bd3786"
            ],
            [
             0.5555555555555556,
             "#d8576b"
            ],
            [
             0.6666666666666666,
             "#ed7953"
            ],
            [
             0.7777777777777778,
             "#fb9f3a"
            ],
            [
             0.8888888888888888,
             "#fdca26"
            ],
            [
             1,
             "#f0f921"
            ]
           ]
          },
          "colorway": [
           "#636efa",
           "#EF553B",
           "#00cc96",
           "#ab63fa",
           "#FFA15A",
           "#19d3f3",
           "#FF6692",
           "#B6E880",
           "#FF97FF",
           "#FECB52"
          ],
          "font": {
           "color": "#2a3f5f"
          },
          "geo": {
           "bgcolor": "white",
           "lakecolor": "white",
           "landcolor": "#E5ECF6",
           "showlakes": true,
           "showland": true,
           "subunitcolor": "white"
          },
          "hoverlabel": {
           "align": "left"
          },
          "hovermode": "closest",
          "mapbox": {
           "style": "light"
          },
          "paper_bgcolor": "white",
          "plot_bgcolor": "#E5ECF6",
          "polar": {
           "angularaxis": {
            "gridcolor": "white",
            "linecolor": "white",
            "ticks": ""
           },
           "bgcolor": "#E5ECF6",
           "radialaxis": {
            "gridcolor": "white",
            "linecolor": "white",
            "ticks": ""
           }
          },
          "scene": {
           "xaxis": {
            "backgroundcolor": "#E5ECF6",
            "gridcolor": "white",
            "gridwidth": 2,
            "linecolor": "white",
            "showbackground": true,
            "ticks": "",
            "zerolinecolor": "white"
           },
           "yaxis": {
            "backgroundcolor": "#E5ECF6",
            "gridcolor": "white",
            "gridwidth": 2,
            "linecolor": "white",
            "showbackground": true,
            "ticks": "",
            "zerolinecolor": "white"
           },
           "zaxis": {
            "backgroundcolor": "#E5ECF6",
            "gridcolor": "white",
            "gridwidth": 2,
            "linecolor": "white",
            "showbackground": true,
            "ticks": "",
            "zerolinecolor": "white"
           }
          },
          "shapedefaults": {
           "line": {
            "color": "#2a3f5f"
           }
          },
          "ternary": {
           "aaxis": {
            "gridcolor": "white",
            "linecolor": "white",
            "ticks": ""
           },
           "baxis": {
            "gridcolor": "white",
            "linecolor": "white",
            "ticks": ""
           },
           "bgcolor": "#E5ECF6",
           "caxis": {
            "gridcolor": "white",
            "linecolor": "white",
            "ticks": ""
           }
          },
          "title": {
           "x": 0.05
          },
          "xaxis": {
           "automargin": true,
           "gridcolor": "white",
           "linecolor": "white",
           "ticks": "",
           "title": {
            "standoff": 15
           },
           "zerolinecolor": "white",
           "zerolinewidth": 2
          },
          "yaxis": {
           "automargin": true,
           "gridcolor": "white",
           "linecolor": "white",
           "ticks": "",
           "title": {
            "standoff": 15
           },
           "zerolinecolor": "white",
           "zerolinewidth": 2
          }
         }
        },
        "width": 2000,
        "xaxis": {
         "anchor": "y",
         "domain": [
          0,
          0.3133333333333333
         ],
         "title": {
          "text": "Model"
         }
        },
        "xaxis10": {
         "anchor": "y10",
         "domain": [
          0,
          0.3133333333333333
         ],
         "matches": "x",
         "showticklabels": false
        },
        "xaxis11": {
         "anchor": "y11",
         "domain": [
          0.3333333333333333,
          0.6466666666666666
         ],
         "matches": "x",
         "showticklabels": false
        },
        "xaxis12": {
         "anchor": "y12",
         "domain": [
          0.6666666666666666,
          0.98
         ],
         "matches": "x",
         "showticklabels": false
        },
        "xaxis13": {
         "anchor": "y13",
         "domain": [
          0,
          0.3133333333333333
         ],
         "matches": "x",
         "showticklabels": false
        },
        "xaxis14": {
         "anchor": "y14",
         "domain": [
          0.3333333333333333,
          0.6466666666666666
         ],
         "matches": "x",
         "showticklabels": false
        },
        "xaxis15": {
         "anchor": "y15",
         "domain": [
          0.6666666666666666,
          0.98
         ],
         "matches": "x",
         "showticklabels": false
        },
        "xaxis16": {
         "anchor": "y16",
         "domain": [
          0,
          0.3133333333333333
         ],
         "matches": "x",
         "showticklabels": false
        },
        "xaxis17": {
         "anchor": "y17",
         "domain": [
          0.3333333333333333,
          0.6466666666666666
         ],
         "matches": "x",
         "showticklabels": false
        },
        "xaxis18": {
         "anchor": "y18",
         "domain": [
          0.6666666666666666,
          0.98
         ],
         "matches": "x",
         "showticklabels": false
        },
        "xaxis19": {
         "anchor": "y19",
         "domain": [
          0,
          0.3133333333333333
         ],
         "matches": "x",
         "showticklabels": false
        },
        "xaxis2": {
         "anchor": "y2",
         "domain": [
          0.3333333333333333,
          0.6466666666666666
         ],
         "matches": "x",
         "title": {
          "text": "Model"
         }
        },
        "xaxis20": {
         "anchor": "y20",
         "domain": [
          0.3333333333333333,
          0.6466666666666666
         ],
         "matches": "x",
         "showticklabels": false
        },
        "xaxis21": {
         "anchor": "y21",
         "domain": [
          0.6666666666666666,
          0.98
         ],
         "matches": "x",
         "showticklabels": false
        },
        "xaxis3": {
         "anchor": "y3",
         "domain": [
          0.6666666666666666,
          0.98
         ],
         "matches": "x",
         "title": {
          "text": "Model"
         }
        },
        "xaxis4": {
         "anchor": "y4",
         "domain": [
          0,
          0.3133333333333333
         ],
         "matches": "x",
         "showticklabels": false
        },
        "xaxis5": {
         "anchor": "y5",
         "domain": [
          0.3333333333333333,
          0.6466666666666666
         ],
         "matches": "x",
         "showticklabels": false
        },
        "xaxis6": {
         "anchor": "y6",
         "domain": [
          0.6666666666666666,
          0.98
         ],
         "matches": "x",
         "showticklabels": false
        },
        "xaxis7": {
         "anchor": "y7",
         "domain": [
          0,
          0.3133333333333333
         ],
         "matches": "x",
         "showticklabels": false
        },
        "xaxis8": {
         "anchor": "y8",
         "domain": [
          0.3333333333333333,
          0.6466666666666666
         ],
         "matches": "x",
         "showticklabels": false
        },
        "xaxis9": {
         "anchor": "y9",
         "domain": [
          0.6666666666666666,
          0.98
         ],
         "matches": "x",
         "showticklabels": false
        },
        "yaxis": {
         "anchor": "x",
         "domain": [
          0,
          0.11714285714285715
         ],
         "title": {
          "text": "AUC"
         }
        },
        "yaxis10": {
         "anchor": "x10",
         "domain": [
          0.4414285714285714,
          0.5585714285714285
         ],
         "matches": "y",
         "title": {
          "text": "AUC"
         }
        },
        "yaxis11": {
         "anchor": "x11",
         "domain": [
          0.4414285714285714,
          0.5585714285714285
         ],
         "matches": "y",
         "showticklabels": false
        },
        "yaxis12": {
         "anchor": "x12",
         "domain": [
          0.4414285714285714,
          0.5585714285714285
         ],
         "matches": "y",
         "showticklabels": false
        },
        "yaxis13": {
         "anchor": "x13",
         "domain": [
          0.5885714285714285,
          0.7057142857142856
         ],
         "matches": "y",
         "title": {
          "text": "AUC"
         }
        },
        "yaxis14": {
         "anchor": "x14",
         "domain": [
          0.5885714285714285,
          0.7057142857142856
         ],
         "matches": "y",
         "showticklabels": false
        },
        "yaxis15": {
         "anchor": "x15",
         "domain": [
          0.5885714285714285,
          0.7057142857142856
         ],
         "matches": "y",
         "showticklabels": false
        },
        "yaxis16": {
         "anchor": "x16",
         "domain": [
          0.7357142857142858,
          0.8528571428571429
         ],
         "matches": "y",
         "title": {
          "text": "AUC"
         }
        },
        "yaxis17": {
         "anchor": "x17",
         "domain": [
          0.7357142857142858,
          0.8528571428571429
         ],
         "matches": "y",
         "showticklabels": false
        },
        "yaxis18": {
         "anchor": "x18",
         "domain": [
          0.7357142857142858,
          0.8528571428571429
         ],
         "matches": "y",
         "showticklabels": false
        },
        "yaxis19": {
         "anchor": "x19",
         "domain": [
          0.8828571428571428,
          0.9999999999999999
         ],
         "matches": "y",
         "title": {
          "text": "AUC"
         }
        },
        "yaxis2": {
         "anchor": "x2",
         "domain": [
          0,
          0.11714285714285715
         ],
         "matches": "y",
         "showticklabels": false
        },
        "yaxis20": {
         "anchor": "x20",
         "domain": [
          0.8828571428571428,
          0.9999999999999999
         ],
         "matches": "y",
         "showticklabels": false
        },
        "yaxis21": {
         "anchor": "x21",
         "domain": [
          0.8828571428571428,
          0.9999999999999999
         ],
         "matches": "y",
         "showticklabels": false
        },
        "yaxis3": {
         "anchor": "x3",
         "domain": [
          0,
          0.11714285714285715
         ],
         "matches": "y",
         "showticklabels": false
        },
        "yaxis4": {
         "anchor": "x4",
         "domain": [
          0.14714285714285713,
          0.2642857142857143
         ],
         "matches": "y",
         "title": {
          "text": "AUC"
         }
        },
        "yaxis5": {
         "anchor": "x5",
         "domain": [
          0.14714285714285713,
          0.2642857142857143
         ],
         "matches": "y",
         "showticklabels": false
        },
        "yaxis6": {
         "anchor": "x6",
         "domain": [
          0.14714285714285713,
          0.2642857142857143
         ],
         "matches": "y",
         "showticklabels": false
        },
        "yaxis7": {
         "anchor": "x7",
         "domain": [
          0.29428571428571426,
          0.4114285714285714
         ],
         "matches": "y",
         "title": {
          "text": "AUC"
         }
        },
        "yaxis8": {
         "anchor": "x8",
         "domain": [
          0.29428571428571426,
          0.4114285714285714
         ],
         "matches": "y",
         "showticklabels": false
        },
        "yaxis9": {
         "anchor": "x9",
         "domain": [
          0.29428571428571426,
          0.4114285714285714
         ],
         "matches": "y",
         "showticklabels": false
        }
       }
      }
     },
     "metadata": {},
     "output_type": "display_data"
    }
   ],
   "source": [
    "import plotly.express as px\n",
    "df = results_total.copy()\n",
    "df = df.reset_index(drop=True)\n",
    "df = df[df['Variable'] == 'AC_Power_B (KW) ']\n",
    "df = df.loc[df.groupby(['Variable','Model', 'Model Type','Training %','Contamination']).AUC.idxmax().values,:].sort_values(by='AUC', ascending = False)\n",
    "fig = px.bar(df, x=\"Model\", y=\"AUC\", color=\"Model Type\", barmode=\"group\",facet_row=\"Contamination\", facet_col=\"Training %\",width=2000, height=2000)\n",
    "fig.show()"
   ]
  },
  {
   "cell_type": "code",
   "execution_count": 188,
   "metadata": {},
   "outputs": [
    {
     "data": {
      "application/vnd.plotly.v1+json": {
       "config": {
        "plotlyServerURL": "https://plot.ly"
       },
       "data": [
        {
         "alignmentgroup": "True",
         "hovertemplate": "Model Type=SemiSupervised<br>Contamination=0.001<br>Training %=80<br>Model=%{x}<br>F1-score=%{y}<extra></extra>",
         "legendgroup": "SemiSupervised",
         "marker": {
          "color": "#636efa",
          "pattern": {
           "shape": ""
          }
         },
         "name": "SemiSupervised",
         "offsetgroup": "SemiSupervised",
         "orientation": "v",
         "showlegend": true,
         "textposition": "auto",
         "type": "bar",
         "x": [
          " KNN",
          " HBOS",
          " IForest",
          " LOF",
          " ECOD",
          " ABOD"
         ],
         "xaxis": "x19",
         "y": [
          0.75,
          0.74,
          0.44,
          0.35,
          0.01,
          0
         ],
         "yaxis": "y19"
        },
        {
         "alignmentgroup": "True",
         "hovertemplate": "Model Type=SemiSupervised<br>Contamination=0.001<br>Training %=90<br>Model=%{x}<br>F1-score=%{y}<extra></extra>",
         "legendgroup": "SemiSupervised",
         "marker": {
          "color": "#636efa",
          "pattern": {
           "shape": ""
          }
         },
         "name": "SemiSupervised",
         "offsetgroup": "SemiSupervised",
         "orientation": "v",
         "showlegend": false,
         "textposition": "auto",
         "type": "bar",
         "x": [
          " KNN",
          " HBOS",
          " IForest",
          " LOF",
          " ECOD",
          " ABOD"
         ],
         "xaxis": "x20",
         "y": [
          0.73,
          0.73,
          0.44,
          0.21,
          0.01,
          0
         ],
         "yaxis": "y20"
        },
        {
         "alignmentgroup": "True",
         "hovertemplate": "Model Type=SemiSupervised<br>Contamination=0.001<br>Training %=70<br>Model=%{x}<br>F1-score=%{y}<extra></extra>",
         "legendgroup": "SemiSupervised",
         "marker": {
          "color": "#636efa",
          "pattern": {
           "shape": ""
          }
         },
         "name": "SemiSupervised",
         "offsetgroup": "SemiSupervised",
         "orientation": "v",
         "showlegend": false,
         "textposition": "auto",
         "type": "bar",
         "x": [
          " HBOS",
          " KNN",
          " IForest",
          " LOF",
          " ECOD",
          " ABOD"
         ],
         "xaxis": "x21",
         "y": [
          0.73,
          0.73,
          0.48,
          0.46,
          0.02,
          0
         ],
         "yaxis": "y21"
        },
        {
         "alignmentgroup": "True",
         "hovertemplate": "Model Type=SemiSupervised<br>Contamination=0.005<br>Training %=80<br>Model=%{x}<br>F1-score=%{y}<extra></extra>",
         "legendgroup": "SemiSupervised",
         "marker": {
          "color": "#636efa",
          "pattern": {
           "shape": ""
          }
         },
         "name": "SemiSupervised",
         "offsetgroup": "SemiSupervised",
         "orientation": "v",
         "showlegend": false,
         "textposition": "auto",
         "type": "bar",
         "x": [
          " HBOS",
          " KNN",
          " IForest",
          " LOF",
          " ECOD",
          " ABOD"
         ],
         "xaxis": "x16",
         "y": [
          0.72,
          0.71,
          0.44,
          0.22,
          0.01,
          0
         ],
         "yaxis": "y16"
        },
        {
         "alignmentgroup": "True",
         "hovertemplate": "Model Type=SemiSupervised<br>Contamination=0.005<br>Training %=90<br>Model=%{x}<br>F1-score=%{y}<extra></extra>",
         "legendgroup": "SemiSupervised",
         "marker": {
          "color": "#636efa",
          "pattern": {
           "shape": ""
          }
         },
         "name": "SemiSupervised",
         "offsetgroup": "SemiSupervised",
         "orientation": "v",
         "showlegend": false,
         "textposition": "auto",
         "type": "bar",
         "x": [
          " HBOS",
          " KNN",
          " IForest",
          " LOF",
          " ECOD",
          " ABOD"
         ],
         "xaxis": "x17",
         "y": [
          0.73,
          0.62,
          0.44,
          0.23,
          0.01,
          0
         ],
         "yaxis": "y17"
        },
        {
         "alignmentgroup": "True",
         "hovertemplate": "Model Type=SemiSupervised<br>Contamination=0.005<br>Training %=70<br>Model=%{x}<br>F1-score=%{y}<extra></extra>",
         "legendgroup": "SemiSupervised",
         "marker": {
          "color": "#636efa",
          "pattern": {
           "shape": ""
          }
         },
         "name": "SemiSupervised",
         "offsetgroup": "SemiSupervised",
         "orientation": "v",
         "showlegend": false,
         "textposition": "auto",
         "type": "bar",
         "x": [
          " HBOS",
          " KNN",
          " IForest",
          " LOF",
          " ECOD",
          " ABOD"
         ],
         "xaxis": "x18",
         "y": [
          0.69,
          0.64,
          0.34,
          0.32,
          0.02,
          0
         ],
         "yaxis": "y18"
        },
        {
         "alignmentgroup": "True",
         "hovertemplate": "Model Type=SemiSupervised<br>Contamination=0.01<br>Training %=80<br>Model=%{x}<br>F1-score=%{y}<extra></extra>",
         "legendgroup": "SemiSupervised",
         "marker": {
          "color": "#636efa",
          "pattern": {
           "shape": ""
          }
         },
         "name": "SemiSupervised",
         "offsetgroup": "SemiSupervised",
         "orientation": "v",
         "showlegend": false,
         "textposition": "auto",
         "type": "bar",
         "x": [
          " HBOS",
          " KNN",
          " IForest",
          " LOF",
          " ECOD",
          " ABOD"
         ],
         "xaxis": "x13",
         "y": [
          0.72,
          0.67,
          0.42,
          0.08,
          0.01,
          0
         ],
         "yaxis": "y13"
        },
        {
         "alignmentgroup": "True",
         "hovertemplate": "Model Type=SemiSupervised<br>Contamination=0.01<br>Training %=90<br>Model=%{x}<br>F1-score=%{y}<extra></extra>",
         "legendgroup": "SemiSupervised",
         "marker": {
          "color": "#636efa",
          "pattern": {
           "shape": ""
          }
         },
         "name": "SemiSupervised",
         "offsetgroup": "SemiSupervised",
         "orientation": "v",
         "showlegend": false,
         "textposition": "auto",
         "type": "bar",
         "x": [
          " HBOS",
          " KNN",
          " IForest",
          " LOF",
          " ECOD",
          " ABOD"
         ],
         "xaxis": "x14",
         "y": [
          0.73,
          0.5,
          0.4,
          0.07,
          0.01,
          0
         ],
         "yaxis": "y14"
        },
        {
         "alignmentgroup": "True",
         "hovertemplate": "Model Type=SemiSupervised<br>Contamination=0.01<br>Training %=70<br>Model=%{x}<br>F1-score=%{y}<extra></extra>",
         "legendgroup": "SemiSupervised",
         "marker": {
          "color": "#636efa",
          "pattern": {
           "shape": ""
          }
         },
         "name": "SemiSupervised",
         "offsetgroup": "SemiSupervised",
         "orientation": "v",
         "showlegend": false,
         "textposition": "auto",
         "type": "bar",
         "x": [
          " KNN",
          " HBOS",
          " IForest",
          " LOF",
          " ECOD",
          " ABOD"
         ],
         "xaxis": "x15",
         "y": [
          0.57,
          0.55,
          0.31,
          0.17,
          0.02,
          0
         ],
         "yaxis": "y15"
        },
        {
         "alignmentgroup": "True",
         "hovertemplate": "Model Type=SemiSupervised<br>Contamination=0.05<br>Training %=80<br>Model=%{x}<br>F1-score=%{y}<extra></extra>",
         "legendgroup": "SemiSupervised",
         "marker": {
          "color": "#636efa",
          "pattern": {
           "shape": ""
          }
         },
         "name": "SemiSupervised",
         "offsetgroup": "SemiSupervised",
         "orientation": "v",
         "showlegend": false,
         "textposition": "auto",
         "type": "bar",
         "x": [
          " HBOS",
          " LOF",
          " KNN",
          " IForest",
          " ECOD",
          " ABOD"
         ],
         "xaxis": "x10",
         "y": [
          0.1,
          0.01,
          0.01,
          0.01,
          0.01,
          0
         ],
         "yaxis": "y10"
        },
        {
         "alignmentgroup": "True",
         "hovertemplate": "Model Type=SemiSupervised<br>Contamination=0.05<br>Training %=90<br>Model=%{x}<br>F1-score=%{y}<extra></extra>",
         "legendgroup": "SemiSupervised",
         "marker": {
          "color": "#636efa",
          "pattern": {
           "shape": ""
          }
         },
         "name": "SemiSupervised",
         "offsetgroup": "SemiSupervised",
         "orientation": "v",
         "showlegend": false,
         "textposition": "auto",
         "type": "bar",
         "x": [
          " HBOS",
          " KNN",
          " LOF",
          " ECOD",
          " IForest",
          " ABOD"
         ],
         "xaxis": "x11",
         "y": [
          0.04,
          0.01,
          0.01,
          0.01,
          0.01,
          0
         ],
         "yaxis": "y11"
        },
        {
         "alignmentgroup": "True",
         "hovertemplate": "Model Type=SemiSupervised<br>Contamination=0.05<br>Training %=70<br>Model=%{x}<br>F1-score=%{y}<extra></extra>",
         "legendgroup": "SemiSupervised",
         "marker": {
          "color": "#636efa",
          "pattern": {
           "shape": ""
          }
         },
         "name": "SemiSupervised",
         "offsetgroup": "SemiSupervised",
         "orientation": "v",
         "showlegend": false,
         "textposition": "auto",
         "type": "bar",
         "x": [
          " HBOS",
          " KNN",
          " LOF",
          " IForest",
          " ECOD",
          " ABOD"
         ],
         "xaxis": "x12",
         "y": [
          0.15,
          0.03,
          0.03,
          0.02,
          0.02,
          0
         ],
         "yaxis": "y12"
        },
        {
         "alignmentgroup": "True",
         "hovertemplate": "Model Type=SemiSupervised<br>Contamination=0.1<br>Training %=80<br>Model=%{x}<br>F1-score=%{y}<extra></extra>",
         "legendgroup": "SemiSupervised",
         "marker": {
          "color": "#636efa",
          "pattern": {
           "shape": ""
          }
         },
         "name": "SemiSupervised",
         "offsetgroup": "SemiSupervised",
         "orientation": "v",
         "showlegend": false,
         "textposition": "auto",
         "type": "bar",
         "x": [
          " HBOS",
          " KNN",
          " LOF",
          " ECOD",
          " ABOD",
          " IForest"
         ],
         "xaxis": "x7",
         "y": [
          0.1,
          0.01,
          0.01,
          0.01,
          0,
          0
         ],
         "yaxis": "y7"
        },
        {
         "alignmentgroup": "True",
         "hovertemplate": "Model Type=SemiSupervised<br>Contamination=0.1<br>Training %=90<br>Model=%{x}<br>F1-score=%{y}<extra></extra>",
         "legendgroup": "SemiSupervised",
         "marker": {
          "color": "#636efa",
          "pattern": {
           "shape": ""
          }
         },
         "name": "SemiSupervised",
         "offsetgroup": "SemiSupervised",
         "orientation": "v",
         "showlegend": false,
         "textposition": "auto",
         "type": "bar",
         "x": [
          " HBOS",
          " ECOD",
          " LOF",
          " ABOD",
          " IForest",
          " KNN"
         ],
         "xaxis": "x8",
         "y": [
          0.04,
          0.01,
          0,
          0,
          0,
          0
         ],
         "yaxis": "y8"
        },
        {
         "alignmentgroup": "True",
         "hovertemplate": "Model Type=SemiSupervised<br>Contamination=0.1<br>Training %=70<br>Model=%{x}<br>F1-score=%{y}<extra></extra>",
         "legendgroup": "SemiSupervised",
         "marker": {
          "color": "#636efa",
          "pattern": {
           "shape": ""
          }
         },
         "name": "SemiSupervised",
         "offsetgroup": "SemiSupervised",
         "orientation": "v",
         "showlegend": false,
         "textposition": "auto",
         "type": "bar",
         "x": [
          " HBOS",
          " ECOD",
          " KNN",
          " LOF",
          " IForest",
          " ABOD"
         ],
         "xaxis": "x9",
         "y": [
          0.15,
          0.02,
          0.01,
          0.01,
          0.01,
          0
         ],
         "yaxis": "y9"
        },
        {
         "alignmentgroup": "True",
         "hovertemplate": "Model Type=SemiSupervised<br>Contamination=0.15<br>Training %=80<br>Model=%{x}<br>F1-score=%{y}<extra></extra>",
         "legendgroup": "SemiSupervised",
         "marker": {
          "color": "#636efa",
          "pattern": {
           "shape": ""
          }
         },
         "name": "SemiSupervised",
         "offsetgroup": "SemiSupervised",
         "orientation": "v",
         "showlegend": false,
         "textposition": "auto",
         "type": "bar",
         "x": [
          " HBOS",
          " ECOD",
          " LOF",
          " ABOD",
          " IForest",
          " KNN"
         ],
         "xaxis": "x4",
         "y": [
          0.1,
          0.01,
          0,
          0,
          0,
          0
         ],
         "yaxis": "y4"
        },
        {
         "alignmentgroup": "True",
         "hovertemplate": "Model Type=SemiSupervised<br>Contamination=0.15<br>Training %=90<br>Model=%{x}<br>F1-score=%{y}<extra></extra>",
         "legendgroup": "SemiSupervised",
         "marker": {
          "color": "#636efa",
          "pattern": {
           "shape": ""
          }
         },
         "name": "SemiSupervised",
         "offsetgroup": "SemiSupervised",
         "orientation": "v",
         "showlegend": false,
         "textposition": "auto",
         "type": "bar",
         "x": [
          " HBOS",
          " LOF",
          " ABOD",
          " IForest",
          " KNN",
          " ECOD"
         ],
         "xaxis": "x5",
         "y": [
          0.04,
          0,
          0,
          0,
          0,
          0
         ],
         "yaxis": "y5"
        },
        {
         "alignmentgroup": "True",
         "hovertemplate": "Model Type=SemiSupervised<br>Contamination=0.15<br>Training %=70<br>Model=%{x}<br>F1-score=%{y}<extra></extra>",
         "legendgroup": "SemiSupervised",
         "marker": {
          "color": "#636efa",
          "pattern": {
           "shape": ""
          }
         },
         "name": "SemiSupervised",
         "offsetgroup": "SemiSupervised",
         "orientation": "v",
         "showlegend": false,
         "textposition": "auto",
         "type": "bar",
         "x": [
          " HBOS",
          " ECOD",
          " LOF",
          " KNN",
          " ABOD",
          " IForest"
         ],
         "xaxis": "x6",
         "y": [
          0.15,
          0.02,
          0.01,
          0.01,
          0,
          0
         ],
         "yaxis": "y6"
        },
        {
         "alignmentgroup": "True",
         "hovertemplate": "Model Type=SemiSupervised<br>Contamination=0.091<br>Training %=80<br>Model=%{x}<br>F1-score=%{y}<extra></extra>",
         "legendgroup": "SemiSupervised",
         "marker": {
          "color": "#636efa",
          "pattern": {
           "shape": ""
          }
         },
         "name": "SemiSupervised",
         "offsetgroup": "SemiSupervised",
         "orientation": "v",
         "showlegend": false,
         "textposition": "auto",
         "type": "bar",
         "x": [
          " LOF"
         ],
         "xaxis": "x",
         "y": [
          0.01
         ],
         "yaxis": "y"
        },
        {
         "alignmentgroup": "True",
         "hovertemplate": "Model Type=SemiSupervised<br>Contamination=0.091<br>Training %=90<br>Model=%{x}<br>F1-score=%{y}<extra></extra>",
         "legendgroup": "SemiSupervised",
         "marker": {
          "color": "#636efa",
          "pattern": {
           "shape": ""
          }
         },
         "name": "SemiSupervised",
         "offsetgroup": "SemiSupervised",
         "orientation": "v",
         "showlegend": false,
         "textposition": "auto",
         "type": "bar",
         "x": [
          " LOF"
         ],
         "xaxis": "x2",
         "y": [
          0
         ],
         "yaxis": "y2"
        },
        {
         "alignmentgroup": "True",
         "hovertemplate": "Model Type=SemiSupervised<br>Contamination=0.091<br>Training %=70<br>Model=%{x}<br>F1-score=%{y}<extra></extra>",
         "legendgroup": "SemiSupervised",
         "marker": {
          "color": "#636efa",
          "pattern": {
           "shape": ""
          }
         },
         "name": "SemiSupervised",
         "offsetgroup": "SemiSupervised",
         "orientation": "v",
         "showlegend": false,
         "textposition": "auto",
         "type": "bar",
         "x": [
          " LOF"
         ],
         "xaxis": "x3",
         "y": [
          0.02
         ],
         "yaxis": "y3"
        },
        {
         "alignmentgroup": "True",
         "hovertemplate": "Model Type=Unsupervised<br>Contamination=0.001<br>Training %=80<br>Model=%{x}<br>F1-score=%{y}<extra></extra>",
         "legendgroup": "Unsupervised",
         "marker": {
          "color": "#EF553B",
          "pattern": {
           "shape": ""
          }
         },
         "name": "Unsupervised",
         "offsetgroup": "Unsupervised",
         "orientation": "v",
         "showlegend": true,
         "textposition": "auto",
         "type": "bar",
         "x": [
          " KNN",
          " LOF",
          " IForest",
          " HBOS",
          " ECOD",
          " ABOD"
         ],
         "xaxis": "x19",
         "y": [
          0.75,
          0.5,
          0.45,
          0.43,
          0.01,
          0
         ],
         "yaxis": "y19"
        },
        {
         "alignmentgroup": "True",
         "hovertemplate": "Model Type=Unsupervised<br>Contamination=0.001<br>Training %=90<br>Model=%{x}<br>F1-score=%{y}<extra></extra>",
         "legendgroup": "Unsupervised",
         "marker": {
          "color": "#EF553B",
          "pattern": {
           "shape": ""
          }
         },
         "name": "Unsupervised",
         "offsetgroup": "Unsupervised",
         "orientation": "v",
         "showlegend": false,
         "textposition": "auto",
         "type": "bar",
         "x": [
          " KNN",
          " IForest",
          " HBOS",
          " LOF",
          " ECOD",
          " ABOD"
         ],
         "xaxis": "x20",
         "y": [
          0.73,
          0.44,
          0.44,
          0.33,
          0,
          0
         ],
         "yaxis": "y20"
        },
        {
         "alignmentgroup": "True",
         "hovertemplate": "Model Type=Unsupervised<br>Contamination=0.001<br>Training %=70<br>Model=%{x}<br>F1-score=%{y}<extra></extra>",
         "legendgroup": "Unsupervised",
         "marker": {
          "color": "#EF553B",
          "pattern": {
           "shape": ""
          }
         },
         "name": "Unsupervised",
         "offsetgroup": "Unsupervised",
         "orientation": "v",
         "showlegend": false,
         "textposition": "auto",
         "type": "bar",
         "x": [
          " KNN",
          " HBOS",
          " IForest",
          " LOF",
          " ECOD",
          " ABOD"
         ],
         "xaxis": "x21",
         "y": [
          0.72,
          0.53,
          0.35,
          0.33,
          0.01,
          0
         ],
         "yaxis": "y21"
        },
        {
         "alignmentgroup": "True",
         "hovertemplate": "Model Type=Unsupervised<br>Contamination=0.005<br>Training %=80<br>Model=%{x}<br>F1-score=%{y}<extra></extra>",
         "legendgroup": "Unsupervised",
         "marker": {
          "color": "#EF553B",
          "pattern": {
           "shape": ""
          }
         },
         "name": "Unsupervised",
         "offsetgroup": "Unsupervised",
         "orientation": "v",
         "showlegend": false,
         "textposition": "auto",
         "type": "bar",
         "x": [
          " HBOS",
          " IForest",
          " LOF",
          " KNN",
          " ECOD",
          " ABOD"
         ],
         "xaxis": "x16",
         "y": [
          0.43,
          0.06,
          0.06,
          0.06,
          0.01,
          0
         ],
         "yaxis": "y16"
        },
        {
         "alignmentgroup": "True",
         "hovertemplate": "Model Type=Unsupervised<br>Contamination=0.005<br>Training %=90<br>Model=%{x}<br>F1-score=%{y}<extra></extra>",
         "legendgroup": "Unsupervised",
         "marker": {
          "color": "#EF553B",
          "pattern": {
           "shape": ""
          }
         },
         "name": "Unsupervised",
         "offsetgroup": "Unsupervised",
         "orientation": "v",
         "showlegend": false,
         "textposition": "auto",
         "type": "bar",
         "x": [
          " HBOS",
          " KNN",
          " LOF",
          " IForest",
          " ECOD",
          " ABOD"
         ],
         "xaxis": "x17",
         "y": [
          0.44,
          0.1,
          0.08,
          0.02,
          0,
          0
         ],
         "yaxis": "y17"
        },
        {
         "alignmentgroup": "True",
         "hovertemplate": "Model Type=Unsupervised<br>Contamination=0.005<br>Training %=70<br>Model=%{x}<br>F1-score=%{y}<extra></extra>",
         "legendgroup": "Unsupervised",
         "marker": {
          "color": "#EF553B",
          "pattern": {
           "shape": ""
          }
         },
         "name": "Unsupervised",
         "offsetgroup": "Unsupervised",
         "orientation": "v",
         "showlegend": false,
         "textposition": "auto",
         "type": "bar",
         "x": [
          " HBOS",
          " KNN",
          " LOF",
          " IForest",
          " ECOD",
          " ABOD"
         ],
         "xaxis": "x18",
         "y": [
          0.53,
          0.11,
          0.1,
          0.07,
          0.01,
          0
         ],
         "yaxis": "y18"
        },
        {
         "alignmentgroup": "True",
         "hovertemplate": "Model Type=Unsupervised<br>Contamination=0.01<br>Training %=80<br>Model=%{x}<br>F1-score=%{y}<extra></extra>",
         "legendgroup": "Unsupervised",
         "marker": {
          "color": "#EF553B",
          "pattern": {
           "shape": ""
          }
         },
         "name": "Unsupervised",
         "offsetgroup": "Unsupervised",
         "orientation": "v",
         "showlegend": false,
         "textposition": "auto",
         "type": "bar",
         "x": [
          " HBOS",
          " KNN",
          " LOF",
          " IForest",
          " ECOD",
          " ABOD"
         ],
         "xaxis": "x13",
         "y": [
          0.43,
          0.03,
          0.03,
          0.02,
          0.01,
          0
         ],
         "yaxis": "y13"
        },
        {
         "alignmentgroup": "True",
         "hovertemplate": "Model Type=Unsupervised<br>Contamination=0.01<br>Training %=90<br>Model=%{x}<br>F1-score=%{y}<extra></extra>",
         "legendgroup": "Unsupervised",
         "marker": {
          "color": "#EF553B",
          "pattern": {
           "shape": ""
          }
         },
         "name": "Unsupervised",
         "offsetgroup": "Unsupervised",
         "orientation": "v",
         "showlegend": false,
         "textposition": "auto",
         "type": "bar",
         "x": [
          " HBOS",
          " KNN",
          " LOF",
          " IForest",
          " ECOD",
          " ABOD"
         ],
         "xaxis": "x14",
         "y": [
          0.44,
          0.03,
          0.03,
          0.01,
          0,
          0
         ],
         "yaxis": "y14"
        },
        {
         "alignmentgroup": "True",
         "hovertemplate": "Model Type=Unsupervised<br>Contamination=0.01<br>Training %=70<br>Model=%{x}<br>F1-score=%{y}<extra></extra>",
         "legendgroup": "Unsupervised",
         "marker": {
          "color": "#EF553B",
          "pattern": {
           "shape": ""
          }
         },
         "name": "Unsupervised",
         "offsetgroup": "Unsupervised",
         "orientation": "v",
         "showlegend": false,
         "textposition": "auto",
         "type": "bar",
         "x": [
          " HBOS",
          " LOF",
          " KNN",
          " IForest",
          " ECOD",
          " ABOD"
         ],
         "xaxis": "x15",
         "y": [
          0.53,
          0.06,
          0.06,
          0.04,
          0.01,
          0
         ],
         "yaxis": "y15"
        },
        {
         "alignmentgroup": "True",
         "hovertemplate": "Model Type=Unsupervised<br>Contamination=0.05<br>Training %=80<br>Model=%{x}<br>F1-score=%{y}<extra></extra>",
         "legendgroup": "Unsupervised",
         "marker": {
          "color": "#EF553B",
          "pattern": {
           "shape": ""
          }
         },
         "name": "Unsupervised",
         "offsetgroup": "Unsupervised",
         "orientation": "v",
         "showlegend": false,
         "textposition": "auto",
         "type": "bar",
         "x": [
          " HBOS",
          " KNN",
          " LOF",
          " ECOD",
          " ABOD",
          " IForest"
         ],
         "xaxis": "x10",
         "y": [
          0.43,
          0.03,
          0.01,
          0.01,
          0,
          0
         ],
         "yaxis": "y10"
        },
        {
         "alignmentgroup": "True",
         "hovertemplate": "Model Type=Unsupervised<br>Contamination=0.05<br>Training %=90<br>Model=%{x}<br>F1-score=%{y}<extra></extra>",
         "legendgroup": "Unsupervised",
         "marker": {
          "color": "#EF553B",
          "pattern": {
           "shape": ""
          }
         },
         "name": "Unsupervised",
         "offsetgroup": "Unsupervised",
         "orientation": "v",
         "showlegend": false,
         "textposition": "auto",
         "type": "bar",
         "x": [
          " HBOS",
          " KNN",
          " LOF",
          " IForest",
          " ECOD",
          " ABOD"
         ],
         "xaxis": "x11",
         "y": [
          0.44,
          0.03,
          0.01,
          0,
          0,
          0
         ],
         "yaxis": "y11"
        },
        {
         "alignmentgroup": "True",
         "hovertemplate": "Model Type=Unsupervised<br>Contamination=0.05<br>Training %=70<br>Model=%{x}<br>F1-score=%{y}<extra></extra>",
         "legendgroup": "Unsupervised",
         "marker": {
          "color": "#EF553B",
          "pattern": {
           "shape": ""
          }
         },
         "name": "Unsupervised",
         "offsetgroup": "Unsupervised",
         "orientation": "v",
         "showlegend": false,
         "textposition": "auto",
         "type": "bar",
         "x": [
          " HBOS",
          " KNN",
          " LOF",
          " IForest",
          " ECOD",
          " ABOD"
         ],
         "xaxis": "x12",
         "y": [
          0.53,
          0.05,
          0.02,
          0.01,
          0.01,
          0
         ],
         "yaxis": "y12"
        },
        {
         "alignmentgroup": "True",
         "hovertemplate": "Model Type=Unsupervised<br>Contamination=0.1<br>Training %=80<br>Model=%{x}<br>F1-score=%{y}<extra></extra>",
         "legendgroup": "Unsupervised",
         "marker": {
          "color": "#EF553B",
          "pattern": {
           "shape": ""
          }
         },
         "name": "Unsupervised",
         "offsetgroup": "Unsupervised",
         "orientation": "v",
         "showlegend": false,
         "textposition": "auto",
         "type": "bar",
         "x": [
          " HBOS",
          " KNN",
          " LOF",
          " ECOD",
          " ABOD",
          " IForest"
         ],
         "xaxis": "x7",
         "y": [
          0.43,
          0.03,
          0.01,
          0.01,
          0,
          0
         ],
         "yaxis": "y7"
        },
        {
         "alignmentgroup": "True",
         "hovertemplate": "Model Type=Unsupervised<br>Contamination=0.1<br>Training %=90<br>Model=%{x}<br>F1-score=%{y}<extra></extra>",
         "legendgroup": "Unsupervised",
         "marker": {
          "color": "#EF553B",
          "pattern": {
           "shape": ""
          }
         },
         "name": "Unsupervised",
         "offsetgroup": "Unsupervised",
         "orientation": "v",
         "showlegend": false,
         "textposition": "auto",
         "type": "bar",
         "x": [
          " HBOS",
          " KNN",
          " LOF",
          " ECOD",
          " IForest",
          " ABOD"
         ],
         "xaxis": "x8",
         "y": [
          0.44,
          0.03,
          0.01,
          0,
          0,
          0
         ],
         "yaxis": "y8"
        },
        {
         "alignmentgroup": "True",
         "hovertemplate": "Model Type=Unsupervised<br>Contamination=0.1<br>Training %=70<br>Model=%{x}<br>F1-score=%{y}<extra></extra>",
         "legendgroup": "Unsupervised",
         "marker": {
          "color": "#EF553B",
          "pattern": {
           "shape": ""
          }
         },
         "name": "Unsupervised",
         "offsetgroup": "Unsupervised",
         "orientation": "v",
         "showlegend": false,
         "textposition": "auto",
         "type": "bar",
         "x": [
          " HBOS",
          " KNN",
          " LOF",
          " ECOD",
          " IForest",
          " ABOD"
         ],
         "xaxis": "x9",
         "y": [
          0.53,
          0.05,
          0.02,
          0.01,
          0.01,
          0
         ],
         "yaxis": "y9"
        },
        {
         "alignmentgroup": "True",
         "hovertemplate": "Model Type=Unsupervised<br>Contamination=0.15<br>Training %=80<br>Model=%{x}<br>F1-score=%{y}<extra></extra>",
         "legendgroup": "Unsupervised",
         "marker": {
          "color": "#EF553B",
          "pattern": {
           "shape": ""
          }
         },
         "name": "Unsupervised",
         "offsetgroup": "Unsupervised",
         "orientation": "v",
         "showlegend": false,
         "textposition": "auto",
         "type": "bar",
         "x": [
          " HBOS",
          " KNN",
          " LOF",
          " ECOD",
          " IForest",
          " ABOD"
         ],
         "xaxis": "x4",
         "y": [
          0.43,
          0.03,
          0.01,
          0.01,
          0,
          0
         ],
         "yaxis": "y4"
        },
        {
         "alignmentgroup": "True",
         "hovertemplate": "Model Type=Unsupervised<br>Contamination=0.15<br>Training %=90<br>Model=%{x}<br>F1-score=%{y}<extra></extra>",
         "legendgroup": "Unsupervised",
         "marker": {
          "color": "#EF553B",
          "pattern": {
           "shape": ""
          }
         },
         "name": "Unsupervised",
         "offsetgroup": "Unsupervised",
         "orientation": "v",
         "showlegend": false,
         "textposition": "auto",
         "type": "bar",
         "x": [
          " HBOS",
          " KNN",
          " LOF",
          " IForest",
          " ECOD",
          " ABOD"
         ],
         "xaxis": "x5",
         "y": [
          0.44,
          0.03,
          0.01,
          0,
          0,
          0
         ],
         "yaxis": "y5"
        },
        {
         "alignmentgroup": "True",
         "hovertemplate": "Model Type=Unsupervised<br>Contamination=0.15<br>Training %=70<br>Model=%{x}<br>F1-score=%{y}<extra></extra>",
         "legendgroup": "Unsupervised",
         "marker": {
          "color": "#EF553B",
          "pattern": {
           "shape": ""
          }
         },
         "name": "Unsupervised",
         "offsetgroup": "Unsupervised",
         "orientation": "v",
         "showlegend": false,
         "textposition": "auto",
         "type": "bar",
         "x": [
          " HBOS",
          " KNN",
          " LOF",
          " ECOD",
          " ABOD",
          " IForest"
         ],
         "xaxis": "x6",
         "y": [
          0.53,
          0.05,
          0.02,
          0.01,
          0,
          0
         ],
         "yaxis": "y6"
        },
        {
         "alignmentgroup": "True",
         "hovertemplate": "Model Type=Unsupervised<br>Contamination=0.091<br>Training %=80<br>Model=%{x}<br>F1-score=%{y}<extra></extra>",
         "legendgroup": "Unsupervised",
         "marker": {
          "color": "#EF553B",
          "pattern": {
           "shape": ""
          }
         },
         "name": "Unsupervised",
         "offsetgroup": "Unsupervised",
         "orientation": "v",
         "showlegend": false,
         "textposition": "auto",
         "type": "bar",
         "x": [
          " LOF"
         ],
         "xaxis": "x",
         "y": [
          0.01
         ],
         "yaxis": "y"
        },
        {
         "alignmentgroup": "True",
         "hovertemplate": "Model Type=Unsupervised<br>Contamination=0.091<br>Training %=90<br>Model=%{x}<br>F1-score=%{y}<extra></extra>",
         "legendgroup": "Unsupervised",
         "marker": {
          "color": "#EF553B",
          "pattern": {
           "shape": ""
          }
         },
         "name": "Unsupervised",
         "offsetgroup": "Unsupervised",
         "orientation": "v",
         "showlegend": false,
         "textposition": "auto",
         "type": "bar",
         "x": [
          " LOF"
         ],
         "xaxis": "x2",
         "y": [
          0
         ],
         "yaxis": "y2"
        },
        {
         "alignmentgroup": "True",
         "hovertemplate": "Model Type=Unsupervised<br>Contamination=0.091<br>Training %=70<br>Model=%{x}<br>F1-score=%{y}<extra></extra>",
         "legendgroup": "Unsupervised",
         "marker": {
          "color": "#EF553B",
          "pattern": {
           "shape": ""
          }
         },
         "name": "Unsupervised",
         "offsetgroup": "Unsupervised",
         "orientation": "v",
         "showlegend": false,
         "textposition": "auto",
         "type": "bar",
         "x": [
          " LOF"
         ],
         "xaxis": "x3",
         "y": [
          0.01
         ],
         "yaxis": "y3"
        }
       ],
       "layout": {
        "annotations": [
         {
          "font": {},
          "showarrow": false,
          "text": "Training %=80",
          "x": 0.15666666666666665,
          "xanchor": "center",
          "xref": "paper",
          "y": 0.9999999999999999,
          "yanchor": "bottom",
          "yref": "paper"
         },
         {
          "font": {},
          "showarrow": false,
          "text": "Training %=90",
          "x": 0.49,
          "xanchor": "center",
          "xref": "paper",
          "y": 0.9999999999999999,
          "yanchor": "bottom",
          "yref": "paper"
         },
         {
          "font": {},
          "showarrow": false,
          "text": "Training %=70",
          "x": 0.8233333333333333,
          "xanchor": "center",
          "xref": "paper",
          "y": 0.9999999999999999,
          "yanchor": "bottom",
          "yref": "paper"
         },
         {
          "font": {},
          "showarrow": false,
          "text": "Contamination=0.091",
          "textangle": 90,
          "x": 0.98,
          "xanchor": "left",
          "xref": "paper",
          "y": 0.05857142857142857,
          "yanchor": "middle",
          "yref": "paper"
         },
         {
          "font": {},
          "showarrow": false,
          "text": "Contamination=0.15",
          "textangle": 90,
          "x": 0.98,
          "xanchor": "left",
          "xref": "paper",
          "y": 0.2057142857142857,
          "yanchor": "middle",
          "yref": "paper"
         },
         {
          "font": {},
          "showarrow": false,
          "text": "Contamination=0.1",
          "textangle": 90,
          "x": 0.98,
          "xanchor": "left",
          "xref": "paper",
          "y": 0.35285714285714287,
          "yanchor": "middle",
          "yref": "paper"
         },
         {
          "font": {},
          "showarrow": false,
          "text": "Contamination=0.05",
          "textangle": 90,
          "x": 0.98,
          "xanchor": "left",
          "xref": "paper",
          "y": 0.49999999999999994,
          "yanchor": "middle",
          "yref": "paper"
         },
         {
          "font": {},
          "showarrow": false,
          "text": "Contamination=0.01",
          "textangle": 90,
          "x": 0.98,
          "xanchor": "left",
          "xref": "paper",
          "y": 0.647142857142857,
          "yanchor": "middle",
          "yref": "paper"
         },
         {
          "font": {},
          "showarrow": false,
          "text": "Contamination=0.005",
          "textangle": 90,
          "x": 0.98,
          "xanchor": "left",
          "xref": "paper",
          "y": 0.7942857142857143,
          "yanchor": "middle",
          "yref": "paper"
         },
         {
          "font": {},
          "showarrow": false,
          "text": "Contamination=0.001",
          "textangle": 90,
          "x": 0.98,
          "xanchor": "left",
          "xref": "paper",
          "y": 0.9414285714285713,
          "yanchor": "middle",
          "yref": "paper"
         }
        ],
        "barmode": "group",
        "height": 2000,
        "legend": {
         "title": {
          "text": "Model Type"
         },
         "tracegroupgap": 0
        },
        "margin": {
         "t": 60
        },
        "template": {
         "data": {
          "bar": [
           {
            "error_x": {
             "color": "#2a3f5f"
            },
            "error_y": {
             "color": "#2a3f5f"
            },
            "marker": {
             "line": {
              "color": "#E5ECF6",
              "width": 0.5
             },
             "pattern": {
              "fillmode": "overlay",
              "size": 10,
              "solidity": 0.2
             }
            },
            "type": "bar"
           }
          ],
          "barpolar": [
           {
            "marker": {
             "line": {
              "color": "#E5ECF6",
              "width": 0.5
             },
             "pattern": {
              "fillmode": "overlay",
              "size": 10,
              "solidity": 0.2
             }
            },
            "type": "barpolar"
           }
          ],
          "carpet": [
           {
            "aaxis": {
             "endlinecolor": "#2a3f5f",
             "gridcolor": "white",
             "linecolor": "white",
             "minorgridcolor": "white",
             "startlinecolor": "#2a3f5f"
            },
            "baxis": {
             "endlinecolor": "#2a3f5f",
             "gridcolor": "white",
             "linecolor": "white",
             "minorgridcolor": "white",
             "startlinecolor": "#2a3f5f"
            },
            "type": "carpet"
           }
          ],
          "choropleth": [
           {
            "colorbar": {
             "outlinewidth": 0,
             "ticks": ""
            },
            "type": "choropleth"
           }
          ],
          "contour": [
           {
            "colorbar": {
             "outlinewidth": 0,
             "ticks": ""
            },
            "colorscale": [
             [
              0,
              "#0d0887"
             ],
             [
              0.1111111111111111,
              "#46039f"
             ],
             [
              0.2222222222222222,
              "#7201a8"
             ],
             [
              0.3333333333333333,
              "#9c179e"
             ],
             [
              0.4444444444444444,
              "#bd3786"
             ],
             [
              0.5555555555555556,
              "#d8576b"
             ],
             [
              0.6666666666666666,
              "#ed7953"
             ],
             [
              0.7777777777777778,
              "#fb9f3a"
             ],
             [
              0.8888888888888888,
              "#fdca26"
             ],
             [
              1,
              "#f0f921"
             ]
            ],
            "type": "contour"
           }
          ],
          "contourcarpet": [
           {
            "colorbar": {
             "outlinewidth": 0,
             "ticks": ""
            },
            "type": "contourcarpet"
           }
          ],
          "heatmap": [
           {
            "colorbar": {
             "outlinewidth": 0,
             "ticks": ""
            },
            "colorscale": [
             [
              0,
              "#0d0887"
             ],
             [
              0.1111111111111111,
              "#46039f"
             ],
             [
              0.2222222222222222,
              "#7201a8"
             ],
             [
              0.3333333333333333,
              "#9c179e"
             ],
             [
              0.4444444444444444,
              "#bd3786"
             ],
             [
              0.5555555555555556,
              "#d8576b"
             ],
             [
              0.6666666666666666,
              "#ed7953"
             ],
             [
              0.7777777777777778,
              "#fb9f3a"
             ],
             [
              0.8888888888888888,
              "#fdca26"
             ],
             [
              1,
              "#f0f921"
             ]
            ],
            "type": "heatmap"
           }
          ],
          "heatmapgl": [
           {
            "colorbar": {
             "outlinewidth": 0,
             "ticks": ""
            },
            "colorscale": [
             [
              0,
              "#0d0887"
             ],
             [
              0.1111111111111111,
              "#46039f"
             ],
             [
              0.2222222222222222,
              "#7201a8"
             ],
             [
              0.3333333333333333,
              "#9c179e"
             ],
             [
              0.4444444444444444,
              "#bd3786"
             ],
             [
              0.5555555555555556,
              "#d8576b"
             ],
             [
              0.6666666666666666,
              "#ed7953"
             ],
             [
              0.7777777777777778,
              "#fb9f3a"
             ],
             [
              0.8888888888888888,
              "#fdca26"
             ],
             [
              1,
              "#f0f921"
             ]
            ],
            "type": "heatmapgl"
           }
          ],
          "histogram": [
           {
            "marker": {
             "pattern": {
              "fillmode": "overlay",
              "size": 10,
              "solidity": 0.2
             }
            },
            "type": "histogram"
           }
          ],
          "histogram2d": [
           {
            "colorbar": {
             "outlinewidth": 0,
             "ticks": ""
            },
            "colorscale": [
             [
              0,
              "#0d0887"
             ],
             [
              0.1111111111111111,
              "#46039f"
             ],
             [
              0.2222222222222222,
              "#7201a8"
             ],
             [
              0.3333333333333333,
              "#9c179e"
             ],
             [
              0.4444444444444444,
              "#bd3786"
             ],
             [
              0.5555555555555556,
              "#d8576b"
             ],
             [
              0.6666666666666666,
              "#ed7953"
             ],
             [
              0.7777777777777778,
              "#fb9f3a"
             ],
             [
              0.8888888888888888,
              "#fdca26"
             ],
             [
              1,
              "#f0f921"
             ]
            ],
            "type": "histogram2d"
           }
          ],
          "histogram2dcontour": [
           {
            "colorbar": {
             "outlinewidth": 0,
             "ticks": ""
            },
            "colorscale": [
             [
              0,
              "#0d0887"
             ],
             [
              0.1111111111111111,
              "#46039f"
             ],
             [
              0.2222222222222222,
              "#7201a8"
             ],
             [
              0.3333333333333333,
              "#9c179e"
             ],
             [
              0.4444444444444444,
              "#bd3786"
             ],
             [
              0.5555555555555556,
              "#d8576b"
             ],
             [
              0.6666666666666666,
              "#ed7953"
             ],
             [
              0.7777777777777778,
              "#fb9f3a"
             ],
             [
              0.8888888888888888,
              "#fdca26"
             ],
             [
              1,
              "#f0f921"
             ]
            ],
            "type": "histogram2dcontour"
           }
          ],
          "mesh3d": [
           {
            "colorbar": {
             "outlinewidth": 0,
             "ticks": ""
            },
            "type": "mesh3d"
           }
          ],
          "parcoords": [
           {
            "line": {
             "colorbar": {
              "outlinewidth": 0,
              "ticks": ""
             }
            },
            "type": "parcoords"
           }
          ],
          "pie": [
           {
            "automargin": true,
            "type": "pie"
           }
          ],
          "scatter": [
           {
            "fillpattern": {
             "fillmode": "overlay",
             "size": 10,
             "solidity": 0.2
            },
            "type": "scatter"
           }
          ],
          "scatter3d": [
           {
            "line": {
             "colorbar": {
              "outlinewidth": 0,
              "ticks": ""
             }
            },
            "marker": {
             "colorbar": {
              "outlinewidth": 0,
              "ticks": ""
             }
            },
            "type": "scatter3d"
           }
          ],
          "scattercarpet": [
           {
            "marker": {
             "colorbar": {
              "outlinewidth": 0,
              "ticks": ""
             }
            },
            "type": "scattercarpet"
           }
          ],
          "scattergeo": [
           {
            "marker": {
             "colorbar": {
              "outlinewidth": 0,
              "ticks": ""
             }
            },
            "type": "scattergeo"
           }
          ],
          "scattergl": [
           {
            "marker": {
             "colorbar": {
              "outlinewidth": 0,
              "ticks": ""
             }
            },
            "type": "scattergl"
           }
          ],
          "scattermapbox": [
           {
            "marker": {
             "colorbar": {
              "outlinewidth": 0,
              "ticks": ""
             }
            },
            "type": "scattermapbox"
           }
          ],
          "scatterpolar": [
           {
            "marker": {
             "colorbar": {
              "outlinewidth": 0,
              "ticks": ""
             }
            },
            "type": "scatterpolar"
           }
          ],
          "scatterpolargl": [
           {
            "marker": {
             "colorbar": {
              "outlinewidth": 0,
              "ticks": ""
             }
            },
            "type": "scatterpolargl"
           }
          ],
          "scatterternary": [
           {
            "marker": {
             "colorbar": {
              "outlinewidth": 0,
              "ticks": ""
             }
            },
            "type": "scatterternary"
           }
          ],
          "surface": [
           {
            "colorbar": {
             "outlinewidth": 0,
             "ticks": ""
            },
            "colorscale": [
             [
              0,
              "#0d0887"
             ],
             [
              0.1111111111111111,
              "#46039f"
             ],
             [
              0.2222222222222222,
              "#7201a8"
             ],
             [
              0.3333333333333333,
              "#9c179e"
             ],
             [
              0.4444444444444444,
              "#bd3786"
             ],
             [
              0.5555555555555556,
              "#d8576b"
             ],
             [
              0.6666666666666666,
              "#ed7953"
             ],
             [
              0.7777777777777778,
              "#fb9f3a"
             ],
             [
              0.8888888888888888,
              "#fdca26"
             ],
             [
              1,
              "#f0f921"
             ]
            ],
            "type": "surface"
           }
          ],
          "table": [
           {
            "cells": {
             "fill": {
              "color": "#EBF0F8"
             },
             "line": {
              "color": "white"
             }
            },
            "header": {
             "fill": {
              "color": "#C8D4E3"
             },
             "line": {
              "color": "white"
             }
            },
            "type": "table"
           }
          ]
         },
         "layout": {
          "annotationdefaults": {
           "arrowcolor": "#2a3f5f",
           "arrowhead": 0,
           "arrowwidth": 1
          },
          "autotypenumbers": "strict",
          "coloraxis": {
           "colorbar": {
            "outlinewidth": 0,
            "ticks": ""
           }
          },
          "colorscale": {
           "diverging": [
            [
             0,
             "#8e0152"
            ],
            [
             0.1,
             "#c51b7d"
            ],
            [
             0.2,
             "#de77ae"
            ],
            [
             0.3,
             "#f1b6da"
            ],
            [
             0.4,
             "#fde0ef"
            ],
            [
             0.5,
             "#f7f7f7"
            ],
            [
             0.6,
             "#e6f5d0"
            ],
            [
             0.7,
             "#b8e186"
            ],
            [
             0.8,
             "#7fbc41"
            ],
            [
             0.9,
             "#4d9221"
            ],
            [
             1,
             "#276419"
            ]
           ],
           "sequential": [
            [
             0,
             "#0d0887"
            ],
            [
             0.1111111111111111,
             "#46039f"
            ],
            [
             0.2222222222222222,
             "#7201a8"
            ],
            [
             0.3333333333333333,
             "#9c179e"
            ],
            [
             0.4444444444444444,
             "#bd3786"
            ],
            [
             0.5555555555555556,
             "#d8576b"
            ],
            [
             0.6666666666666666,
             "#ed7953"
            ],
            [
             0.7777777777777778,
             "#fb9f3a"
            ],
            [
             0.8888888888888888,
             "#fdca26"
            ],
            [
             1,
             "#f0f921"
            ]
           ],
           "sequentialminus": [
            [
             0,
             "#0d0887"
            ],
            [
             0.1111111111111111,
             "#46039f"
            ],
            [
             0.2222222222222222,
             "#7201a8"
            ],
            [
             0.3333333333333333,
             "#9c179e"
            ],
            [
             0.4444444444444444,
             "#bd3786"
            ],
            [
             0.5555555555555556,
             "#d8576b"
            ],
            [
             0.6666666666666666,
             "#ed7953"
            ],
            [
             0.7777777777777778,
             "#fb9f3a"
            ],
            [
             0.8888888888888888,
             "#fdca26"
            ],
            [
             1,
             "#f0f921"
            ]
           ]
          },
          "colorway": [
           "#636efa",
           "#EF553B",
           "#00cc96",
           "#ab63fa",
           "#FFA15A",
           "#19d3f3",
           "#FF6692",
           "#B6E880",
           "#FF97FF",
           "#FECB52"
          ],
          "font": {
           "color": "#2a3f5f"
          },
          "geo": {
           "bgcolor": "white",
           "lakecolor": "white",
           "landcolor": "#E5ECF6",
           "showlakes": true,
           "showland": true,
           "subunitcolor": "white"
          },
          "hoverlabel": {
           "align": "left"
          },
          "hovermode": "closest",
          "mapbox": {
           "style": "light"
          },
          "paper_bgcolor": "white",
          "plot_bgcolor": "#E5ECF6",
          "polar": {
           "angularaxis": {
            "gridcolor": "white",
            "linecolor": "white",
            "ticks": ""
           },
           "bgcolor": "#E5ECF6",
           "radialaxis": {
            "gridcolor": "white",
            "linecolor": "white",
            "ticks": ""
           }
          },
          "scene": {
           "xaxis": {
            "backgroundcolor": "#E5ECF6",
            "gridcolor": "white",
            "gridwidth": 2,
            "linecolor": "white",
            "showbackground": true,
            "ticks": "",
            "zerolinecolor": "white"
           },
           "yaxis": {
            "backgroundcolor": "#E5ECF6",
            "gridcolor": "white",
            "gridwidth": 2,
            "linecolor": "white",
            "showbackground": true,
            "ticks": "",
            "zerolinecolor": "white"
           },
           "zaxis": {
            "backgroundcolor": "#E5ECF6",
            "gridcolor": "white",
            "gridwidth": 2,
            "linecolor": "white",
            "showbackground": true,
            "ticks": "",
            "zerolinecolor": "white"
           }
          },
          "shapedefaults": {
           "line": {
            "color": "#2a3f5f"
           }
          },
          "ternary": {
           "aaxis": {
            "gridcolor": "white",
            "linecolor": "white",
            "ticks": ""
           },
           "baxis": {
            "gridcolor": "white",
            "linecolor": "white",
            "ticks": ""
           },
           "bgcolor": "#E5ECF6",
           "caxis": {
            "gridcolor": "white",
            "linecolor": "white",
            "ticks": ""
           }
          },
          "title": {
           "x": 0.05
          },
          "xaxis": {
           "automargin": true,
           "gridcolor": "white",
           "linecolor": "white",
           "ticks": "",
           "title": {
            "standoff": 15
           },
           "zerolinecolor": "white",
           "zerolinewidth": 2
          },
          "yaxis": {
           "automargin": true,
           "gridcolor": "white",
           "linecolor": "white",
           "ticks": "",
           "title": {
            "standoff": 15
           },
           "zerolinecolor": "white",
           "zerolinewidth": 2
          }
         }
        },
        "width": 2000,
        "xaxis": {
         "anchor": "y",
         "domain": [
          0,
          0.3133333333333333
         ],
         "title": {
          "text": "Model"
         }
        },
        "xaxis10": {
         "anchor": "y10",
         "domain": [
          0,
          0.3133333333333333
         ],
         "matches": "x",
         "showticklabels": false
        },
        "xaxis11": {
         "anchor": "y11",
         "domain": [
          0.3333333333333333,
          0.6466666666666666
         ],
         "matches": "x",
         "showticklabels": false
        },
        "xaxis12": {
         "anchor": "y12",
         "domain": [
          0.6666666666666666,
          0.98
         ],
         "matches": "x",
         "showticklabels": false
        },
        "xaxis13": {
         "anchor": "y13",
         "domain": [
          0,
          0.3133333333333333
         ],
         "matches": "x",
         "showticklabels": false
        },
        "xaxis14": {
         "anchor": "y14",
         "domain": [
          0.3333333333333333,
          0.6466666666666666
         ],
         "matches": "x",
         "showticklabels": false
        },
        "xaxis15": {
         "anchor": "y15",
         "domain": [
          0.6666666666666666,
          0.98
         ],
         "matches": "x",
         "showticklabels": false
        },
        "xaxis16": {
         "anchor": "y16",
         "domain": [
          0,
          0.3133333333333333
         ],
         "matches": "x",
         "showticklabels": false
        },
        "xaxis17": {
         "anchor": "y17",
         "domain": [
          0.3333333333333333,
          0.6466666666666666
         ],
         "matches": "x",
         "showticklabels": false
        },
        "xaxis18": {
         "anchor": "y18",
         "domain": [
          0.6666666666666666,
          0.98
         ],
         "matches": "x",
         "showticklabels": false
        },
        "xaxis19": {
         "anchor": "y19",
         "domain": [
          0,
          0.3133333333333333
         ],
         "matches": "x",
         "showticklabels": false
        },
        "xaxis2": {
         "anchor": "y2",
         "domain": [
          0.3333333333333333,
          0.6466666666666666
         ],
         "matches": "x",
         "title": {
          "text": "Model"
         }
        },
        "xaxis20": {
         "anchor": "y20",
         "domain": [
          0.3333333333333333,
          0.6466666666666666
         ],
         "matches": "x",
         "showticklabels": false
        },
        "xaxis21": {
         "anchor": "y21",
         "domain": [
          0.6666666666666666,
          0.98
         ],
         "matches": "x",
         "showticklabels": false
        },
        "xaxis3": {
         "anchor": "y3",
         "domain": [
          0.6666666666666666,
          0.98
         ],
         "matches": "x",
         "title": {
          "text": "Model"
         }
        },
        "xaxis4": {
         "anchor": "y4",
         "domain": [
          0,
          0.3133333333333333
         ],
         "matches": "x",
         "showticklabels": false
        },
        "xaxis5": {
         "anchor": "y5",
         "domain": [
          0.3333333333333333,
          0.6466666666666666
         ],
         "matches": "x",
         "showticklabels": false
        },
        "xaxis6": {
         "anchor": "y6",
         "domain": [
          0.6666666666666666,
          0.98
         ],
         "matches": "x",
         "showticklabels": false
        },
        "xaxis7": {
         "anchor": "y7",
         "domain": [
          0,
          0.3133333333333333
         ],
         "matches": "x",
         "showticklabels": false
        },
        "xaxis8": {
         "anchor": "y8",
         "domain": [
          0.3333333333333333,
          0.6466666666666666
         ],
         "matches": "x",
         "showticklabels": false
        },
        "xaxis9": {
         "anchor": "y9",
         "domain": [
          0.6666666666666666,
          0.98
         ],
         "matches": "x",
         "showticklabels": false
        },
        "yaxis": {
         "anchor": "x",
         "domain": [
          0,
          0.11714285714285715
         ],
         "title": {
          "text": "F1-score"
         }
        },
        "yaxis10": {
         "anchor": "x10",
         "domain": [
          0.4414285714285714,
          0.5585714285714285
         ],
         "matches": "y",
         "title": {
          "text": "F1-score"
         }
        },
        "yaxis11": {
         "anchor": "x11",
         "domain": [
          0.4414285714285714,
          0.5585714285714285
         ],
         "matches": "y",
         "showticklabels": false
        },
        "yaxis12": {
         "anchor": "x12",
         "domain": [
          0.4414285714285714,
          0.5585714285714285
         ],
         "matches": "y",
         "showticklabels": false
        },
        "yaxis13": {
         "anchor": "x13",
         "domain": [
          0.5885714285714285,
          0.7057142857142856
         ],
         "matches": "y",
         "title": {
          "text": "F1-score"
         }
        },
        "yaxis14": {
         "anchor": "x14",
         "domain": [
          0.5885714285714285,
          0.7057142857142856
         ],
         "matches": "y",
         "showticklabels": false
        },
        "yaxis15": {
         "anchor": "x15",
         "domain": [
          0.5885714285714285,
          0.7057142857142856
         ],
         "matches": "y",
         "showticklabels": false
        },
        "yaxis16": {
         "anchor": "x16",
         "domain": [
          0.7357142857142858,
          0.8528571428571429
         ],
         "matches": "y",
         "title": {
          "text": "F1-score"
         }
        },
        "yaxis17": {
         "anchor": "x17",
         "domain": [
          0.7357142857142858,
          0.8528571428571429
         ],
         "matches": "y",
         "showticklabels": false
        },
        "yaxis18": {
         "anchor": "x18",
         "domain": [
          0.7357142857142858,
          0.8528571428571429
         ],
         "matches": "y",
         "showticklabels": false
        },
        "yaxis19": {
         "anchor": "x19",
         "domain": [
          0.8828571428571428,
          0.9999999999999999
         ],
         "matches": "y",
         "title": {
          "text": "F1-score"
         }
        },
        "yaxis2": {
         "anchor": "x2",
         "domain": [
          0,
          0.11714285714285715
         ],
         "matches": "y",
         "showticklabels": false
        },
        "yaxis20": {
         "anchor": "x20",
         "domain": [
          0.8828571428571428,
          0.9999999999999999
         ],
         "matches": "y",
         "showticklabels": false
        },
        "yaxis21": {
         "anchor": "x21",
         "domain": [
          0.8828571428571428,
          0.9999999999999999
         ],
         "matches": "y",
         "showticklabels": false
        },
        "yaxis3": {
         "anchor": "x3",
         "domain": [
          0,
          0.11714285714285715
         ],
         "matches": "y",
         "showticklabels": false
        },
        "yaxis4": {
         "anchor": "x4",
         "domain": [
          0.14714285714285713,
          0.2642857142857143
         ],
         "matches": "y",
         "title": {
          "text": "F1-score"
         }
        },
        "yaxis5": {
         "anchor": "x5",
         "domain": [
          0.14714285714285713,
          0.2642857142857143
         ],
         "matches": "y",
         "showticklabels": false
        },
        "yaxis6": {
         "anchor": "x6",
         "domain": [
          0.14714285714285713,
          0.2642857142857143
         ],
         "matches": "y",
         "showticklabels": false
        },
        "yaxis7": {
         "anchor": "x7",
         "domain": [
          0.29428571428571426,
          0.4114285714285714
         ],
         "matches": "y",
         "title": {
          "text": "F1-score"
         }
        },
        "yaxis8": {
         "anchor": "x8",
         "domain": [
          0.29428571428571426,
          0.4114285714285714
         ],
         "matches": "y",
         "showticklabels": false
        },
        "yaxis9": {
         "anchor": "x9",
         "domain": [
          0.29428571428571426,
          0.4114285714285714
         ],
         "matches": "y",
         "showticklabels": false
        }
       }
      }
     },
     "metadata": {},
     "output_type": "display_data"
    }
   ],
   "source": [
    "import plotly.express as px\n",
    "df = results_total.copy()\n",
    "df = df.reset_index(drop=True)\n",
    "df = df[df['Variable'] == 'AC_Power_B (KW) ']\n",
    "df = df.loc[df.groupby(['Variable','Model', 'Model Type','Training %','Contamination']).AUC.idxmax().values,:].sort_values(by='F1-score', ascending = False)\n",
    "fig = px.bar(df, x=\"Model\", y=\"F1-score\", color=\"Model Type\", barmode=\"group\",facet_row=\"Contamination\", facet_col=\"Training %\",width=2000, height=2000)\n",
    "fig.show()"
   ]
  },
  {
   "cell_type": "code",
   "execution_count": 187,
   "metadata": {},
   "outputs": [
    {
     "data": {
      "text/html": [
       "<div>\n",
       "<style scoped>\n",
       "    .dataframe tbody tr th:only-of-type {\n",
       "        vertical-align: middle;\n",
       "    }\n",
       "\n",
       "    .dataframe tbody tr th {\n",
       "        vertical-align: top;\n",
       "    }\n",
       "\n",
       "    .dataframe thead th {\n",
       "        text-align: right;\n",
       "    }\n",
       "</style>\n",
       "<table border=\"1\" class=\"dataframe\">\n",
       "  <thead>\n",
       "    <tr style=\"text-align: right;\">\n",
       "      <th></th>\n",
       "      <th>Variable</th>\n",
       "      <th>Model</th>\n",
       "      <th>Model_Info</th>\n",
       "      <th>Model Type</th>\n",
       "      <th>Training %</th>\n",
       "      <th>Precision</th>\n",
       "      <th>Recall</th>\n",
       "      <th>Accuracy</th>\n",
       "      <th>F1-score</th>\n",
       "      <th>AUC</th>\n",
       "      <th>...</th>\n",
       "      <th>Number of predicted anomalies</th>\n",
       "      <th>True Positives</th>\n",
       "      <th>False Positives</th>\n",
       "      <th>True Negatives</th>\n",
       "      <th>False Negatives</th>\n",
       "      <th>Threshold</th>\n",
       "      <th>Execution Time (s)</th>\n",
       "      <th>Contamination</th>\n",
       "      <th>n_neighbors</th>\n",
       "      <th>n_estimators</th>\n",
       "    </tr>\n",
       "  </thead>\n",
       "  <tbody>\n",
       "    <tr>\n",
       "      <th>97</th>\n",
       "      <td>AC_Power_B (KW)</td>\n",
       "      <td>KNN</td>\n",
       "      <td>KNN(algorithm='auto', contamination=0.005, le...</td>\n",
       "      <td>SemiSupervised</td>\n",
       "      <td>70</td>\n",
       "      <td>0.55</td>\n",
       "      <td>0.78</td>\n",
       "      <td>1.00</td>\n",
       "      <td>0.64</td>\n",
       "      <td>0.89</td>\n",
       "      <td>...</td>\n",
       "      <td>84</td>\n",
       "      <td>46</td>\n",
       "      <td>38</td>\n",
       "      <td>78470</td>\n",
       "      <td>13</td>\n",
       "      <td>0.0</td>\n",
       "      <td>6.758800745010376</td>\n",
       "      <td>0.005</td>\n",
       "      <td>5</td>\n",
       "      <td>None</td>\n",
       "    </tr>\n",
       "    <tr>\n",
       "      <th>98</th>\n",
       "      <td>AC_Power_B (KW)</td>\n",
       "      <td>KNN</td>\n",
       "      <td>KNN(algorithm='auto', contamination=0.01, lea...</td>\n",
       "      <td>SemiSupervised</td>\n",
       "      <td>70</td>\n",
       "      <td>0.45</td>\n",
       "      <td>0.78</td>\n",
       "      <td>1.00</td>\n",
       "      <td>0.57</td>\n",
       "      <td>0.89</td>\n",
       "      <td>...</td>\n",
       "      <td>103</td>\n",
       "      <td>46</td>\n",
       "      <td>57</td>\n",
       "      <td>78451</td>\n",
       "      <td>13</td>\n",
       "      <td>0.0</td>\n",
       "      <td>6.807952880859375</td>\n",
       "      <td>0.01</td>\n",
       "      <td>5</td>\n",
       "      <td>None</td>\n",
       "    </tr>\n",
       "    <tr>\n",
       "      <th>62</th>\n",
       "      <td>AC_Power_B (KW)</td>\n",
       "      <td>LOF</td>\n",
       "      <td>LOF(algorithm='auto', contamination=0.01, lea...</td>\n",
       "      <td>SemiSupervised</td>\n",
       "      <td>70</td>\n",
       "      <td>0.09</td>\n",
       "      <td>0.78</td>\n",
       "      <td>0.99</td>\n",
       "      <td>0.17</td>\n",
       "      <td>0.89</td>\n",
       "      <td>...</td>\n",
       "      <td>487</td>\n",
       "      <td>46</td>\n",
       "      <td>441</td>\n",
       "      <td>78067</td>\n",
       "      <td>13</td>\n",
       "      <td>0.0</td>\n",
       "      <td>0.3663063049316406</td>\n",
       "      <td>0.01</td>\n",
       "      <td>10</td>\n",
       "      <td>None</td>\n",
       "    </tr>\n",
       "    <tr>\n",
       "      <th>456</th>\n",
       "      <td>AC_Power_B (KW)</td>\n",
       "      <td>KNN</td>\n",
       "      <td>KNN(algorithm='auto', contamination=0.001, le...</td>\n",
       "      <td>Unsupervised</td>\n",
       "      <td>70</td>\n",
       "      <td>0.67</td>\n",
       "      <td>0.78</td>\n",
       "      <td>1.00</td>\n",
       "      <td>0.72</td>\n",
       "      <td>0.89</td>\n",
       "      <td>...</td>\n",
       "      <td>69</td>\n",
       "      <td>46</td>\n",
       "      <td>23</td>\n",
       "      <td>78485</td>\n",
       "      <td>13</td>\n",
       "      <td>0.01</td>\n",
       "      <td>12.859455347061157</td>\n",
       "      <td>0.001</td>\n",
       "      <td>5</td>\n",
       "      <td>None</td>\n",
       "    </tr>\n",
       "    <tr>\n",
       "      <th>61</th>\n",
       "      <td>AC_Power_B (KW)</td>\n",
       "      <td>LOF</td>\n",
       "      <td>LOF(algorithm='auto', contamination=0.005, le...</td>\n",
       "      <td>SemiSupervised</td>\n",
       "      <td>70</td>\n",
       "      <td>0.20</td>\n",
       "      <td>0.78</td>\n",
       "      <td>1.00</td>\n",
       "      <td>0.32</td>\n",
       "      <td>0.89</td>\n",
       "      <td>...</td>\n",
       "      <td>226</td>\n",
       "      <td>46</td>\n",
       "      <td>180</td>\n",
       "      <td>78328</td>\n",
       "      <td>13</td>\n",
       "      <td>0.0</td>\n",
       "      <td>0.39212536811828613</td>\n",
       "      <td>0.005</td>\n",
       "      <td>10</td>\n",
       "      <td>None</td>\n",
       "    </tr>\n",
       "    <tr>\n",
       "      <th>...</th>\n",
       "      <td>...</td>\n",
       "      <td>...</td>\n",
       "      <td>...</td>\n",
       "      <td>...</td>\n",
       "      <td>...</td>\n",
       "      <td>...</td>\n",
       "      <td>...</td>\n",
       "      <td>...</td>\n",
       "      <td>...</td>\n",
       "      <td>...</td>\n",
       "      <td>...</td>\n",
       "      <td>...</td>\n",
       "      <td>...</td>\n",
       "      <td>...</td>\n",
       "      <td>...</td>\n",
       "      <td>...</td>\n",
       "      <td>...</td>\n",
       "      <td>...</td>\n",
       "      <td>...</td>\n",
       "      <td>...</td>\n",
       "      <td>...</td>\n",
       "    </tr>\n",
       "    <tr>\n",
       "      <th>467</th>\n",
       "      <td>AC_Power_B (KW)</td>\n",
       "      <td>ABOD</td>\n",
       "      <td>ABOD(contamination=0.15, method='fast', n_nei...</td>\n",
       "      <td>Unsupervised</td>\n",
       "      <td>70</td>\n",
       "      <td>0.00</td>\n",
       "      <td>0.00</td>\n",
       "      <td>1.00</td>\n",
       "      <td>0.00</td>\n",
       "      <td>0.50</td>\n",
       "      <td>...</td>\n",
       "      <td>0</td>\n",
       "      <td>0</td>\n",
       "      <td>0</td>\n",
       "      <td>78508</td>\n",
       "      <td>59</td>\n",
       "      <td>nan</td>\n",
       "      <td>18.243993043899536</td>\n",
       "      <td>0.15</td>\n",
       "      <td>5</td>\n",
       "      <td>None</td>\n",
       "    </tr>\n",
       "    <tr>\n",
       "      <th>466</th>\n",
       "      <td>AC_Power_B (KW)</td>\n",
       "      <td>ABOD</td>\n",
       "      <td>ABOD(contamination=0.1, method='fast', n_neig...</td>\n",
       "      <td>Unsupervised</td>\n",
       "      <td>70</td>\n",
       "      <td>0.00</td>\n",
       "      <td>0.00</td>\n",
       "      <td>1.00</td>\n",
       "      <td>0.00</td>\n",
       "      <td>0.50</td>\n",
       "      <td>...</td>\n",
       "      <td>0</td>\n",
       "      <td>0</td>\n",
       "      <td>0</td>\n",
       "      <td>78508</td>\n",
       "      <td>59</td>\n",
       "      <td>nan</td>\n",
       "      <td>17.92073106765747</td>\n",
       "      <td>0.1</td>\n",
       "      <td>5</td>\n",
       "      <td>None</td>\n",
       "    </tr>\n",
       "    <tr>\n",
       "      <th>465</th>\n",
       "      <td>AC_Power_B (KW)</td>\n",
       "      <td>ABOD</td>\n",
       "      <td>ABOD(contamination=0.05, method='fast', n_nei...</td>\n",
       "      <td>Unsupervised</td>\n",
       "      <td>70</td>\n",
       "      <td>0.00</td>\n",
       "      <td>0.00</td>\n",
       "      <td>1.00</td>\n",
       "      <td>0.00</td>\n",
       "      <td>0.50</td>\n",
       "      <td>...</td>\n",
       "      <td>0</td>\n",
       "      <td>0</td>\n",
       "      <td>0</td>\n",
       "      <td>78508</td>\n",
       "      <td>59</td>\n",
       "      <td>nan</td>\n",
       "      <td>18.15277862548828</td>\n",
       "      <td>0.05</td>\n",
       "      <td>5</td>\n",
       "      <td>None</td>\n",
       "    </tr>\n",
       "    <tr>\n",
       "      <th>464</th>\n",
       "      <td>AC_Power_B (KW)</td>\n",
       "      <td>ABOD</td>\n",
       "      <td>ABOD(contamination=0.01, method='fast', n_nei...</td>\n",
       "      <td>Unsupervised</td>\n",
       "      <td>70</td>\n",
       "      <td>0.00</td>\n",
       "      <td>0.00</td>\n",
       "      <td>1.00</td>\n",
       "      <td>0.00</td>\n",
       "      <td>0.50</td>\n",
       "      <td>...</td>\n",
       "      <td>0</td>\n",
       "      <td>0</td>\n",
       "      <td>0</td>\n",
       "      <td>78508</td>\n",
       "      <td>59</td>\n",
       "      <td>nan</td>\n",
       "      <td>18.188961505889893</td>\n",
       "      <td>0.01</td>\n",
       "      <td>5</td>\n",
       "      <td>None</td>\n",
       "    </tr>\n",
       "    <tr>\n",
       "      <th>102</th>\n",
       "      <td>AC_Power_B (KW)</td>\n",
       "      <td>ABOD</td>\n",
       "      <td>ABOD(contamination=0.001, method='fast', n_ne...</td>\n",
       "      <td>SemiSupervised</td>\n",
       "      <td>70</td>\n",
       "      <td>0.00</td>\n",
       "      <td>0.00</td>\n",
       "      <td>1.00</td>\n",
       "      <td>0.00</td>\n",
       "      <td>0.50</td>\n",
       "      <td>...</td>\n",
       "      <td>0</td>\n",
       "      <td>0</td>\n",
       "      <td>0</td>\n",
       "      <td>78508</td>\n",
       "      <td>59</td>\n",
       "      <td>nan</td>\n",
       "      <td>7.328582525253296</td>\n",
       "      <td>0.001</td>\n",
       "      <td>5</td>\n",
       "      <td>None</td>\n",
       "    </tr>\n",
       "  </tbody>\n",
       "</table>\n",
       "<p>222 rows × 22 columns</p>\n",
       "</div>"
      ],
      "text/plain": [
       "             Variable  Model   \n",
       "97   AC_Power_B (KW)     KNN  \\\n",
       "98   AC_Power_B (KW)     KNN   \n",
       "62   AC_Power_B (KW)     LOF   \n",
       "456  AC_Power_B (KW)     KNN   \n",
       "61   AC_Power_B (KW)     LOF   \n",
       "..                ...    ...   \n",
       "467  AC_Power_B (KW)    ABOD   \n",
       "466  AC_Power_B (KW)    ABOD   \n",
       "465  AC_Power_B (KW)    ABOD   \n",
       "464  AC_Power_B (KW)    ABOD   \n",
       "102  AC_Power_B (KW)    ABOD   \n",
       "\n",
       "                                            Model_Info      Model Type   \n",
       "97    KNN(algorithm='auto', contamination=0.005, le...  SemiSupervised  \\\n",
       "98    KNN(algorithm='auto', contamination=0.01, lea...  SemiSupervised   \n",
       "62    LOF(algorithm='auto', contamination=0.01, lea...  SemiSupervised   \n",
       "456   KNN(algorithm='auto', contamination=0.001, le...    Unsupervised   \n",
       "61    LOF(algorithm='auto', contamination=0.005, le...  SemiSupervised   \n",
       "..                                                 ...             ...   \n",
       "467   ABOD(contamination=0.15, method='fast', n_nei...    Unsupervised   \n",
       "466   ABOD(contamination=0.1, method='fast', n_neig...    Unsupervised   \n",
       "465   ABOD(contamination=0.05, method='fast', n_nei...    Unsupervised   \n",
       "464   ABOD(contamination=0.01, method='fast', n_nei...    Unsupervised   \n",
       "102   ABOD(contamination=0.001, method='fast', n_ne...  SemiSupervised   \n",
       "\n",
       "    Training %  Precision  Recall  Accuracy  F1-score   AUC  ...   \n",
       "97          70       0.55    0.78      1.00      0.64  0.89  ...  \\\n",
       "98          70       0.45    0.78      1.00      0.57  0.89  ...   \n",
       "62          70       0.09    0.78      0.99      0.17  0.89  ...   \n",
       "456         70       0.67    0.78      1.00      0.72  0.89  ...   \n",
       "61          70       0.20    0.78      1.00      0.32  0.89  ...   \n",
       "..         ...        ...     ...       ...       ...   ...  ...   \n",
       "467         70       0.00    0.00      1.00      0.00  0.50  ...   \n",
       "466         70       0.00    0.00      1.00      0.00  0.50  ...   \n",
       "465         70       0.00    0.00      1.00      0.00  0.50  ...   \n",
       "464         70       0.00    0.00      1.00      0.00  0.50  ...   \n",
       "102         70       0.00    0.00      1.00      0.00  0.50  ...   \n",
       "\n",
       "     Number of predicted anomalies  True Positives  False Positives   \n",
       "97                              84              46               38  \\\n",
       "98                             103              46               57   \n",
       "62                             487              46              441   \n",
       "456                             69              46               23   \n",
       "61                             226              46              180   \n",
       "..                             ...             ...              ...   \n",
       "467                              0               0                0   \n",
       "466                              0               0                0   \n",
       "465                              0               0                0   \n",
       "464                              0               0                0   \n",
       "102                              0               0                0   \n",
       "\n",
       "     True Negatives  False Negatives  Threshold    Execution Time (s)   \n",
       "97            78470               13        0.0     6.758800745010376  \\\n",
       "98            78451               13        0.0     6.807952880859375   \n",
       "62            78067               13        0.0    0.3663063049316406   \n",
       "456           78485               13       0.01    12.859455347061157   \n",
       "61            78328               13        0.0   0.39212536811828613   \n",
       "..              ...              ...        ...                   ...   \n",
       "467           78508               59        nan    18.243993043899536   \n",
       "466           78508               59        nan     17.92073106765747   \n",
       "465           78508               59        nan     18.15277862548828   \n",
       "464           78508               59        nan    18.188961505889893   \n",
       "102           78508               59        nan     7.328582525253296   \n",
       "\n",
       "    Contamination n_neighbors n_estimators  \n",
       "97          0.005           5         None  \n",
       "98           0.01           5         None  \n",
       "62           0.01          10         None  \n",
       "456         0.001           5         None  \n",
       "61          0.005          10         None  \n",
       "..            ...         ...          ...  \n",
       "467          0.15           5         None  \n",
       "466           0.1           5         None  \n",
       "465          0.05           5         None  \n",
       "464          0.01           5         None  \n",
       "102         0.001           5         None  \n",
       "\n",
       "[222 rows x 22 columns]"
      ]
     },
     "execution_count": 187,
     "metadata": {},
     "output_type": "execute_result"
    }
   ],
   "source": [
    "df"
   ]
  }
 ],
 "metadata": {
  "kernelspec": {
   "display_name": "Python 3",
   "language": "python",
   "name": "python3"
  },
  "language_info": {
   "codemirror_mode": {
    "name": "ipython",
    "version": 3
   },
   "file_extension": ".py",
   "mimetype": "text/x-python",
   "name": "python",
   "nbconvert_exporter": "python",
   "pygments_lexer": "ipython3",
   "version": "3.11.6"
  }
 },
 "nbformat": 4,
 "nbformat_minor": 2
}
